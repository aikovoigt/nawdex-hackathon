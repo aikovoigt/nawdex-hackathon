{
 "cells": [
  {
   "cell_type": "markdown",
   "metadata": {},
   "source": [
    "# Derive TOA radiative fluxes for CERES SYN1deghourly data\n",
    "\n",
    "This includes calculation of CRE, as well as changing signs and variable names to be consistent with the ICON-NWP model.\n",
    "\n",
    "We do so for the observed and the computed initial fluxes. The latter are indicated in the CERES naming by 'ini\\_'. When renaming to ICON-NWP variable names, we will add '\\_obs' and '\\_comp' to differentiate between the two. Note that the data quality summary of CERES SYN1deg Ed4A advices to compare all-sky TOA fluxes as a measure of the quality of all-sky fluxes, whereas clear-sky fluxes and CRE should only be taken from the computed initial fluxes. This is because the observed clear-sky fluxes are often set to the monthly climatology due to a lack of observed clear-sky scenes.\n",
    "\n",
    "The data quality summary can be found here: https://ceres.larc.nasa.gov/documents/DQ_summaries/CERES_SYN1deg_Ed4A_DQS.pdf\n",
    "\n",
    "Additional notes: \n",
    "* We assume that the CERES data was obtained previously and interpolated to a 1x1 deg lat-lon grid using cdo remapcon for a region covering the North Atlantic. \n",
    "* We use both the Terra-Aqua-Modis aas well as the Terra-NPP product. \n",
    "* The notebook is written for Mistral at DKRZ."
   ]
  },
  {
   "cell_type": "code",
   "execution_count": 1,
   "metadata": {},
   "outputs": [],
   "source": [
    "import numpy as np\n",
    "import xarray as xr"
   ]
  },
  {
   "cell_type": "code",
   "execution_count": 2,
   "metadata": {},
   "outputs": [],
   "source": [
    "def derive_and_store_toafluxes():\n",
    "\n",
    "    for product in ['Terra-Aqua-MODIS_Ed4A','Terra-NPP_Ed1A']:\n",
    "        ds = ( xr.open_mfdataset('/work/bb1018/b380459/OBS/CERES/CERES_SYN1deg/'+\n",
    "                                 'CERES_SYN1deg-1H_'+product+'_Subset_201609-201610.gridr1x1.nc', \n",
    "                                 combine='by_coords', parallel=True, chunks={'time': 1})\n",
    "                                 [['toa_lw_clr_1h', 'toa_lw_all_1h',\n",
    "                                   'toa_sw_clr_1h', 'toa_sw_all_1h', 'toa_solar_all_1h', \n",
    "                                   'ini_toa_lw_clr_1h', 'ini_toa_lw_all_1h',\n",
    "                                   'ini_toa_sw_clr_1h', 'ini_toa_sw_all_1h', \n",
    "                                 ]] )\n",
    "    \n",
    "        #  derive TOA radiative fluxes \n",
    "        ds['swtoaclr_obs'] = ds['toa_solar_all_1h' ] - ds['toa_sw_clr_1h'    ]\n",
    "        ds['swtoaclr_com'] = ds['toa_solar_all_1h' ] - ds['ini_toa_sw_clr_1h']\n",
    "        ds['swtoacre_obs'] = ds['toa_sw_clr_1h'    ] - ds['toa_sw_all_1h'    ]\n",
    "        ds['swtoacre_com'] = ds['ini_toa_sw_clr_1h'] - ds['ini_toa_sw_all_1h']\n",
    "        ds['lwtoaclr_obs'] = ds['toa_lw_clr_1h' ]*(-1)\n",
    "        ds['lwtoaclr_com'] = ds['ini_toa_lw_clr_1h']*(-1)\n",
    "        ds['lwtoacre_obs'] = ds['toa_lw_clr_1h'    ] - ds['toa_lw_all_1h'    ]\n",
    "        ds['lwtoacre_com'] = ds['ini_toa_lw_clr_1h'] - ds['ini_toa_lw_all_1h']\n",
    "        \n",
    "        # rename all-sky ceres variables to icon names\n",
    "        ds = ds.rename({'toa_solar_all_1h' : 'sod_t',\n",
    "                        'toa_sw_all_1h'    : 'sou_t_obs', \n",
    "                        'toa_lw_all_1h'    : 'thb_t_obs',\n",
    "                        'ini_toa_sw_all_1h': 'sou_t_com', \n",
    "                        'ini_toa_lw_all_1h': 'thb_t_com',\n",
    "                       })\n",
    "        \n",
    "        # for longwave fluxes adjust signs to be consistent with ICON\n",
    "        ds['thb_t_obs'  ] = -1*ds['thb_t_obs']\n",
    "        ds['thb_t_com'  ] = -1*ds['thb_t_com']\n",
    "        \n",
    "        # only keep fluxes consistent with ICON-NWP\n",
    "        ds = ds[['sod_t', 'sou_t_obs', 'thb_t_obs', 'sou_t_com', 'thb_t_com',\n",
    "                 'swtoaclr_obs', 'swtoaclr_com', 'swtoacre_obs', 'swtoacre_com',\n",
    "                 'lwtoaclr_obs', 'lwtoaclr_com', 'lwtoacre_obs', 'lwtoacre_com']]\n",
    "        \n",
    "        ds.attrs['CERES-product'] = 'CERES_SYN1deg-1H_'+product\n",
    "    \n",
    "        ds.to_netcdf('/work/bb1018/b380459/OBS/CERES/CERES_SYN1deg/CERES_SYN1deg-1H_'+product+'_Subset_201609-201610.gridr1x1.derivedTOAfluxes.nc')\n",
    "\n",
    "derive_and_store_toafluxes()"
   ]
  },
  {
   "cell_type": "markdown",
   "metadata": {},
   "source": [
    "Manual checking of the derived fluxes by means of ds.mean.compute() verified that the calculation was done correctly: the signs are correct and the values are meaningful."
   ]
  }
 ],
 "metadata": {
  "kernelspec": {
   "display_name": "Nawdex-Hackathon",
   "language": "python",
   "name": "nawdex-hackathon"
  },
  "language_info": {
   "codemirror_mode": {
    "name": "ipython",
    "version": 3
   },
   "file_extension": ".py",
   "mimetype": "text/x-python",
   "name": "python",
   "nbconvert_exporter": "python",
   "pygments_lexer": "ipython3",
   "version": "3.8.6"
  }
 },
 "nbformat": 4,
 "nbformat_minor": 4
}
