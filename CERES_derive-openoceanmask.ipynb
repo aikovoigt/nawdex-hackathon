{
 "cells": [
  {
   "cell_type": "markdown",
   "metadata": {},
   "source": [
    "# Derive mask for open ocean grid boxes for CERES SYN1deg hourly data\n",
    "\n",
    "We build a time-constant mask of open ocean grid cells using the variable 'aux\\_ocean\\_1h' of the CERES data. 'aux\\_ocean\\_1h' is 100\\% for open ocean, but smaller if there is land or sea ice. Because sea ice depends on time, 'aux\\_ocean\\_1h' also depends on time. Here, we take the conservative approach and define a grid cell to be open ocean only if 'aux\\_ocean\\_1h' is 100\\% for all time steps of Sep and Oct 2016.\n",
    "\n",
    "Additional notes: \n",
    "* We assume that the CERES data was obtained previously and interpolated to a 1x1 deg lat-lon grid using cdo remapcon for a region covering the North Atlantic. \n",
    "* We use both the Terra-Aqua-Modis aas well as the Terra-NPP product. \n",
    "* The notebook is written for Mistral at DKRZ."
   ]
  },
  {
   "cell_type": "code",
   "execution_count": 1,
   "metadata": {},
   "outputs": [],
   "source": [
    "import numpy as np\n",
    "import xarray as xr"
   ]
  },
  {
   "cell_type": "markdown",
   "metadata": {},
   "source": [
    "Generate open ocean mask individually for Terra-Aqua-Modis and Terra-NPP products"
   ]
  },
  {
   "cell_type": "code",
   "execution_count": 2,
   "metadata": {},
   "outputs": [],
   "source": [
    "oomask_list = [] \n",
    "for product in ['Terra-Aqua-MODIS_Ed4A','Terra-NPP_Ed1A']:\n",
    "    aux_ocean_1h = ( xr.open_mfdataset('/work/bb1018/b380459/OBS/CERES/CERES_SYN1deg/'+\n",
    "                     'CERES_SYN1deg-1H_'+product+'_Subset_201609-201610.gridr1x1.nc', \n",
    "                     combine='by_coords', parallel=True, chunks={'time': 1})\n",
    "                     ['aux_ocean_1h'] )\n",
    "     \n",
    "    # conservative maks of open ocean: time min of aux_ocean_1h\n",
    "    oomask_list.append(xr.ufuncs.floor(0.01*aux_ocean_1h.min('time')).rename('oomask'))"
   ]
  },
  {
   "cell_type": "markdown",
   "metadata": {},
   "source": [
    "Generate conservative joint open ocean mask: only grid cells that were classified as open ocean in both Terra-Aqua-Modis and Terra-NPP will be kept as open ocean cells. Finally the mask is saved to a netcdf file."
   ]
  },
  {
   "cell_type": "code",
   "execution_count": 3,
   "metadata": {},
   "outputs": [],
   "source": [
    "oomask = xr.ufuncs.floor(0.5*(oomask_list[0]+oomask_list[1]))\n",
    "oomask.to_netcdf('/work/bb1018/b380459/OBS/CERES/CERES_SYN1deg/CERES_SYN1deg_201609-201610.gridr1x1.openoceanmask.nc')"
   ]
  },
  {
   "cell_type": "markdown",
   "metadata": {},
   "source": [
    "For illustration purposes, the mask is plotted below."
   ]
  },
  {
   "cell_type": "code",
   "execution_count": 4,
   "metadata": {},
   "outputs": [
    {
     "data": {
      "text/plain": [
       "<matplotlib.colorbar.Colorbar at 0x2b3a20d8f610>"
      ]
     },
     "execution_count": 4,
     "metadata": {},
     "output_type": "execute_result"
    },
    {
     "data": {
      "image/png": "[encoded data removed]",
      "text/plain": [
       "<Figure size 432x288 with 2 Axes>"
      ]
     },
     "metadata": {
      "needs_background": "light"
     },
     "output_type": "display_data"
    }
   ],
   "source": [
    "import matplotlib.pyplot as plt\n",
    "\n",
    "lons = np.hstack([oomask.lon.values-0.5, oomask.lon.values[-1]+0.5])\n",
    "lats = np.hstack([oomask.lat.values-0.5, oomask.lat.values[-1]+0.5])\n",
    "\n",
    "plt.pcolormesh(lons, lats, oomask)\n",
    "plt.colorbar()"
   ]
  }
 ],
 "metadata": {
  "kernelspec": {
   "display_name": "Nawdex-Hackathon",
   "language": "python",
   "name": "nawdex-hackathon"
  },
  "language_info": {
   "codemirror_mode": {
    "name": "ipython",
    "version": 3
   },
   "file_extension": ".py",
   "mimetype": "text/x-python",
   "name": "python",
   "nbconvert_exporter": "python",
   "pygments_lexer": "ipython3",
   "version": "3.8.5"
  }
 },
 "nbformat": 4,
 "nbformat_minor": 4
}
