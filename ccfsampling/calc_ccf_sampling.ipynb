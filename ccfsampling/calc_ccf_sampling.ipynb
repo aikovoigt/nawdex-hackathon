{
 "cells": [
  {
   "cell_type": "markdown",
   "metadata": {},
   "source": [
    "# Batch analysis for sampling any 2d or 3d field as a function of cloud controlling factors\n",
    "\n",
    "Note: we use the numpy implementation of digitize, which has proven easy to use and sufficiently fast.\n",
    "\n",
    "Aiko Voigt, KIT, 15 Oct 2020"
   ]
  },
  {
   "cell_type": "markdown",
   "metadata": {},
   "source": [
    "Preamble"
   ]
  },
  {
   "cell_type": "code",
   "execution_count": 1,
   "metadata": {},
   "outputs": [],
   "source": [
    "import numpy as np\n",
    "import matplotlib.pyplot as plt\n",
    "import xarray as xr\n",
    "import zarr\n",
    "import shutil"
   ]
  },
  {
   "cell_type": "code",
   "execution_count": 2,
   "metadata": {},
   "outputs": [],
   "source": [
    "import dask\n",
    "dask.config.set({\"array.slicing.split_large_chunks\": True})\n",
    "\n",
    "from dask.distributed import Client\n",
    "client = Client()"
   ]
  },
  {
   "cell_type": "code",
   "execution_count": 3,
   "metadata": {},
   "outputs": [
    {
     "data": {
      "text/html": [
       "<table style=\"border: 2px solid white;\">\n",
       "<tr>\n",
       "<td style=\"vertical-align: top; border: 0px solid white\">\n",
       "<h3 style=\"text-align: left;\">Client</h3>\n",
       "<ul style=\"text-align: left; list-style: none; margin: 0; padding: 0;\">\n",
       "  <li><b>Scheduler: </b>tcp://127.0.0.1:37670</li>\n",
       "  <li><b>Dashboard: </b><a href='http://127.0.0.1:8787/status' target='_blank'>http://127.0.0.1:8787/status</a></li>\n",
       "</ul>\n",
       "</td>\n",
       "<td style=\"vertical-align: top; border: 0px solid white\">\n",
       "<h3 style=\"text-align: left;\">Cluster</h3>\n",
       "<ul style=\"text-align: left; list-style:none; margin: 0; padding: 0;\">\n",
       "  <li><b>Workers: </b>8</li>\n",
       "  <li><b>Cores: </b>48</li>\n",
       "  <li><b>Memory: </b>134.22 GB</li>\n",
       "</ul>\n",
       "</td>\n",
       "</tr>\n",
       "</table>"
      ],
      "text/plain": [
       "<Client: 'tcp://127.0.0.1:37670' processes=8 threads=48, memory=134.22 GB>"
      ]
     },
     "execution_count": 3,
     "metadata": {},
     "output_type": "execute_result"
    }
   ],
   "source": [
    "client"
   ]
  },
  {
   "cell_type": "code",
   "execution_count": 4,
   "metadata": {},
   "outputs": [],
   "source": [
    "import sys\n",
    "sys.path.append('/pf/b/b380459/nawdex-hackathon/shared')\n",
    "\n",
    "import dict_nawdexsims\n",
    "simdict = dict_nawdexsims.simdictionary()\n",
    "\n",
    "import nawdexutils as nawut"
   ]
  },
  {
   "cell_type": "markdown",
   "metadata": {},
   "source": [
    "### Ancillary functions for loading data"
   ]
  },
  {
   "cell_type": "code",
   "execution_count": 5,
   "metadata": {},
   "outputs": [],
   "source": [
    "def load_griddata(gridres):\n",
    "    path  = '/work/bb1018/icon_4_hackathon/'\n",
    "    dict_gridres={'80km': 'R80000m', '40km': 'R40000m', '20km': 'R20000m',\n",
    "                  '10km': 'R10000m', '5km': 'R5000m', '2km': 'R2500m'}\n",
    "    fname = path+'/grids/icon-grid_nawdex_78w40e23n80n_'+dict_gridres[gridres]+'.nc'\n",
    "    return xr.open_dataset(fname)['cell_area'].rename({'cell': 'ncells'}) \n",
    "\n",
    "def load_openoceanmask(expid):\n",
    "    path  = '/work/bb1018/nawdex-hackathon_pp/'\n",
    "    fname = path+'/openoceanmask/'+expid+'_openoceanmask.nc'\n",
    "    return xr.open_dataset(fname)['mask_openocean']  \n",
    "\n",
    "def load_ccf(expid, ccf):\n",
    "    path  = '/scratch/b/b380459/icon_4_hackathon/'\n",
    "    dict_stream = {'omega': 'rh_omega_DOM01_PL', 't_g': '2d_30min_DOM01_ML'}\n",
    "    fname = path+'/'+expid+'/'+expid+'_2016*_'+dict_stream[ccf]+'_0*.nc'\n",
    "    ds = ( xr.open_mfdataset(fname,combine='by_coords',parallel=True, \n",
    "                             engine='h5netcdf', chunks={'time': 1})\n",
    "           [ccf].resample(time=\"1H\").nearest(tolerance=\"5M\") )\n",
    "    if ccf == 'omega':\n",
    "        ds = ds.sel(lev=500e2)\n",
    "    return ds\n",
    "\n",
    "def load_var(expid, var):\n",
    "    path  = '/scratch/b/b380459/icon_4_hackathon/'\n",
    "    dict_stream = {'clct': '2d_30min', 'clch': '2d_30min',\n",
    "                   'clcm': '2d_30min', 'clcl': '2d_30min',\n",
    "                   'clc': '3dcloud'}\n",
    "    fname = path+'/'+expid+'/'+expid+'_2016*_'+dict_stream[var]+'_DOM01_ML_0*.nc'\n",
    "    return ( xr.open_mfdataset(fname,\n",
    "                               combine='by_coords',parallel=True, \n",
    "                               engine='h5netcdf', chunks={'time': 1})\n",
    "             [var].resample(time=\"1H\").nearest(tolerance=\"5M\").squeeze() )\n",
    "\n",
    "def load_var_ddt_temp_rad_fromflux(expid, var):\n",
    "    # open previously calculated radiative heating rates from zarr store\n",
    "    zarr_store = '/work/bb1018/nawdex-hackathon_pp/ddttemp_rad-from-fluxes/'+expid+'_ddttemp_rad-from-fluxes_DOM01_ML.zarr'\n",
    "    return ( xr.open_zarr(zarr_store)\n",
    "             [var].resample(time=\"1H\").nearest(tolerance=\"5M\").squeeze() )\n",
    "\n",
    "# Load cloud controlling factor, which is a 2d field (time x ncells)\n",
    "def prepare_ccf_dataset(expid, resolution, ccf):\n",
    "    \n",
    "    # open ocean mask\n",
    "    da_oom = load_openoceanmask(expid)\n",
    "    index  = np.where(da_oom==1)[0]\n",
    "    \n",
    "    # load data and only keep cells over open ocean\n",
    "    ds_grid = load_griddata(resolution).isel(ncells=index)\n",
    "    ds_ccf  = load_ccf(expid, ccf).isel(ncells=index)\n",
    "    \n",
    "    return xr.merge([ds_grid, ds_ccf])\n",
    "\n",
    "# Load variable that will be sampled on cloud controlling factor, this\n",
    "# can be a 2d field (time x ncells) or a 3d field (time x height x ncells), \n",
    "# and it can also be the radiative heating rates provided in zarr stores\n",
    "def prepare_var_dataset(expid, resolution, var):\n",
    "    # open ocean mask\n",
    "    da_oom = load_openoceanmask(expid)\n",
    "    index  = np.where(da_oom==1)[0]\n",
    "    \n",
    "    # load data and only keep cells over open ocean\n",
    "    ds_grid = load_griddata(resolution).isel(ncells=index)\n",
    "    # special treament for diagnosed rad heating rates stored in zarr stores\n",
    "    if var in ['ddt_temp_radlw_fromflux', 'ddt_temp_radlwclr_fromflux',\n",
    "               'ddt_temp_radsw_fromflux', 'ddt_temp_radswclr_fromflux']:\n",
    "        ds_var  = load_var_ddt_temp_rad_fromflux(expid, var).isel(ncells=index)\n",
    "    else:\n",
    "        ds_var  = load_var(expid, var).isel(ncells=index)\n",
    "    \n",
    "    \n",
    "    return xr.merge([ds_grid, ds_var])"
   ]
  },
  {
   "cell_type": "markdown",
   "metadata": {},
   "source": [
    "### Ancillary functions for indexing ccf data and for sampling variable on ccf"
   ]
  },
  {
   "cell_type": "markdown",
   "metadata": {},
   "source": [
    "Function to index grid cells according to which bin in the ccf they belong to"
   ]
  },
  {
   "cell_type": "code",
   "execution_count": 6,
   "metadata": {},
   "outputs": [],
   "source": [
    "def make_ccf_binindexing(ds_in, nbins, binrange):\n",
    "    # input: dataset ds_in, assumed to contain the cloud controlling factor (ccf)\n",
    "    # as well as the surface area of the grid cells (cell_area)\n",
    "    # output: for each cell and time step, the function return the binning index\n",
    "    # of the cloud controlling factor\n",
    "    \n",
    "    # define surface area weights, which we add to output dataset for later use\n",
    "    weights = np.broadcast_to(ds_in['cell_area'], ds_in['ccf'].shape)\n",
    "    # define binning edges based on \n",
    "    bins_edges = np.linspace(binrange[0], binrange[1], nbins+1)\n",
    "    # calculate centre of bins from the edges of the bins\n",
    "    bins = bins_edges[1:] - 0.5*np.abs(bins_edges[1]-bins_edges[0])\n",
    "    # for each entry of omega, ccf_indices gives the bin index it belongs to\n",
    "    ccf_indices  = np.digitize(ds_in['ccf'], bins)\n",
    "    \n",
    "    # make an output dataset that contains ccf_indices, weights, bins and bins_edges\n",
    "    ds_out = ( xr.Dataset(\n",
    "               {'ccf_indices': (['time','ncells'], ccf_indices),\n",
    "                'weights': (['time','ncells'], weights),},\n",
    "                coords={'time': (['time'], ds_in.time),\n",
    "                        'bins': (['bins'], bins),\n",
    "                        'bins_edges': (['bins_edges'], bins_edges),\n",
    "                        'clon': (['ncells'], ds_in.clon),\n",
    "                        'clat': (['ncells'], ds_in.clat)},\n",
    "    ) )\n",
    "    ds_out['time'].attrs = ds_in['time'].attrs\n",
    "    ds_out['bins'].attrs['units'] = ds_in['ccf'].attrs['units']\n",
    "    ds_out['bins_edges'].attrs['units'] = ds_in['ccf'].attrs['units']\n",
    "    \n",
    "    # return dataset\n",
    "    return ds_out"
   ]
  },
  {
   "cell_type": "markdown",
   "metadata": {},
   "source": [
    "Function to sampled variable based on cloud controlling factor"
   ]
  },
  {
   "cell_type": "code",
   "execution_count": 19,
   "metadata": {},
   "outputs": [],
   "source": [
    "def make_var_ccfsampled_2dvar(ds_ccfindex, ds_var, varname):\n",
    "    # resample data on ccf bins using numpy for variables with input dimension time x ncells\n",
    "    \n",
    "    import warnings \n",
    "    warnings.filterwarnings(\"ignore\", category=RuntimeWarning) \n",
    "        \n",
    "    # number of bins\n",
    "    nbins = ds_ccfindex['bins'].size\n",
    "    var_sampled = np.zeros(nbins)\n",
    "    \n",
    "    # convert to numpy arrays\n",
    "    indices = ds_ccfindex['ccf_indices'].values\n",
    "    weights = ds_ccfindex['weights'].values\n",
    "    var_x_weights =  ds_var[varname].values * weights\n",
    "    \n",
    "    for n in range(0, nbins):\n",
    "        print(n)\n",
    "        var_sampled[n] = ( np.nansum(var_x_weights[indices==n]) \n",
    "                           / np.nansum(weights[indices==n]) )\n",
    "        \n",
    "    return var_sampled\n",
    "\n",
    "def make_var_ccfsampled_3dvar(ds_ccfindex, ds_var, varname):\n",
    "    # resample data on ccf bins using numpy for variables with input dimension time x height x ncells\n",
    "    # - the 3d-data variable for the 2km simulations can be ~60GB when converted to a numpy array,\n",
    "    #   leading dask to stop for memory reasons\n",
    "    # - the solution is to loop over the height levels\n",
    "    \n",
    "    import dask.array as da\n",
    "    \n",
    "    # number of bins\n",
    "    nbins = ds_ccfindex['bins'].size\n",
    "    var_sampled = np.zeros((nbins, ds_var.height.size))\n",
    "    \n",
    "    ### convert to numpy arrays\n",
    "    indices = ds_ccfindex['ccf_indices'] #.values\n",
    "    weights = ds_ccfindex['weights'] #.values\n",
    "    var_x_weights =  ds_var[varname] * weights\n",
    "    \n",
    "    ds_ccfindex.argwhere()\n",
    "    \n",
    "    for n in range(0, nbins):\n",
    "        var_sampled[n,:] = ( da.nansum(var_x_weights[indices==n], axis=0) \n",
    "                                 / da.nansum(weights[indices==n]) )\n",
    "        \n",
    "    #for k in range(ds_var.height.size):\n",
    "    #    print(k)\n",
    "    #    #var_levelk_x_weights =  ds_var[varname].isel({'height':k}).values * weights\n",
    "    #    var_levelk_x_weights =  ds_var[varname].isel({'height':k}) * weights\n",
    "    #    for n in range(0, nbins):\n",
    "    #        print(n)\n",
    "    #        icells = d = load_griddata(resolution).isel(ncells=index)\n",
    "    #        var_sampled[n,k] = ( np.nansum(var_levelk_x_weights[indices==n]) \n",
    "    #                             / np.nansum(weights[indices==n]) )\n",
    "    \n",
    "    return var_sampled\n",
    "\n",
    "def make_var_ccfsampled(ds_ccfindex, ds_var, varname):\n",
    "    if ds_var[varname].ndim == 2:    # 2d data\n",
    "        var_sampled = make_var_ccfsampled_2dvar(ds_ccfindex, ds_var, varname)\n",
    "    elif ds_var[varname].ndim == 3:  # 3d data\n",
    "        var_sampled = make_var_ccfsampled_3dvar(ds_ccfindex, ds_var, varname)  \n",
    "    return var_sampled"
   ]
  },
  {
   "cell_type": "markdown",
   "metadata": {},
   "source": [
    "### Batch analysis over simulations, different cloud controlling factors and different variables"
   ]
  },
  {
   "cell_type": "markdown",
   "metadata": {},
   "source": [
    "Define cloud controlling factor and to-be-sampled variable"
   ]
  },
  {
   "cell_type": "markdown",
   "metadata": {},
   "source": [
    "First do the indexing of the grid cells according to the cloud controlling factor"
   ]
  },
  {
   "cell_type": "code",
   "execution_count": null,
   "metadata": {},
   "outputs": [
    {
     "name": "stdout",
     "output_type": "stream",
     "text": [
      "Working on  omega of simulation nawdexnwp-80km-mis-0001\n",
      "Working on  omega of simulation nawdexnwp-80km-mis-0002\n",
      "Working on  omega of simulation nawdexnwp-80km-mis-0003\n",
      "Working on  omega of simulation nawdexnwp-80km-mis-0004\n",
      "Working on  omega of simulation nawdexnwp-80km-mis-0005\n",
      "Working on  omega of simulation nawdexnwp-80km-mis-0006\n",
      "Working on  omega of simulation nawdexnwp-80km-mis-0007\n",
      "Working on  omega of simulation nawdexnwp-80km-mis-0008\n",
      "Working on  omega of simulation nawdexnwp-80km-mis-0009\n",
      "Working on  omega of simulation nawdexnwp-80km-mis-0010\n",
      "Working on  omega of simulation nawdexnwp-40km-mis-0001\n",
      "Working on  omega of simulation nawdexnwp-40km-mis-0002\n",
      "Working on  omega of simulation nawdexnwp-40km-mis-0003\n",
      "Working on  omega of simulation nawdexnwp-40km-mis-0004\n",
      "Working on  omega of simulation nawdexnwp-40km-mis-0005\n",
      "Working on  omega of simulation nawdexnwp-40km-mis-0006\n",
      "Working on  omega of simulation nawdexnwp-40km-mis-0007\n",
      "Working on  omega of simulation nawdexnwp-40km-mis-0008\n",
      "Working on  omega of simulation nawdexnwp-40km-mis-0009\n",
      "Working on  omega of simulation nawdexnwp-40km-mis-0010\n",
      "Working on  omega of simulation nawdexnwp-20km-mis-0001\n",
      "Working on  omega of simulation nawdexnwp-20km-mis-0002\n",
      "Working on  omega of simulation nawdexnwp-20km-mis-0003\n",
      "Working on  omega of simulation nawdexnwp-20km-mis-0004\n",
      "Working on  omega of simulation nawdexnwp-20km-mis-0005\n",
      "Working on  omega of simulation nawdexnwp-20km-mis-0006\n",
      "Working on  omega of simulation nawdexnwp-20km-mis-0007\n",
      "Working on  omega of simulation nawdexnwp-20km-mis-0008\n",
      "Working on  omega of simulation nawdexnwp-20km-mis-0009\n",
      "Working on  omega of simulation nawdexnwp-20km-mis-0010\n",
      "Working on  omega of simulation nawdexnwp-10km-mis-0001\n",
      "Working on  omega of simulation nawdexnwp-10km-mis-0002\n",
      "Working on  omega of simulation nawdexnwp-10km-mis-0003\n",
      "Working on  omega of simulation nawdexnwp-10km-mis-0004\n",
      "Working on  omega of simulation nawdexnwp-10km-mis-0005\n",
      "Working on  omega of simulation nawdexnwp-10km-mis-0006\n",
      "Working on  omega of simulation nawdexnwp-10km-mis-0007\n",
      "Working on  omega of simulation nawdexnwp-10km-mis-0008\n",
      "Working on  omega of simulation nawdexnwp-10km-mis-0009\n",
      "Working on  omega of simulation nawdexnwp-10km-mis-0010\n",
      "Working on  omega of simulation nawdexnwp-10km-mis-0011\n",
      "Working on  omega of simulation nawdexnwp-10km-mis-0012\n",
      "Working on  omega of simulation nawdexnwp-5km-mis-0001\n",
      "Working on  omega of simulation nawdexnwp-5km-mis-0002\n",
      "Working on  omega of simulation nawdexnwp-5km-mis-0003\n",
      "Working on  omega of simulation nawdexnwp-5km-mis-0004\n",
      "Working on  omega of simulation nawdexnwp-5km-mis-0005\n",
      "Working on  omega of simulation nawdexnwp-5km-mis-0006\n",
      "Working on  omega of simulation nawdexnwp-5km-mis-0007\n",
      "Working on  omega of simulation nawdexnwp-5km-mis-0008\n",
      "Working on  omega of simulation nawdexnwp-5km-mis-0009\n",
      "Working on  omega of simulation nawdexnwp-5km-mis-0010\n",
      "Working on  omega of simulation nawdexnwp-5km-mis-0011\n",
      "Working on  omega of simulation nawdexnwp-5km-mis-0012\n",
      "Working on  omega of simulation nawdexnwp-2km-mis-0001\n",
      "Working on  omega of simulation nawdexnwp-2km-mis-0002\n",
      "Working on  omega of simulation nawdexnwp-2km-mis-0003\n",
      "Working on  omega of simulation nawdexnwp-2km-mis-0004\n",
      "Working on  omega of simulation nawdexnwp-2km-mis-0005\n",
      "Working on  omega of simulation nawdexnwp-2km-mis-0006\n"
     ]
    }
   ],
   "source": [
    "dict_binning={'omega':{'nbins':50, 'binrange': [-1.0, 1.0]},\n",
    "              't_g'  :{'nbins':74, 'binrange': [273.0, 310.0]}}\n",
    "\n",
    "for ccf in ['omega', 't_g']:\n",
    "\n",
    "    for sim in list(simdict.keys()): \n",
    "        gridres = (simdict[sim])['res']\n",
    "        print('Working on ', ccf, 'of simulation', sim)\n",
    "        ds_ccf = prepare_ccf_dataset(sim, gridres, ccf)\n",
    "        ds_ccf = nawut.drop_first_day(ds_ccf)\n",
    "        ds_ccfindex = make_ccf_binindexing(ds_ccf[[ccf,'cell_area']].rename({ccf:'ccf'}), \n",
    "                                           nbins=dict_binning[ccf]['nbins'],\n",
    "                                           binrange=dict_binning[ccf]['binrange'])\n",
    "        ds_ccfindex.attrs['ccf'] = ccf\n",
    "        ds_ccfindex.attrs['simulation'] = sim\n",
    "        # store to zarr store\n",
    "        zarr_store = '/work/bb1018/nawdex-hackathon_pp/ccf/'+sim+'_ccf_indexing_'+ccf+'.zarr'\n",
    "        # remove any zarr_store with same name that might have been created previously\n",
    "        shutil.rmtree(zarr_store, ignore_errors=True)\n",
    "        ds_ccfindex.to_zarr(zarr_store)    \n",
    "        del ds_ccfindex"
   ]
  },
  {
   "cell_type": "markdown",
   "metadata": {},
   "source": [
    "Now sample variable on cloud conrolling factor using previously calculated grid cell indices"
   ]
  },
  {
   "cell_type": "code",
   "execution_count": 9,
   "metadata": {},
   "outputs": [],
   "source": [
    "def make_sampling(sim, ccf, var):\n",
    "    gridres = (simdict[sim])['res']\n",
    "    ds_var = prepare_var_dataset(sim, gridres, var)\n",
    "    ds_var = nawut.drop_first_day(ds_var)\n",
    "    # open previously calculated ccf indexing from zarr store\n",
    "    zarr_store = '/work/bb1018/nawdex-hackathon_pp/ccf/'+sim+'_ccf_indexing_'+ccf+'.zarr'\n",
    "    ds_ccfindex = xr.open_zarr(zarr_store)\n",
    "    var_ccfsampled = make_var_ccfsampled(ds_ccfindex, ds_var, var)\n",
    "    # store to netcdf file   \n",
    "    if var_ccfsampled.ndim==1: # 2-d field\n",
    "        var_ccfsampled = xr.DataArray(var_ccfsampled, dims=['bins'], coords={'bins': ds_ccfindex.bins})\n",
    "    if var_ccfsampled.ndim==2: # 3-dfield\n",
    "        var_ccfsampled = xr.DataArray(var_ccfsampled, dims=['bins', 'height'], \n",
    "                                      coords={'bins': ds_ccfindex.bins, 'height': ds_var.height})\n",
    "    var_ccfsampled.name = var+'_ccfsampled'\n",
    "    var_ccfsampled.attrs['ccf'] = ccf\n",
    "    var_ccfsampled.attrs['description'] = var+' sampled on '+ccf+', only over open ocean'\n",
    "    var_ccfsampled.attrs['simulation'] = sim\n",
    "    var_ccfsampled.to_netcdf('/work/bb1018/nawdex-hackathon_pp/ccf/'+sim+'_'+var+'_sampled_on_'+ccf+'.nc', mode='w')"
   ]
  },
  {
   "cell_type": "code",
   "execution_count": 66,
   "metadata": {},
   "outputs": [],
   "source": [
    "# open previously calculated ccf indexing from zarr store\n",
    "zarr_store = '/work/bb1018/nawdex-hackathon_pp/ccf/nawdexnwp-80km-mis-0001_ccf_indexing_omega.zarr'\n",
    "ds_ccfindex = xr.open_zarr(zarr_store)"
   ]
  },
  {
   "cell_type": "code",
   "execution_count": 27,
   "metadata": {},
   "outputs": [],
   "source": [
    "import dask.array as da"
   ]
  },
  {
   "cell_type": "code",
   "execution_count": 50,
   "metadata": {},
   "outputs": [
    {
     "ename": "ValueError",
     "evalue": "the first argument to .isel must be a dictionary",
     "output_type": "error",
     "traceback": [
      "\u001b[0;31m---------------------------------------------------------------------------\u001b[0m",
      "\u001b[0;31mValueError\u001b[0m                                Traceback (most recent call last)",
      "\u001b[0;32m<ipython-input-50-eeca83b8c4b1>\u001b[0m in \u001b[0;36m<module>\u001b[0;34m\u001b[0m\n\u001b[1;32m      1\u001b[0m \u001b[0mind\u001b[0m \u001b[0;34m=\u001b[0m \u001b[0mda\u001b[0m\u001b[0;34m.\u001b[0m\u001b[0margwhere\u001b[0m\u001b[0;34m(\u001b[0m\u001b[0mds_ccfindex\u001b[0m\u001b[0;34m[\u001b[0m\u001b[0;34m'ccf_indices'\u001b[0m\u001b[0;34m]\u001b[0m\u001b[0;34m==\u001b[0m\u001b[0;36m5\u001b[0m\u001b[0;34m)\u001b[0m\u001b[0;34m.\u001b[0m\u001b[0mcompute\u001b[0m\u001b[0;34m(\u001b[0m\u001b[0;34m)\u001b[0m\u001b[0;34m;\u001b[0m \u001b[0;31m#, 1, np.nan).compute())\u001b[0m\u001b[0;34m\u001b[0m\u001b[0;34m\u001b[0m\u001b[0m\n\u001b[0;32m----> 2\u001b[0;31m \u001b[0mds_ccfindex\u001b[0m\u001b[0;34m.\u001b[0m\u001b[0misel\u001b[0m\u001b[0;34m(\u001b[0m\u001b[0mind\u001b[0m\u001b[0;34m[\u001b[0m\u001b[0;36m0\u001b[0m\u001b[0;34m]\u001b[0m\u001b[0;34m)\u001b[0m\u001b[0;34m\u001b[0m\u001b[0;34m\u001b[0m\u001b[0m\n\u001b[0m",
      "\u001b[0;32m~/conda-envs/Nawdex-Hackathon/lib/python3.8/site-packages/xarray/core/dataset.py\u001b[0m in \u001b[0;36misel\u001b[0;34m(self, indexers, drop, missing_dims, **indexers_kwargs)\u001b[0m\n\u001b[1;32m   1951\u001b[0m         \u001b[0mDataArray\u001b[0m\u001b[0;34m.\u001b[0m\u001b[0misel\u001b[0m\u001b[0;34m\u001b[0m\u001b[0;34m\u001b[0m\u001b[0m\n\u001b[1;32m   1952\u001b[0m         \"\"\"\n\u001b[0;32m-> 1953\u001b[0;31m         \u001b[0mindexers\u001b[0m \u001b[0;34m=\u001b[0m \u001b[0meither_dict_or_kwargs\u001b[0m\u001b[0;34m(\u001b[0m\u001b[0mindexers\u001b[0m\u001b[0;34m,\u001b[0m \u001b[0mindexers_kwargs\u001b[0m\u001b[0;34m,\u001b[0m \u001b[0;34m\"isel\"\u001b[0m\u001b[0;34m)\u001b[0m\u001b[0;34m\u001b[0m\u001b[0;34m\u001b[0m\u001b[0m\n\u001b[0m\u001b[1;32m   1954\u001b[0m         \u001b[0;32mif\u001b[0m \u001b[0many\u001b[0m\u001b[0;34m(\u001b[0m\u001b[0mis_fancy_indexer\u001b[0m\u001b[0;34m(\u001b[0m\u001b[0midx\u001b[0m\u001b[0;34m)\u001b[0m \u001b[0;32mfor\u001b[0m \u001b[0midx\u001b[0m \u001b[0;32min\u001b[0m \u001b[0mindexers\u001b[0m\u001b[0;34m.\u001b[0m\u001b[0mvalues\u001b[0m\u001b[0;34m(\u001b[0m\u001b[0;34m)\u001b[0m\u001b[0;34m)\u001b[0m\u001b[0;34m:\u001b[0m\u001b[0;34m\u001b[0m\u001b[0;34m\u001b[0m\u001b[0m\n\u001b[1;32m   1955\u001b[0m             \u001b[0;32mreturn\u001b[0m \u001b[0mself\u001b[0m\u001b[0;34m.\u001b[0m\u001b[0m_isel_fancy\u001b[0m\u001b[0;34m(\u001b[0m\u001b[0mindexers\u001b[0m\u001b[0;34m,\u001b[0m \u001b[0mdrop\u001b[0m\u001b[0;34m=\u001b[0m\u001b[0mdrop\u001b[0m\u001b[0;34m,\u001b[0m \u001b[0mmissing_dims\u001b[0m\u001b[0;34m=\u001b[0m\u001b[0mmissing_dims\u001b[0m\u001b[0;34m)\u001b[0m\u001b[0;34m\u001b[0m\u001b[0;34m\u001b[0m\u001b[0m\n",
      "\u001b[0;32m~/conda-envs/Nawdex-Hackathon/lib/python3.8/site-packages/xarray/core/utils.py\u001b[0m in \u001b[0;36meither_dict_or_kwargs\u001b[0;34m(pos_kwargs, kw_kwargs, func_name)\u001b[0m\n\u001b[1;32m    267\u001b[0m     \u001b[0;32mif\u001b[0m \u001b[0mpos_kwargs\u001b[0m \u001b[0;32mis\u001b[0m \u001b[0;32mnot\u001b[0m \u001b[0;32mNone\u001b[0m\u001b[0;34m:\u001b[0m\u001b[0;34m\u001b[0m\u001b[0;34m\u001b[0m\u001b[0m\n\u001b[1;32m    268\u001b[0m         \u001b[0;32mif\u001b[0m \u001b[0;32mnot\u001b[0m \u001b[0mis_dict_like\u001b[0m\u001b[0;34m(\u001b[0m\u001b[0mpos_kwargs\u001b[0m\u001b[0;34m)\u001b[0m\u001b[0;34m:\u001b[0m\u001b[0;34m\u001b[0m\u001b[0;34m\u001b[0m\u001b[0m\n\u001b[0;32m--> 269\u001b[0;31m             raise ValueError(\n\u001b[0m\u001b[1;32m    270\u001b[0m                 \u001b[0;34m\"the first argument to .%s must be a dictionary\"\u001b[0m \u001b[0;34m%\u001b[0m \u001b[0mfunc_name\u001b[0m\u001b[0;34m\u001b[0m\u001b[0;34m\u001b[0m\u001b[0m\n\u001b[1;32m    271\u001b[0m             )\n",
      "\u001b[0;31mValueError\u001b[0m: the first argument to .isel must be a dictionary"
     ]
    }
   ],
   "source": [
    "ind = da.argwhere(ds_ccfindex['ccf_indices']==5).compute(); #, 1, np.nan).compute())\n",
    "ds_ccfindex.isel(ind[0])"
   ]
  },
  {
   "cell_type": "code",
   "execution_count": 70,
   "metadata": {},
   "outputs": [
    {
     "ename": "AttributeError",
     "evalue": "'DataArray' object has no attribute 'reshape'",
     "output_type": "error",
     "traceback": [
      "\u001b[0;31m---------------------------------------------------------------------------\u001b[0m",
      "\u001b[0;31mAttributeError\u001b[0m                            Traceback (most recent call last)",
      "\u001b[0;32m<ipython-input-70-f1215bc1e311>\u001b[0m in \u001b[0;36m<module>\u001b[0;34m\u001b[0m\n\u001b[0;32m----> 1\u001b[0;31m \u001b[0mda\u001b[0m\u001b[0;34m.\u001b[0m\u001b[0mravel\u001b[0m\u001b[0;34m(\u001b[0m\u001b[0mds_ccfindex\u001b[0m\u001b[0;34m[\u001b[0m\u001b[0;34m'ccf_indices'\u001b[0m\u001b[0;34m]\u001b[0m\u001b[0;34m)\u001b[0m\u001b[0;34m\u001b[0m\u001b[0;34m\u001b[0m\u001b[0m\n\u001b[0m",
      "\u001b[0;32m~/conda-envs/Nawdex-Hackathon/lib/python3.8/site-packages/dask/array/routines.py\u001b[0m in \u001b[0;36mravel\u001b[0;34m(array)\u001b[0m\n\u001b[1;32m   1157\u001b[0m \u001b[0;34m@\u001b[0m\u001b[0mderived_from\u001b[0m\u001b[0;34m(\u001b[0m\u001b[0mnp\u001b[0m\u001b[0;34m)\u001b[0m\u001b[0;34m\u001b[0m\u001b[0;34m\u001b[0m\u001b[0m\n\u001b[1;32m   1158\u001b[0m \u001b[0;32mdef\u001b[0m \u001b[0mravel\u001b[0m\u001b[0;34m(\u001b[0m\u001b[0marray\u001b[0m\u001b[0;34m)\u001b[0m\u001b[0;34m:\u001b[0m\u001b[0;34m\u001b[0m\u001b[0;34m\u001b[0m\u001b[0m\n\u001b[0;32m-> 1159\u001b[0;31m     \u001b[0;32mreturn\u001b[0m \u001b[0marray\u001b[0m\u001b[0;34m.\u001b[0m\u001b[0mreshape\u001b[0m\u001b[0;34m(\u001b[0m\u001b[0;34m(\u001b[0m\u001b[0;34m-\u001b[0m\u001b[0;36m1\u001b[0m\u001b[0;34m,\u001b[0m\u001b[0;34m)\u001b[0m\u001b[0;34m)\u001b[0m\u001b[0;34m\u001b[0m\u001b[0;34m\u001b[0m\u001b[0m\n\u001b[0m\u001b[1;32m   1160\u001b[0m \u001b[0;34m\u001b[0m\u001b[0m\n\u001b[1;32m   1161\u001b[0m \u001b[0;34m\u001b[0m\u001b[0m\n",
      "\u001b[0;32m~/conda-envs/Nawdex-Hackathon/lib/python3.8/site-packages/xarray/core/common.py\u001b[0m in \u001b[0;36m__getattr__\u001b[0;34m(self, name)\u001b[0m\n\u001b[1;32m    226\u001b[0m                 \u001b[0;32mwith\u001b[0m \u001b[0msuppress\u001b[0m\u001b[0;34m(\u001b[0m\u001b[0mKeyError\u001b[0m\u001b[0;34m)\u001b[0m\u001b[0;34m:\u001b[0m\u001b[0;34m\u001b[0m\u001b[0;34m\u001b[0m\u001b[0m\n\u001b[1;32m    227\u001b[0m                     \u001b[0;32mreturn\u001b[0m \u001b[0msource\u001b[0m\u001b[0;34m[\u001b[0m\u001b[0mname\u001b[0m\u001b[0;34m]\u001b[0m\u001b[0;34m\u001b[0m\u001b[0;34m\u001b[0m\u001b[0m\n\u001b[0;32m--> 228\u001b[0;31m         raise AttributeError(\n\u001b[0m\u001b[1;32m    229\u001b[0m             \u001b[0;34m\"{!r} object has no attribute {!r}\"\u001b[0m\u001b[0;34m.\u001b[0m\u001b[0mformat\u001b[0m\u001b[0;34m(\u001b[0m\u001b[0mtype\u001b[0m\u001b[0;34m(\u001b[0m\u001b[0mself\u001b[0m\u001b[0;34m)\u001b[0m\u001b[0;34m.\u001b[0m\u001b[0m__name__\u001b[0m\u001b[0;34m,\u001b[0m \u001b[0mname\u001b[0m\u001b[0;34m)\u001b[0m\u001b[0;34m\u001b[0m\u001b[0;34m\u001b[0m\u001b[0m\n\u001b[1;32m    230\u001b[0m         )\n",
      "\u001b[0;31mAttributeError\u001b[0m: 'DataArray' object has no attribute 'reshape'"
     ]
    }
   ],
   "source": [
    "da.ravel(ds_ccfindex['ccf_indices'])"
   ]
  },
  {
   "cell_type": "code",
   "execution_count": 58,
   "metadata": {},
   "outputs": [
    {
     "data": {
      "text/plain": [
       "array([[False, False, False, ..., False, False, False],\n",
       "       [False, False, False, ..., False, False, False],\n",
       "       [False, False, False, ..., False, False, False],\n",
       "       ...,\n",
       "       [False, False, False, ..., False, False, False],\n",
       "       [False, False, False, ..., False, False, False],\n",
       "       [False, False, False, ..., False, False, False]])"
      ]
     },
     "execution_count": 58,
     "metadata": {},
     "output_type": "execute_result"
    }
   ],
   "source": [
    "da.equal(indices, 6)"
   ]
  },
  {
   "cell_type": "code",
   "execution_count": 55,
   "metadata": {},
   "outputs": [
    {
     "ename": "IndexError",
     "evalue": "Unlabeled multi-dimensional array cannot be used for indexing: time",
     "output_type": "error",
     "traceback": [
      "\u001b[0;31m---------------------------------------------------------------------------\u001b[0m",
      "\u001b[0;31mIndexError\u001b[0m                                Traceback (most recent call last)",
      "\u001b[0;32m<ipython-input-55-6ebaf408786c>\u001b[0m in \u001b[0;36m<module>\u001b[0;34m\u001b[0m\n\u001b[0;32m----> 1\u001b[0;31m \u001b[0mds_ccfindex\u001b[0m\u001b[0;34m[\u001b[0m\u001b[0;34m'ccf_indices'\u001b[0m\u001b[0;34m]\u001b[0m\u001b[0;34m[\u001b[0m\u001b[0mds_ccfindex\u001b[0m\u001b[0;34m[\u001b[0m\u001b[0;34m'ccf_indices'\u001b[0m\u001b[0;34m]\u001b[0m\u001b[0;34m.\u001b[0m\u001b[0mvalues\u001b[0m \u001b[0;34m==\u001b[0m \u001b[0;36m5\u001b[0m\u001b[0;34m]\u001b[0m\u001b[0;34m\u001b[0m\u001b[0;34m\u001b[0m\u001b[0m\n\u001b[0m",
      "\u001b[0;32m~/conda-envs/Nawdex-Hackathon/lib/python3.8/site-packages/xarray/core/dataarray.py\u001b[0m in \u001b[0;36m__getitem__\u001b[0;34m(self, key)\u001b[0m\n\u001b[1;32m    640\u001b[0m         \u001b[0;32melse\u001b[0m\u001b[0;34m:\u001b[0m\u001b[0;34m\u001b[0m\u001b[0;34m\u001b[0m\u001b[0m\n\u001b[1;32m    641\u001b[0m             \u001b[0;31m# xarray-style array indexing\u001b[0m\u001b[0;34m\u001b[0m\u001b[0;34m\u001b[0m\u001b[0;34m\u001b[0m\u001b[0m\n\u001b[0;32m--> 642\u001b[0;31m             \u001b[0;32mreturn\u001b[0m \u001b[0mself\u001b[0m\u001b[0;34m.\u001b[0m\u001b[0misel\u001b[0m\u001b[0;34m(\u001b[0m\u001b[0mindexers\u001b[0m\u001b[0;34m=\u001b[0m\u001b[0mself\u001b[0m\u001b[0;34m.\u001b[0m\u001b[0m_item_key_to_dict\u001b[0m\u001b[0;34m(\u001b[0m\u001b[0mkey\u001b[0m\u001b[0;34m)\u001b[0m\u001b[0;34m)\u001b[0m\u001b[0;34m\u001b[0m\u001b[0;34m\u001b[0m\u001b[0m\n\u001b[0m\u001b[1;32m    643\u001b[0m \u001b[0;34m\u001b[0m\u001b[0m\n\u001b[1;32m    644\u001b[0m     \u001b[0;32mdef\u001b[0m \u001b[0m__setitem__\u001b[0m\u001b[0;34m(\u001b[0m\u001b[0mself\u001b[0m\u001b[0;34m,\u001b[0m \u001b[0mkey\u001b[0m\u001b[0;34m:\u001b[0m \u001b[0mAny\u001b[0m\u001b[0;34m,\u001b[0m \u001b[0mvalue\u001b[0m\u001b[0;34m:\u001b[0m \u001b[0mAny\u001b[0m\u001b[0;34m)\u001b[0m \u001b[0;34m->\u001b[0m \u001b[0;32mNone\u001b[0m\u001b[0;34m:\u001b[0m\u001b[0;34m\u001b[0m\u001b[0;34m\u001b[0m\u001b[0m\n",
      "\u001b[0;32m~/conda-envs/Nawdex-Hackathon/lib/python3.8/site-packages/xarray/core/dataarray.py\u001b[0m in \u001b[0;36misel\u001b[0;34m(self, indexers, drop, missing_dims, **indexers_kwargs)\u001b[0m\n\u001b[1;32m   1037\u001b[0m \u001b[0;34m\u001b[0m\u001b[0m\n\u001b[1;32m   1038\u001b[0m         \u001b[0;32mif\u001b[0m \u001b[0many\u001b[0m\u001b[0;34m(\u001b[0m\u001b[0mis_fancy_indexer\u001b[0m\u001b[0;34m(\u001b[0m\u001b[0midx\u001b[0m\u001b[0;34m)\u001b[0m \u001b[0;32mfor\u001b[0m \u001b[0midx\u001b[0m \u001b[0;32min\u001b[0m \u001b[0mindexers\u001b[0m\u001b[0;34m.\u001b[0m\u001b[0mvalues\u001b[0m\u001b[0;34m(\u001b[0m\u001b[0;34m)\u001b[0m\u001b[0;34m)\u001b[0m\u001b[0;34m:\u001b[0m\u001b[0;34m\u001b[0m\u001b[0;34m\u001b[0m\u001b[0m\n\u001b[0;32m-> 1039\u001b[0;31m             ds = self._to_temp_dataset()._isel_fancy(\n\u001b[0m\u001b[1;32m   1040\u001b[0m                 \u001b[0mindexers\u001b[0m\u001b[0;34m,\u001b[0m \u001b[0mdrop\u001b[0m\u001b[0;34m=\u001b[0m\u001b[0mdrop\u001b[0m\u001b[0;34m,\u001b[0m \u001b[0mmissing_dims\u001b[0m\u001b[0;34m=\u001b[0m\u001b[0mmissing_dims\u001b[0m\u001b[0;34m\u001b[0m\u001b[0;34m\u001b[0m\u001b[0m\n\u001b[1;32m   1041\u001b[0m             )\n",
      "\u001b[0;32m~/conda-envs/Nawdex-Hackathon/lib/python3.8/site-packages/xarray/core/dataset.py\u001b[0m in \u001b[0;36m_isel_fancy\u001b[0;34m(self, indexers, drop, missing_dims)\u001b[0m\n\u001b[1;32m   2000\u001b[0m         \u001b[0;31m# Note: we need to preserve the original indexers variable in order to merge the\u001b[0m\u001b[0;34m\u001b[0m\u001b[0;34m\u001b[0m\u001b[0;34m\u001b[0m\u001b[0m\n\u001b[1;32m   2001\u001b[0m         \u001b[0;31m# coords below\u001b[0m\u001b[0;34m\u001b[0m\u001b[0;34m\u001b[0m\u001b[0;34m\u001b[0m\u001b[0m\n\u001b[0;32m-> 2002\u001b[0;31m         \u001b[0mindexers_list\u001b[0m \u001b[0;34m=\u001b[0m \u001b[0mlist\u001b[0m\u001b[0;34m(\u001b[0m\u001b[0mself\u001b[0m\u001b[0;34m.\u001b[0m\u001b[0m_validate_indexers\u001b[0m\u001b[0;34m(\u001b[0m\u001b[0mindexers\u001b[0m\u001b[0;34m,\u001b[0m \u001b[0mmissing_dims\u001b[0m\u001b[0;34m)\u001b[0m\u001b[0;34m)\u001b[0m\u001b[0;34m\u001b[0m\u001b[0;34m\u001b[0m\u001b[0m\n\u001b[0m\u001b[1;32m   2003\u001b[0m \u001b[0;34m\u001b[0m\u001b[0m\n\u001b[1;32m   2004\u001b[0m         \u001b[0mvariables\u001b[0m\u001b[0;34m:\u001b[0m \u001b[0mDict\u001b[0m\u001b[0;34m[\u001b[0m\u001b[0mHashable\u001b[0m\u001b[0;34m,\u001b[0m \u001b[0mVariable\u001b[0m\u001b[0;34m]\u001b[0m \u001b[0;34m=\u001b[0m \u001b[0;34m{\u001b[0m\u001b[0;34m}\u001b[0m\u001b[0;34m\u001b[0m\u001b[0;34m\u001b[0m\u001b[0m\n",
      "\u001b[0;32m~/conda-envs/Nawdex-Hackathon/lib/python3.8/site-packages/xarray/core/dataset.py\u001b[0m in \u001b[0;36m_validate_indexers\u001b[0;34m(self, indexers, missing_dims)\u001b[0m\n\u001b[1;32m   1833\u001b[0m \u001b[0;34m\u001b[0m\u001b[0m\n\u001b[1;32m   1834\u001b[0m                 \u001b[0;32mif\u001b[0m \u001b[0mv\u001b[0m\u001b[0;34m.\u001b[0m\u001b[0mndim\u001b[0m \u001b[0;34m>\u001b[0m \u001b[0;36m1\u001b[0m\u001b[0;34m:\u001b[0m\u001b[0;34m\u001b[0m\u001b[0;34m\u001b[0m\u001b[0m\n\u001b[0;32m-> 1835\u001b[0;31m                     raise IndexError(\n\u001b[0m\u001b[1;32m   1836\u001b[0m                         \u001b[0;34m\"Unlabeled multi-dimensional array cannot be \"\u001b[0m\u001b[0;34m\u001b[0m\u001b[0;34m\u001b[0m\u001b[0m\n\u001b[1;32m   1837\u001b[0m                         \u001b[0;34m\"used for indexing: {}\"\u001b[0m\u001b[0;34m.\u001b[0m\u001b[0mformat\u001b[0m\u001b[0;34m(\u001b[0m\u001b[0mk\u001b[0m\u001b[0;34m)\u001b[0m\u001b[0;34m\u001b[0m\u001b[0;34m\u001b[0m\u001b[0m\n",
      "\u001b[0;31mIndexError\u001b[0m: Unlabeled multi-dimensional array cannot be used for indexing: time"
     ]
    }
   ],
   "source": [
    "ds_ccfindex['ccf_indices'][ds_ccfindex['ccf_indices'].values == 5]"
   ]
  },
  {
   "cell_type": "code",
   "execution_count": null,
   "metadata": {},
   "outputs": [],
   "source": []
  },
  {
   "cell_type": "code",
   "execution_count": 20,
   "metadata": {},
   "outputs": [
    {
     "name": "stdout",
     "output_type": "stream",
     "text": [
      "ddt_temp_radlwclr_fromflux\n"
     ]
    },
    {
     "ename": "IndexError",
     "evalue": "2-dimensional boolean indexing is not supported. ",
     "output_type": "error",
     "traceback": [
      "\u001b[0;31m---------------------------------------------------------------------------\u001b[0m",
      "\u001b[0;31mIndexError\u001b[0m                                Traceback (most recent call last)",
      "\u001b[0;32m<ipython-input-20-06935b68f476>\u001b[0m in \u001b[0;36m<module>\u001b[0;34m\u001b[0m\n\u001b[1;32m     10\u001b[0m             \u001b[0mgridres\u001b[0m \u001b[0;34m=\u001b[0m \u001b[0;34m(\u001b[0m\u001b[0msimdict\u001b[0m\u001b[0;34m[\u001b[0m\u001b[0msim\u001b[0m\u001b[0;34m]\u001b[0m\u001b[0;34m)\u001b[0m\u001b[0;34m[\u001b[0m\u001b[0;34m'res'\u001b[0m\u001b[0;34m]\u001b[0m\u001b[0;34m\u001b[0m\u001b[0;34m\u001b[0m\u001b[0m\n\u001b[1;32m     11\u001b[0m             \u001b[0;32mif\u001b[0m \u001b[0mgridres\u001b[0m \u001b[0;34m==\u001b[0m \u001b[0;34m'40km'\u001b[0m\u001b[0;34m:\u001b[0m\u001b[0;34m\u001b[0m\u001b[0;34m\u001b[0m\u001b[0m\n\u001b[0;32m---> 12\u001b[0;31m                 \u001b[0mmake_sampling\u001b[0m\u001b[0;34m(\u001b[0m\u001b[0msim\u001b[0m\u001b[0;34m,\u001b[0m \u001b[0mccf\u001b[0m\u001b[0;34m,\u001b[0m \u001b[0mvar\u001b[0m\u001b[0;34m)\u001b[0m\u001b[0;34m\u001b[0m\u001b[0;34m\u001b[0m\u001b[0m\n\u001b[0m",
      "\u001b[0;32m<ipython-input-9-28d27b39db6b>\u001b[0m in \u001b[0;36mmake_sampling\u001b[0;34m(sim, ccf, var)\u001b[0m\n\u001b[1;32m      6\u001b[0m     \u001b[0mzarr_store\u001b[0m \u001b[0;34m=\u001b[0m \u001b[0;34m'/work/bb1018/nawdex-hackathon_pp/ccf/'\u001b[0m\u001b[0;34m+\u001b[0m\u001b[0msim\u001b[0m\u001b[0;34m+\u001b[0m\u001b[0;34m'_ccf_indexing_'\u001b[0m\u001b[0;34m+\u001b[0m\u001b[0mccf\u001b[0m\u001b[0;34m+\u001b[0m\u001b[0;34m'.zarr'\u001b[0m\u001b[0;34m\u001b[0m\u001b[0;34m\u001b[0m\u001b[0m\n\u001b[1;32m      7\u001b[0m     \u001b[0mds_ccfindex\u001b[0m \u001b[0;34m=\u001b[0m \u001b[0mxr\u001b[0m\u001b[0;34m.\u001b[0m\u001b[0mopen_zarr\u001b[0m\u001b[0;34m(\u001b[0m\u001b[0mzarr_store\u001b[0m\u001b[0;34m)\u001b[0m\u001b[0;34m\u001b[0m\u001b[0;34m\u001b[0m\u001b[0m\n\u001b[0;32m----> 8\u001b[0;31m     \u001b[0mvar_ccfsampled\u001b[0m \u001b[0;34m=\u001b[0m \u001b[0mmake_var_ccfsampled\u001b[0m\u001b[0;34m(\u001b[0m\u001b[0mds_ccfindex\u001b[0m\u001b[0;34m,\u001b[0m \u001b[0mds_var\u001b[0m\u001b[0;34m,\u001b[0m \u001b[0mvar\u001b[0m\u001b[0;34m)\u001b[0m\u001b[0;34m\u001b[0m\u001b[0;34m\u001b[0m\u001b[0m\n\u001b[0m\u001b[1;32m      9\u001b[0m     \u001b[0;31m# store to netcdf file\u001b[0m\u001b[0;34m\u001b[0m\u001b[0;34m\u001b[0m\u001b[0;34m\u001b[0m\u001b[0m\n\u001b[1;32m     10\u001b[0m     \u001b[0;32mif\u001b[0m \u001b[0mvar_ccfsampled\u001b[0m\u001b[0;34m.\u001b[0m\u001b[0mndim\u001b[0m\u001b[0;34m==\u001b[0m\u001b[0;36m1\u001b[0m\u001b[0;34m:\u001b[0m \u001b[0;31m# 2-d field\u001b[0m\u001b[0;34m\u001b[0m\u001b[0;34m\u001b[0m\u001b[0m\n",
      "\u001b[0;32m<ipython-input-19-f89dad2db054>\u001b[0m in \u001b[0;36mmake_var_ccfsampled\u001b[0;34m(ds_ccfindex, ds_var, varname)\u001b[0m\n\u001b[1;32m     58\u001b[0m         \u001b[0mvar_sampled\u001b[0m \u001b[0;34m=\u001b[0m \u001b[0mmake_var_ccfsampled_2dvar\u001b[0m\u001b[0;34m(\u001b[0m\u001b[0mds_ccfindex\u001b[0m\u001b[0;34m,\u001b[0m \u001b[0mds_var\u001b[0m\u001b[0;34m,\u001b[0m \u001b[0mvarname\u001b[0m\u001b[0;34m)\u001b[0m\u001b[0;34m\u001b[0m\u001b[0;34m\u001b[0m\u001b[0m\n\u001b[1;32m     59\u001b[0m     \u001b[0;32melif\u001b[0m \u001b[0mds_var\u001b[0m\u001b[0;34m[\u001b[0m\u001b[0mvarname\u001b[0m\u001b[0;34m]\u001b[0m\u001b[0;34m.\u001b[0m\u001b[0mndim\u001b[0m \u001b[0;34m==\u001b[0m \u001b[0;36m3\u001b[0m\u001b[0;34m:\u001b[0m  \u001b[0;31m# 3d data\u001b[0m\u001b[0;34m\u001b[0m\u001b[0;34m\u001b[0m\u001b[0m\n\u001b[0;32m---> 60\u001b[0;31m         \u001b[0mvar_sampled\u001b[0m \u001b[0;34m=\u001b[0m \u001b[0mmake_var_ccfsampled_3dvar\u001b[0m\u001b[0;34m(\u001b[0m\u001b[0mds_ccfindex\u001b[0m\u001b[0;34m,\u001b[0m \u001b[0mds_var\u001b[0m\u001b[0;34m,\u001b[0m \u001b[0mvarname\u001b[0m\u001b[0;34m)\u001b[0m\u001b[0;34m\u001b[0m\u001b[0;34m\u001b[0m\u001b[0m\n\u001b[0m\u001b[1;32m     61\u001b[0m     \u001b[0;32mreturn\u001b[0m \u001b[0mvar_sampled\u001b[0m\u001b[0;34m\u001b[0m\u001b[0;34m\u001b[0m\u001b[0m\n",
      "\u001b[0;32m<ipython-input-19-f89dad2db054>\u001b[0m in \u001b[0;36mmake_var_ccfsampled_3dvar\u001b[0;34m(ds_ccfindex, ds_var, varname)\u001b[0m\n\u001b[1;32m     39\u001b[0m \u001b[0;34m\u001b[0m\u001b[0m\n\u001b[1;32m     40\u001b[0m     \u001b[0;32mfor\u001b[0m \u001b[0mn\u001b[0m \u001b[0;32min\u001b[0m \u001b[0mrange\u001b[0m\u001b[0;34m(\u001b[0m\u001b[0;36m0\u001b[0m\u001b[0;34m,\u001b[0m \u001b[0mnbins\u001b[0m\u001b[0;34m)\u001b[0m\u001b[0;34m:\u001b[0m\u001b[0;34m\u001b[0m\u001b[0;34m\u001b[0m\u001b[0m\n\u001b[0;32m---> 41\u001b[0;31m         var_sampled[n,:] = ( da.nansum(var_x_weights[indices==n], axis=0) \n\u001b[0m\u001b[1;32m     42\u001b[0m                                  / da.nansum(weights[indices==n]) )\n\u001b[1;32m     43\u001b[0m \u001b[0;34m\u001b[0m\u001b[0m\n",
      "\u001b[0;32m~/conda-envs/Nawdex-Hackathon/lib/python3.8/site-packages/xarray/core/dataarray.py\u001b[0m in \u001b[0;36m__getitem__\u001b[0;34m(self, key)\u001b[0m\n\u001b[1;32m    640\u001b[0m         \u001b[0;32melse\u001b[0m\u001b[0;34m:\u001b[0m\u001b[0;34m\u001b[0m\u001b[0;34m\u001b[0m\u001b[0m\n\u001b[1;32m    641\u001b[0m             \u001b[0;31m# xarray-style array indexing\u001b[0m\u001b[0;34m\u001b[0m\u001b[0;34m\u001b[0m\u001b[0;34m\u001b[0m\u001b[0m\n\u001b[0;32m--> 642\u001b[0;31m             \u001b[0;32mreturn\u001b[0m \u001b[0mself\u001b[0m\u001b[0;34m.\u001b[0m\u001b[0misel\u001b[0m\u001b[0;34m(\u001b[0m\u001b[0mindexers\u001b[0m\u001b[0;34m=\u001b[0m\u001b[0mself\u001b[0m\u001b[0;34m.\u001b[0m\u001b[0m_item_key_to_dict\u001b[0m\u001b[0;34m(\u001b[0m\u001b[0mkey\u001b[0m\u001b[0;34m)\u001b[0m\u001b[0;34m)\u001b[0m\u001b[0;34m\u001b[0m\u001b[0;34m\u001b[0m\u001b[0m\n\u001b[0m\u001b[1;32m    643\u001b[0m \u001b[0;34m\u001b[0m\u001b[0m\n\u001b[1;32m    644\u001b[0m     \u001b[0;32mdef\u001b[0m \u001b[0m__setitem__\u001b[0m\u001b[0;34m(\u001b[0m\u001b[0mself\u001b[0m\u001b[0;34m,\u001b[0m \u001b[0mkey\u001b[0m\u001b[0;34m:\u001b[0m \u001b[0mAny\u001b[0m\u001b[0;34m,\u001b[0m \u001b[0mvalue\u001b[0m\u001b[0;34m:\u001b[0m \u001b[0mAny\u001b[0m\u001b[0;34m)\u001b[0m \u001b[0;34m->\u001b[0m \u001b[0;32mNone\u001b[0m\u001b[0;34m:\u001b[0m\u001b[0;34m\u001b[0m\u001b[0;34m\u001b[0m\u001b[0m\n",
      "\u001b[0;32m~/conda-envs/Nawdex-Hackathon/lib/python3.8/site-packages/xarray/core/dataarray.py\u001b[0m in \u001b[0;36misel\u001b[0;34m(self, indexers, drop, missing_dims, **indexers_kwargs)\u001b[0m\n\u001b[1;32m   1037\u001b[0m \u001b[0;34m\u001b[0m\u001b[0m\n\u001b[1;32m   1038\u001b[0m         \u001b[0;32mif\u001b[0m \u001b[0many\u001b[0m\u001b[0;34m(\u001b[0m\u001b[0mis_fancy_indexer\u001b[0m\u001b[0;34m(\u001b[0m\u001b[0midx\u001b[0m\u001b[0;34m)\u001b[0m \u001b[0;32mfor\u001b[0m \u001b[0midx\u001b[0m \u001b[0;32min\u001b[0m \u001b[0mindexers\u001b[0m\u001b[0;34m.\u001b[0m\u001b[0mvalues\u001b[0m\u001b[0;34m(\u001b[0m\u001b[0;34m)\u001b[0m\u001b[0;34m)\u001b[0m\u001b[0;34m:\u001b[0m\u001b[0;34m\u001b[0m\u001b[0;34m\u001b[0m\u001b[0m\n\u001b[0;32m-> 1039\u001b[0;31m             ds = self._to_temp_dataset()._isel_fancy(\n\u001b[0m\u001b[1;32m   1040\u001b[0m                 \u001b[0mindexers\u001b[0m\u001b[0;34m,\u001b[0m \u001b[0mdrop\u001b[0m\u001b[0;34m=\u001b[0m\u001b[0mdrop\u001b[0m\u001b[0;34m,\u001b[0m \u001b[0mmissing_dims\u001b[0m\u001b[0;34m=\u001b[0m\u001b[0mmissing_dims\u001b[0m\u001b[0;34m\u001b[0m\u001b[0;34m\u001b[0m\u001b[0m\n\u001b[1;32m   1041\u001b[0m             )\n",
      "\u001b[0;32m~/conda-envs/Nawdex-Hackathon/lib/python3.8/site-packages/xarray/core/dataset.py\u001b[0m in \u001b[0;36m_isel_fancy\u001b[0;34m(self, indexers, drop, missing_dims)\u001b[0m\n\u001b[1;32m   2011\u001b[0m \u001b[0;34m\u001b[0m\u001b[0m\n\u001b[1;32m   2012\u001b[0m             \u001b[0;32mif\u001b[0m \u001b[0mname\u001b[0m \u001b[0;32min\u001b[0m \u001b[0mself\u001b[0m\u001b[0;34m.\u001b[0m\u001b[0mindexes\u001b[0m\u001b[0;34m:\u001b[0m\u001b[0;34m\u001b[0m\u001b[0;34m\u001b[0m\u001b[0m\n\u001b[0;32m-> 2013\u001b[0;31m                 new_var, new_index = isel_variable_and_index(\n\u001b[0m\u001b[1;32m   2014\u001b[0m                     \u001b[0mname\u001b[0m\u001b[0;34m,\u001b[0m \u001b[0mvar\u001b[0m\u001b[0;34m,\u001b[0m \u001b[0mself\u001b[0m\u001b[0;34m.\u001b[0m\u001b[0mindexes\u001b[0m\u001b[0;34m[\u001b[0m\u001b[0mname\u001b[0m\u001b[0;34m]\u001b[0m\u001b[0;34m,\u001b[0m \u001b[0mvar_indexers\u001b[0m\u001b[0;34m\u001b[0m\u001b[0;34m\u001b[0m\u001b[0m\n\u001b[1;32m   2015\u001b[0m                 )\n",
      "\u001b[0;32m~/conda-envs/Nawdex-Hackathon/lib/python3.8/site-packages/xarray/core/indexes.py\u001b[0m in \u001b[0;36misel_variable_and_index\u001b[0;34m(name, variable, index, indexers)\u001b[0m\n\u001b[1;32m    104\u001b[0m         )\n\u001b[1;32m    105\u001b[0m \u001b[0;34m\u001b[0m\u001b[0m\n\u001b[0;32m--> 106\u001b[0;31m     \u001b[0mnew_variable\u001b[0m \u001b[0;34m=\u001b[0m \u001b[0mvariable\u001b[0m\u001b[0;34m.\u001b[0m\u001b[0misel\u001b[0m\u001b[0;34m(\u001b[0m\u001b[0mindexers\u001b[0m\u001b[0;34m)\u001b[0m\u001b[0;34m\u001b[0m\u001b[0;34m\u001b[0m\u001b[0m\n\u001b[0m\u001b[1;32m    107\u001b[0m \u001b[0;34m\u001b[0m\u001b[0m\n\u001b[1;32m    108\u001b[0m     \u001b[0;32mif\u001b[0m \u001b[0mnew_variable\u001b[0m\u001b[0;34m.\u001b[0m\u001b[0mdims\u001b[0m \u001b[0;34m!=\u001b[0m \u001b[0;34m(\u001b[0m\u001b[0mname\u001b[0m\u001b[0;34m,\u001b[0m\u001b[0;34m)\u001b[0m\u001b[0;34m:\u001b[0m\u001b[0;34m\u001b[0m\u001b[0;34m\u001b[0m\u001b[0m\n",
      "\u001b[0;32m~/conda-envs/Nawdex-Hackathon/lib/python3.8/site-packages/xarray/core/variable.py\u001b[0m in \u001b[0;36misel\u001b[0;34m(self, indexers, missing_dims, **indexers_kwargs)\u001b[0m\n\u001b[1;32m   1116\u001b[0m \u001b[0;34m\u001b[0m\u001b[0m\n\u001b[1;32m   1117\u001b[0m         \u001b[0mkey\u001b[0m \u001b[0;34m=\u001b[0m \u001b[0mtuple\u001b[0m\u001b[0;34m(\u001b[0m\u001b[0mindexers\u001b[0m\u001b[0;34m.\u001b[0m\u001b[0mget\u001b[0m\u001b[0;34m(\u001b[0m\u001b[0mdim\u001b[0m\u001b[0;34m,\u001b[0m \u001b[0mslice\u001b[0m\u001b[0;34m(\u001b[0m\u001b[0;32mNone\u001b[0m\u001b[0;34m)\u001b[0m\u001b[0;34m)\u001b[0m \u001b[0;32mfor\u001b[0m \u001b[0mdim\u001b[0m \u001b[0;32min\u001b[0m \u001b[0mself\u001b[0m\u001b[0;34m.\u001b[0m\u001b[0mdims\u001b[0m\u001b[0;34m)\u001b[0m\u001b[0;34m\u001b[0m\u001b[0;34m\u001b[0m\u001b[0m\n\u001b[0;32m-> 1118\u001b[0;31m         \u001b[0;32mreturn\u001b[0m \u001b[0mself\u001b[0m\u001b[0;34m[\u001b[0m\u001b[0mkey\u001b[0m\u001b[0;34m]\u001b[0m\u001b[0;34m\u001b[0m\u001b[0;34m\u001b[0m\u001b[0m\n\u001b[0m\u001b[1;32m   1119\u001b[0m \u001b[0;34m\u001b[0m\u001b[0m\n\u001b[1;32m   1120\u001b[0m     \u001b[0;32mdef\u001b[0m \u001b[0msqueeze\u001b[0m\u001b[0;34m(\u001b[0m\u001b[0mself\u001b[0m\u001b[0;34m,\u001b[0m \u001b[0mdim\u001b[0m\u001b[0;34m=\u001b[0m\u001b[0;32mNone\u001b[0m\u001b[0;34m)\u001b[0m\u001b[0;34m:\u001b[0m\u001b[0;34m\u001b[0m\u001b[0;34m\u001b[0m\u001b[0m\n",
      "\u001b[0;32m~/conda-envs/Nawdex-Hackathon/lib/python3.8/site-packages/xarray/core/variable.py\u001b[0m in \u001b[0;36m__getitem__\u001b[0;34m(self, key)\u001b[0m\n\u001b[1;32m    764\u001b[0m         \u001b[0marray\u001b[0m\u001b[0;31m \u001b[0m\u001b[0;31m`\u001b[0m\u001b[0mx\u001b[0m\u001b[0;34m.\u001b[0m\u001b[0mvalues\u001b[0m\u001b[0;31m`\u001b[0m \u001b[0mdirectly\u001b[0m\u001b[0;34m.\u001b[0m\u001b[0;34m\u001b[0m\u001b[0;34m\u001b[0m\u001b[0m\n\u001b[1;32m    765\u001b[0m         \"\"\"\n\u001b[0;32m--> 766\u001b[0;31m         \u001b[0mdims\u001b[0m\u001b[0;34m,\u001b[0m \u001b[0mindexer\u001b[0m\u001b[0;34m,\u001b[0m \u001b[0mnew_order\u001b[0m \u001b[0;34m=\u001b[0m \u001b[0mself\u001b[0m\u001b[0;34m.\u001b[0m\u001b[0m_broadcast_indexes\u001b[0m\u001b[0;34m(\u001b[0m\u001b[0mkey\u001b[0m\u001b[0;34m)\u001b[0m\u001b[0;34m\u001b[0m\u001b[0;34m\u001b[0m\u001b[0m\n\u001b[0m\u001b[1;32m    767\u001b[0m         \u001b[0mdata\u001b[0m \u001b[0;34m=\u001b[0m \u001b[0mas_indexable\u001b[0m\u001b[0;34m(\u001b[0m\u001b[0mself\u001b[0m\u001b[0;34m.\u001b[0m\u001b[0m_data\u001b[0m\u001b[0;34m)\u001b[0m\u001b[0;34m[\u001b[0m\u001b[0mindexer\u001b[0m\u001b[0;34m]\u001b[0m\u001b[0;34m\u001b[0m\u001b[0;34m\u001b[0m\u001b[0m\n\u001b[1;32m    768\u001b[0m         \u001b[0;32mif\u001b[0m \u001b[0mnew_order\u001b[0m\u001b[0;34m:\u001b[0m\u001b[0;34m\u001b[0m\u001b[0;34m\u001b[0m\u001b[0m\n",
      "\u001b[0;32m~/conda-envs/Nawdex-Hackathon/lib/python3.8/site-packages/xarray/core/variable.py\u001b[0m in \u001b[0;36m_broadcast_indexes\u001b[0;34m(self, key)\u001b[0m\n\u001b[1;32m    605\u001b[0m             \u001b[0;32mreturn\u001b[0m \u001b[0mself\u001b[0m\u001b[0;34m.\u001b[0m\u001b[0m_broadcast_indexes_basic\u001b[0m\u001b[0;34m(\u001b[0m\u001b[0mkey\u001b[0m\u001b[0;34m)\u001b[0m\u001b[0;34m\u001b[0m\u001b[0;34m\u001b[0m\u001b[0m\n\u001b[1;32m    606\u001b[0m \u001b[0;34m\u001b[0m\u001b[0m\n\u001b[0;32m--> 607\u001b[0;31m         \u001b[0mself\u001b[0m\u001b[0;34m.\u001b[0m\u001b[0m_validate_indexers\u001b[0m\u001b[0;34m(\u001b[0m\u001b[0mkey\u001b[0m\u001b[0;34m)\u001b[0m\u001b[0;34m\u001b[0m\u001b[0;34m\u001b[0m\u001b[0m\n\u001b[0m\u001b[1;32m    608\u001b[0m         \u001b[0;31m# Detect it can be mapped as an outer indexer\u001b[0m\u001b[0;34m\u001b[0m\u001b[0;34m\u001b[0m\u001b[0;34m\u001b[0m\u001b[0m\n\u001b[1;32m    609\u001b[0m         \u001b[0;31m# If all key is unlabeled, or\u001b[0m\u001b[0;34m\u001b[0m\u001b[0;34m\u001b[0m\u001b[0;34m\u001b[0m\u001b[0m\n",
      "\u001b[0;32m~/conda-envs/Nawdex-Hackathon/lib/python3.8/site-packages/xarray/core/variable.py\u001b[0m in \u001b[0;36m_validate_indexers\u001b[0;34m(self, key)\u001b[0m\n\u001b[1;32m    653\u001b[0m                         )\n\u001b[1;32m    654\u001b[0m                     \u001b[0;32mif\u001b[0m \u001b[0mk\u001b[0m\u001b[0;34m.\u001b[0m\u001b[0mndim\u001b[0m \u001b[0;34m>\u001b[0m \u001b[0;36m1\u001b[0m\u001b[0;34m:\u001b[0m\u001b[0;34m\u001b[0m\u001b[0;34m\u001b[0m\u001b[0m\n\u001b[0;32m--> 655\u001b[0;31m                         raise IndexError(\n\u001b[0m\u001b[1;32m    656\u001b[0m                             \u001b[0;34m\"{}-dimensional boolean indexing is \"\u001b[0m\u001b[0;34m\u001b[0m\u001b[0;34m\u001b[0m\u001b[0m\n\u001b[1;32m    657\u001b[0m                             \u001b[0;34m\"not supported. \"\u001b[0m\u001b[0;34m.\u001b[0m\u001b[0mformat\u001b[0m\u001b[0;34m(\u001b[0m\u001b[0mk\u001b[0m\u001b[0;34m.\u001b[0m\u001b[0mndim\u001b[0m\u001b[0;34m)\u001b[0m\u001b[0;34m\u001b[0m\u001b[0;34m\u001b[0m\u001b[0m\n",
      "\u001b[0;31mIndexError\u001b[0m: 2-dimensional boolean indexing is not supported. "
     ]
    }
   ],
   "source": [
    "ccf_list = ['omega']#, 't_g']\n",
    "\n",
    "var2d_list = ['clch', 'clcm', 'clcl']\n",
    "var3d_list = ['ddt_temp_radlwclr_fromflux']#, 'ddt_temp_radlw_fromflux']\n",
    "\n",
    "for ccf in ccf_list:\n",
    "    for var in var3d_list:\n",
    "        print(var)\n",
    "        for sim in list(simdict.keys()): \n",
    "            gridres = (simdict[sim])['res']\n",
    "            if gridres == '40km':\n",
    "                make_sampling(sim, ccf, var)"
   ]
  },
  {
   "cell_type": "markdown",
   "metadata": {},
   "source": [
    "## Cleaning up before leaving"
   ]
  },
  {
   "cell_type": "code",
   "execution_count": null,
   "metadata": {},
   "outputs": [],
   "source": [
    "client.shutdown()\n",
    "client.close()"
   ]
  }
 ],
 "metadata": {
  "kernelspec": {
   "display_name": "Nawdex-Hackathon",
   "language": "python",
   "name": "nawdex-hackathon"
  },
  "language_info": {
   "codemirror_mode": {
    "name": "ipython",
    "version": 3
   },
   "file_extension": ".py",
   "mimetype": "text/x-python",
   "name": "python",
   "nbconvert_exporter": "python",
   "pygments_lexer": "ipython3",
   "version": "3.8.6"
  }
 },
 "nbformat": 4,
 "nbformat_minor": 4
}
