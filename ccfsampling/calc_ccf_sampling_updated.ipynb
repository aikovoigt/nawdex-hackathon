{
 "cells": [
  {
   "cell_type": "markdown",
   "metadata": {},
   "source": [
    "# Batch analysis for sampling any 2d or 3d field as a function of cloud controlling factors\n",
    "\n",
    "Note: we use the numpy implementation of digitize, which has proven easy to use and sufficiently fast.\n",
    "\n",
    "Aiko Voigt, KIT, 15 Oct 2020\n",
    "\n",
    "Preamble\n"
   ]
  },
  {
   "cell_type": "code",
   "execution_count": 1,
   "metadata": {},
   "outputs": [],
   "source": [
    "import numpy as np\n",
    "import matplotlib.pyplot as plt\n",
    "import xarray as xr\n",
    "import zarr\n",
    "import shutil"
   ]
  },
  {
   "cell_type": "code",
   "execution_count": 2,
   "metadata": {},
   "outputs": [],
   "source": [
    "import dask\n",
    "dask.config.set({\"array.slicing.split_large_chunks\": True})\n",
    "\n",
    "from dask.distributed import Client\n",
    "client = Client()"
   ]
  },
  {
   "cell_type": "code",
   "execution_count": 3,
   "metadata": {},
   "outputs": [
    {
     "data": {
      "text/html": [
       "<table style=\"border: 2px solid white;\">\n",
       "<tr>\n",
       "<td style=\"vertical-align: top; border: 0px solid white\">\n",
       "<h3 style=\"text-align: left;\">Client</h3>\n",
       "<ul style=\"text-align: left; list-style: none; margin: 0; padding: 0;\">\n",
       "  <li><b>Scheduler: </b>tcp://127.0.0.1:36789</li>\n",
       "  <li><b>Dashboard: </b><a href='http://127.0.0.1:8787/status' target='_blank'>http://127.0.0.1:8787/status</a></li>\n",
       "</ul>\n",
       "</td>\n",
       "<td style=\"vertical-align: top; border: 0px solid white\">\n",
       "<h3 style=\"text-align: left;\">Cluster</h3>\n",
       "<ul style=\"text-align: left; list-style:none; margin: 0; padding: 0;\">\n",
       "  <li><b>Workers: </b>4</li>\n",
       "  <li><b>Cores: </b>8</li>\n",
       "  <li><b>Memory: </b>22.31 GB</li>\n",
       "</ul>\n",
       "</td>\n",
       "</tr>\n",
       "</table>"
      ],
      "text/plain": [
       "<Client: 'tcp://127.0.0.1:36789' processes=4 threads=8, memory=22.31 GB>"
      ]
     },
     "execution_count": 3,
     "metadata": {},
     "output_type": "execute_result"
    }
   ],
   "source": [
    "client"
   ]
  },
  {
   "cell_type": "code",
   "execution_count": 4,
   "metadata": {},
   "outputs": [],
   "source": [
    "import sys\n",
    "sys.path.append('/pf/b/b380459/nawdex-hackathon/shared')\n",
    "#print(sys.path)\n",
    "\n",
    "import dict_nawdexsims\n",
    "simdict = dict_nawdexsims.simdictionary()\n",
    "\n",
    "import nawdexutils as nawut"
   ]
  },
  {
   "cell_type": "markdown",
   "metadata": {},
   "source": [
    "## Ancillary functions for loading data"
   ]
  },
  {
   "cell_type": "code",
   "execution_count": 5,
   "metadata": {},
   "outputs": [],
   "source": [
    "def load_griddata(gridres):\n",
    "    path  = '/work/bb1018/icon_4_hackathon/'\n",
    "    dict_gridres={'80km': 'R80000m', '40km': 'R40000m', '20km': 'R20000m',\n",
    "                  '10km': 'R10000m', '5km': 'R5000m', '2km': 'R2500m'}\n",
    "    fname = path+'/grids/icon-grid_nawdex_78w40e23n80n_'+dict_gridres[gridres]+'.nc'\n",
    "    return xr.open_dataset(fname)['cell_area'].rename({'cell': 'ncells'}) \n",
    "\n",
    "def load_openoceanmask(expid):\n",
    "    path  = '/work/bb1018/nawdex-hackathon_pp/'\n",
    "    fname = path+'/openoceanmask/'+expid+'_openoceanmask.nc'\n",
    "    return xr.open_dataset(fname)['mask_openocean']  \n",
    "\n",
    "def load_ccf(expid, ccf):\n",
    "    #path  = '/scratch/b/b380459/icon_4_hackathon/'\n",
    "    #dict_stream = {'omega': 'rh_omega_DOM01_PL', 't_g': '2d_30min_DOM01_ML'}\n",
    "    #fname = path+'/'+expid+'/'+expid+'_2016*_'+dict_stream[ccf]+'_0*.nc'\n",
    "    #ds = ( xr.open_mfdataset(fname,combine='by_coords',parallel=True, \n",
    "    #                         engine='h5netcdf', chunks={'time': 1})\n",
    "    #       [ccf].resample(time=\"1H\").nearest(tolerance=\"5M\") )\n",
    "    #if ccf == 'omega':\n",
    "    #    ds = ds.sel(lev=500e2)\n",
    "    #return ds\n",
    "    path  = '/work/bb1018/icon_4_hackathon/upper_tropo_stability'\n",
    "    #path  = '/work/bb1018/nawdex-hackathon_pp/lower_tropo_stability_Elzina'\n",
    "    fname = path+'/uts_'+expid+'.zarr'\n",
    "    ds = ( xr.open_zarr(fname))\n",
    "    if ccf == 'UTS':\n",
    "        ds['UTS'].attrs['units'] = 'K/km'\n",
    "    return ds\n",
    "\n",
    "def load_var(expid, var):\n",
    "    path  = '/work/bb1018/b380459/NAWDEX/ICON_OUTPUT_NWP'\n",
    "    dict_stream = {'clct': '2d_30min', 'clch': '2d_30min',\n",
    "                   'clcm': '2d_30min', 'clcl': '2d_30min',\n",
    "                   'clc': '3dcloud'}\n",
    "    fname = path+'/'+expid+'/'+expid+'_2016*_'+dict_stream[var]+'_DOM01_ML_0*.nc'\n",
    "    return ( xr.open_mfdataset(fname,\n",
    "                               combine='by_coords',parallel=True, \n",
    "                               engine='h5netcdf', chunks={'time': 1})\n",
    "             [var].resample(time=\"1H\").nearest(tolerance=\"5M\").squeeze() )\n",
    "\n",
    "\n",
    "def load_var_ddt_temp_rad_fromflux(expid, var):\n",
    "    # open previously calculated radiative heating rates from zarr store\n",
    "    zarr_store = '/work/bb1018/nawdex-hackathon_pp/ddttemp_rad-from-fluxes/'+expid+'_ddttemp_rad-from-fluxes_DOM01_ML.zarr'\n",
    "    return ( xr.open_zarr(zarr_store)\n",
    "             [var].resample(time=\"1H\").nearest(tolerance=\"5M\").squeeze() )\n",
    "\n",
    "# Load cloud controlling factor, which is a 2d field (time x ncells)\n",
    "def prepare_ccf_dataset(expid, resolution, ccf):\n",
    "    \n",
    "    # open ocean mask\n",
    "    da_oom = load_openoceanmask(expid)\n",
    "    index  = np.where(da_oom==1)[0]\n",
    "    \n",
    "    # load data and only keep cells over open ocean\n",
    "    ds_grid = load_griddata(resolution).isel(ncells=index)\n",
    "    ds_ccf  = load_ccf(expid, ccf).isel(ncells=index)\n",
    "    \n",
    "    return xr.merge([ds_grid, ds_ccf])\n",
    "\n",
    "# Load variable that will be sampled on cloud controlling factor, this\n",
    "# can be a 2d field (time x ncells) or a 3d field (time x height x ncells), \n",
    "# and it can also be the radiative heating rates provided in zarr stores\n",
    "def prepare_var_dataset(expid, resolution, var):\n",
    "    # open ocean mask\n",
    "    da_oom = load_openoceanmask(expid)\n",
    "    index  = np.where(da_oom==1)[0]\n",
    "    \n",
    "    # load data and only keep cells over open ocean\n",
    "    ds_grid = load_griddata(resolution).isel(ncells=index)\n",
    "    # special treament for diagnosed rad heating rates stored in zarr stores\n",
    "    if var in ['ddt_temp_radlw_fromflux', 'ddt_temp_radlwclr_fromflux',\n",
    "               'ddt_temp_radsw_fromflux', 'ddt_temp_radswclr_fromflux']:\n",
    "        ds_var  = load_var_ddt_temp_rad_fromflux(expid, var).isel(ncells=index)\n",
    "    else:\n",
    "        ds_var  = load_var(expid, var).isel(ncells=index)\n",
    "    \n",
    "    \n",
    "    return xr.merge([ds_grid, ds_var])"
   ]
  },
  {
   "cell_type": "markdown",
   "metadata": {},
   "source": [
    "## Ancillary functions for indexing ccf data and for sampling variable on ccf\n",
    "\n",
    "Function to index grid cells according to which bin in the ccf they belong to"
   ]
  },
  {
   "cell_type": "code",
   "execution_count": 6,
   "metadata": {},
   "outputs": [],
   "source": [
    "def make_ccf_binindexing(ds_in, nbins, binrange):\n",
    "    # input: dataset ds_in, assumed to contain the cloud controlling factor (ccf)\n",
    "    # as well as the surface area of the grid cells (cell_area)\n",
    "    # output: for each cell and time step, the function return the binning index\n",
    "    # of the cloud controlling factor\n",
    "    \n",
    "    # define surface area weights, which we add to output dataset for later use\n",
    "    weights = np.broadcast_to(ds_in['cell_area'], ds_in['ccf'].shape)\n",
    "    # define binning edges based on \n",
    "    bins_edges = np.linspace(binrange[0], binrange[1], nbins+1)\n",
    "    # calculate centre of bins from the edges of the bins\n",
    "    bins = bins_edges[1:] - 0.5*np.abs(bins_edges[1]-bins_edges[0])\n",
    "    # for each entry of omega, ccf_indices gives the bin index it belongs to\n",
    "    ccf_indices  = np.digitize(ds_in['ccf'], bins)\n",
    "    \n",
    "    # make an output dataset that contains ccf_indices, weights, bins and bins_edges\n",
    "    ds_out = ( xr.Dataset(\n",
    "               {'ccf_indices': (['time','ncells'], ccf_indices),\n",
    "                'weights': (['time','ncells'], weights),},\n",
    "                coords={'time': (['time'], ds_in.time),\n",
    "                        'bins': (['bins'], bins),\n",
    "                        'bins_edges': (['bins_edges'], bins_edges),\n",
    "                        'clon': (['ncells'], ds_in.clon),\n",
    "                        'clat': (['ncells'], ds_in.clat)},\n",
    "    ) )\n",
    "    ds_out['time'].attrs = ds_in['time'].attrs\n",
    "    ds_out['bins'].attrs['units'] = ds_in['ccf'].attrs['units']\n",
    "    ds_out['bins_edges'].attrs['units'] = ds_in['ccf'].attrs['units']\n",
    "    \n",
    "    # return dataset\n",
    "    return ds_out"
   ]
  },
  {
   "cell_type": "markdown",
   "metadata": {},
   "source": [
    "Function to sampled variable based on cloud controlling factor"
   ]
  },
  {
   "cell_type": "code",
   "execution_count": 7,
   "metadata": {},
   "outputs": [],
   "source": [
    "def make_var_ccfsampled_2dvar(ds_ccfindex, ds_var, varname):\n",
    "    # resample data on ccf bins using numpy for variables with input dimension time x ncells\n",
    "    \n",
    "    import warnings \n",
    "    warnings.filterwarnings(\"ignore\", category=RuntimeWarning) \n",
    "        \n",
    "    # number of bins\n",
    "    nbins = ds_ccfindex['bins'].size\n",
    "    var_sampled = np.zeros(nbins)\n",
    "    \n",
    "    # convert to numpy arrays\n",
    "    indices = ds_ccfindex['ccf_indices'].values\n",
    "    weights = ds_ccfindex['weights'].values\n",
    "    var_x_weights =  ds_var[varname].values * weights\n",
    "    \n",
    "    for n in range(0, nbins):\n",
    "        #print(n)\n",
    "        var_sampled[n] = ( np.nansum(var_x_weights[indices==n]) \n",
    "                           / np.nansum(weights[indices==n]) )\n",
    "        \n",
    "    return var_sampled\n",
    "\n",
    "def make_var_ccfsampled_3dvar(ds_ccfindex, ds_var, varname, resolution, sim):\n",
    "    # resample data on ccf bins using numpy for variables with input dimension time x height x ncells\n",
    "    # - the 3d-data variable for the 2km simulations can be ~60GB when converted to a numpy array,\n",
    "    #   leading dask to stop for memory reasons\n",
    "    # - the solution is to loop over the height levels\n",
    "    \n",
    "    #import dask.array as da\n",
    "    \n",
    "    # number of bins\n",
    "    nbins = ds_ccfindex['bins'].size\n",
    "    var_sampled = np.zeros((nbins, ds_var.height.size))\n",
    "    \n",
    "    ### convert to numpy arrays\n",
    "    indices = ds_ccfindex['ccf_indices'].values\n",
    "    weights = ds_ccfindex['weights'].values\n",
    "    #var_x_weights =  ds_var[varname] * weights\n",
    "    \n",
    "    #da_oom = load_openoceanmask(sim)\n",
    "    #index  = np.where(da_oom==1)[0]\n",
    "    \n",
    "    #ds_ccfindex.argwhere()\n",
    "    \n",
    "    #for n in range(0, nbins):\n",
    "    #    var_sampled[n,:] = ( da.nansum(var_x_weights[indices==n], axis=0) \n",
    "    #                             / da.nansum(weights[indices==n]) )\n",
    "    \n",
    "    #for n in range(0, nbins):\n",
    "    #    var_sampled[n,:] = ( np.nansum(var_x_weights[indices==n], axis=0) \n",
    "    #                       / np.nansum(weights[indices==n]) )\n",
    "        \n",
    "    for k in range(ds_var.height.size):\n",
    "        print('level='+str(k))\n",
    "        var_levelk_x_weights =  ds_var[varname].isel({'height':k}).values * weights\n",
    "        #var_levelk_x_weights =  ds_var[varname].isel({'height':k}) * weights\n",
    "        for n in range(0, nbins):\n",
    "            #print(n)\n",
    "            #icells = d = load_griddata(resolution).isel(ncells=index)\n",
    "            var_sampled[n,k] = ( np.nansum(var_levelk_x_weights[indices==n]) \n",
    "                                 / np.nansum(weights[indices==n]) )\n",
    "    \n",
    "    return var_sampled\n",
    "\n",
    "def make_var_ccfsampled(ds_ccfindex, ds_var, varname, resolution, sim):\n",
    "    if ds_var[varname].ndim == 2:    # 2d data\n",
    "        var_sampled = make_var_ccfsampled_2dvar(ds_ccfindex, ds_var, varname)\n",
    "    elif ds_var[varname].ndim == 3:  # 3d data\n",
    "        var_sampled = make_var_ccfsampled_3dvar(ds_ccfindex, ds_var, varname, resolution, sim)  \n",
    "    return var_sampled"
   ]
  },
  {
   "cell_type": "markdown",
   "metadata": {},
   "source": [
    "## Batch analysis over simulations, different cloud controlling factors and different variables\n",
    "\n",
    "Define cloud controlling factor and to-be-sampled variable\n"
   ]
  },
  {
   "cell_type": "markdown",
   "metadata": {},
   "source": [
    "## Part I - binning \n",
    "\n",
    "First do the indexing of the grid cells according to the cloud controlling factor"
   ]
  },
  {
   "cell_type": "code",
   "execution_count": null,
   "metadata": {},
   "outputs": [],
   "source": [
    "#dict_binning={'omega':{'nbins':50, 'binrange': [-1.0, 1.0]},\n",
    "#              't_g'  :{'nbins':74, 'binrange': [273.0, 310.0]}}\n",
    "\n",
    "dict_binning={'UTS':{'nbins':24, 'binrange': [0.0, 12.0]}}\n",
    "\n",
    "\n",
    "for ccf in ['UTS']: #, 't_g']:\n",
    "\n",
    "    for sim in list(simdict.keys()): \n",
    "        gridres = (simdict[sim])['res']\n",
    "        print('Working on ', ccf, 'of simulation', sim)\n",
    "        ds_ccf = prepare_ccf_dataset(sim, gridres, ccf)\n",
    "        ds_ccf = nawut.drop_first_day(ds_ccf)\n",
    "        ds_ccfindex = make_ccf_binindexing(ds_ccf[[ccf,'cell_area']].rename({ccf:'ccf'}), \n",
    "                                           nbins=dict_binning[ccf]['nbins'],\n",
    "                                           binrange=dict_binning[ccf]['binrange'])\n",
    "        ds_ccfindex.attrs['ccf'] = ccf\n",
    "        ds_ccfindex.attrs['simulation'] = sim\n",
    "        # store to zarr store\n",
    "        zarr_store = '/work/bb1018/nawdex-hackathon_pp/ccf/'+sim+'_ccf_indexing_'+ccf+'.zarr'\n",
    "        # remove any zarr_store with same name that might have been created previously\n",
    "        shutil.rmtree(zarr_store, ignore_errors=True)\n",
    "        ds_ccfindex.to_zarr(zarr_store)    \n",
    "        del ds_ccfindex\n",
    "        "
   ]
  },
  {
   "cell_type": "markdown",
   "metadata": {},
   "source": [
    "## Part II - sampling \n",
    "\n",
    "Now sample variable on cloud conrolling factor using previously calculated grid cell indices"
   ]
  },
  {
   "cell_type": "code",
   "execution_count": 8,
   "metadata": {},
   "outputs": [],
   "source": [
    "def make_sampling(sim, ccf, var):\n",
    "    gridres = (simdict[sim])['res']\n",
    "    ds_var = prepare_var_dataset(sim, gridres, var)\n",
    "    ds_var = nawut.drop_first_day(ds_var)\n",
    "    # open previously calculated ccf indexing from zarr store\n",
    "    zarr_store = '/work/bb1018/nawdex-hackathon_pp/ccf/'+sim+'_ccf_indexing_'+ccf+'.zarr'\n",
    "    ds_ccfindex = xr.open_zarr(zarr_store)\n",
    "    var_ccfsampled = make_var_ccfsampled(ds_ccfindex, ds_var, var, gridres, sim)\n",
    "    # store to netcdf file   \n",
    "    if var_ccfsampled.ndim==1: # 2-d field\n",
    "        var_ccfsampled = xr.DataArray(var_ccfsampled, dims=['bins'], coords={'bins': ds_ccfindex.bins})\n",
    "    if var_ccfsampled.ndim==2: # 3-dfield\n",
    "        var_ccfsampled = xr.DataArray(var_ccfsampled, dims=['bins', 'height'], \n",
    "                                      coords={'bins': ds_ccfindex.bins, 'height': ds_var.height})\n",
    "    var_ccfsampled.name = var+'_ccfsampled'\n",
    "    var_ccfsampled.attrs['ccf'] = ccf\n",
    "    var_ccfsampled.attrs['description'] = var+' sampled on '+ccf+', only over open ocean'\n",
    "    var_ccfsampled.attrs['simulation'] = sim\n",
    "    var_ccfsampled.to_netcdf('/work/bb1018/nawdex-hackathon_pp/ccf/'+sim+'_'+var+'_sampled_on_'+ccf+'.nc', mode='w')"
   ]
  },
  {
   "cell_type": "markdown",
   "metadata": {},
   "source": [
    "Sampling 3D-vars"
   ]
  },
  {
   "cell_type": "code",
   "execution_count": null,
   "metadata": {},
   "outputs": [
    {
     "name": "stdout",
     "output_type": "stream",
     "text": [
      "ddt_temp_radlw_fromflux\n",
      "nawdexnwp-80km-mis-0001\n",
      "level=0\n"
     ]
    },
    {
     "name": "stderr",
     "output_type": "stream",
     "text": [
      "<ipython-input-7-59acc180623c>:60: RuntimeWarning: invalid value encountered in double_scalars\n",
      "  var_sampled[n,k] = ( np.nansum(var_levelk_x_weights[indices==n])\n"
     ]
    },
    {
     "name": "stdout",
     "output_type": "stream",
     "text": [
      "level=1\n"
     ]
    },
    {
     "name": "stderr",
     "output_type": "stream",
     "text": [
      "<ipython-input-7-59acc180623c>:60: RuntimeWarning: invalid value encountered in double_scalars\n",
      "  var_sampled[n,k] = ( np.nansum(var_levelk_x_weights[indices==n])\n"
     ]
    },
    {
     "name": "stdout",
     "output_type": "stream",
     "text": [
      "level=2\n"
     ]
    },
    {
     "name": "stderr",
     "output_type": "stream",
     "text": [
      "<ipython-input-7-59acc180623c>:60: RuntimeWarning: invalid value encountered in double_scalars\n",
      "  var_sampled[n,k] = ( np.nansum(var_levelk_x_weights[indices==n])\n"
     ]
    },
    {
     "name": "stdout",
     "output_type": "stream",
     "text": [
      "level=3\n"
     ]
    },
    {
     "name": "stderr",
     "output_type": "stream",
     "text": [
      "<ipython-input-7-59acc180623c>:60: RuntimeWarning: invalid value encountered in double_scalars\n",
      "  var_sampled[n,k] = ( np.nansum(var_levelk_x_weights[indices==n])\n"
     ]
    },
    {
     "name": "stdout",
     "output_type": "stream",
     "text": [
      "level=4\n"
     ]
    },
    {
     "name": "stderr",
     "output_type": "stream",
     "text": [
      "<ipython-input-7-59acc180623c>:60: RuntimeWarning: invalid value encountered in double_scalars\n",
      "  var_sampled[n,k] = ( np.nansum(var_levelk_x_weights[indices==n])\n"
     ]
    },
    {
     "name": "stdout",
     "output_type": "stream",
     "text": [
      "level=5\n"
     ]
    },
    {
     "name": "stderr",
     "output_type": "stream",
     "text": [
      "<ipython-input-7-59acc180623c>:60: RuntimeWarning: invalid value encountered in double_scalars\n",
      "  var_sampled[n,k] = ( np.nansum(var_levelk_x_weights[indices==n])\n"
     ]
    },
    {
     "name": "stdout",
     "output_type": "stream",
     "text": [
      "level=6\n"
     ]
    },
    {
     "name": "stderr",
     "output_type": "stream",
     "text": [
      "<ipython-input-7-59acc180623c>:60: RuntimeWarning: invalid value encountered in double_scalars\n",
      "  var_sampled[n,k] = ( np.nansum(var_levelk_x_weights[indices==n])\n"
     ]
    },
    {
     "name": "stdout",
     "output_type": "stream",
     "text": [
      "level=7\n"
     ]
    },
    {
     "name": "stderr",
     "output_type": "stream",
     "text": [
      "<ipython-input-7-59acc180623c>:60: RuntimeWarning: invalid value encountered in double_scalars\n",
      "  var_sampled[n,k] = ( np.nansum(var_levelk_x_weights[indices==n])\n"
     ]
    },
    {
     "name": "stdout",
     "output_type": "stream",
     "text": [
      "level=8\n"
     ]
    },
    {
     "name": "stderr",
     "output_type": "stream",
     "text": [
      "<ipython-input-7-59acc180623c>:60: RuntimeWarning: invalid value encountered in double_scalars\n",
      "  var_sampled[n,k] = ( np.nansum(var_levelk_x_weights[indices==n])\n"
     ]
    },
    {
     "name": "stdout",
     "output_type": "stream",
     "text": [
      "level=9\n"
     ]
    },
    {
     "name": "stderr",
     "output_type": "stream",
     "text": [
      "<ipython-input-7-59acc180623c>:60: RuntimeWarning: invalid value encountered in double_scalars\n",
      "  var_sampled[n,k] = ( np.nansum(var_levelk_x_weights[indices==n])\n"
     ]
    },
    {
     "name": "stdout",
     "output_type": "stream",
     "text": [
      "level=10\n"
     ]
    },
    {
     "name": "stderr",
     "output_type": "stream",
     "text": [
      "<ipython-input-7-59acc180623c>:60: RuntimeWarning: invalid value encountered in double_scalars\n",
      "  var_sampled[n,k] = ( np.nansum(var_levelk_x_weights[indices==n])\n"
     ]
    },
    {
     "name": "stdout",
     "output_type": "stream",
     "text": [
      "level=11\n"
     ]
    },
    {
     "name": "stderr",
     "output_type": "stream",
     "text": [
      "<ipython-input-7-59acc180623c>:60: RuntimeWarning: invalid value encountered in double_scalars\n",
      "  var_sampled[n,k] = ( np.nansum(var_levelk_x_weights[indices==n])\n"
     ]
    },
    {
     "name": "stdout",
     "output_type": "stream",
     "text": [
      "level=12\n"
     ]
    },
    {
     "name": "stderr",
     "output_type": "stream",
     "text": [
      "<ipython-input-7-59acc180623c>:60: RuntimeWarning: invalid value encountered in double_scalars\n",
      "  var_sampled[n,k] = ( np.nansum(var_levelk_x_weights[indices==n])\n"
     ]
    },
    {
     "name": "stdout",
     "output_type": "stream",
     "text": [
      "level=13\n"
     ]
    },
    {
     "name": "stderr",
     "output_type": "stream",
     "text": [
      "<ipython-input-7-59acc180623c>:60: RuntimeWarning: invalid value encountered in double_scalars\n",
      "  var_sampled[n,k] = ( np.nansum(var_levelk_x_weights[indices==n])\n"
     ]
    },
    {
     "name": "stdout",
     "output_type": "stream",
     "text": [
      "level=14\n"
     ]
    },
    {
     "name": "stderr",
     "output_type": "stream",
     "text": [
      "<ipython-input-7-59acc180623c>:60: RuntimeWarning: invalid value encountered in double_scalars\n",
      "  var_sampled[n,k] = ( np.nansum(var_levelk_x_weights[indices==n])\n",
      "<ipython-input-7-59acc180623c>:60: RuntimeWarning: invalid value encountered in double_scalars\n",
      "  var_sampled[n,k] = ( np.nansum(var_levelk_x_weights[indices==n])\n"
     ]
    },
    {
     "name": "stdout",
     "output_type": "stream",
     "text": [
      "level=15\n",
      "level=16\n"
     ]
    },
    {
     "name": "stderr",
     "output_type": "stream",
     "text": [
      "<ipython-input-7-59acc180623c>:60: RuntimeWarning: invalid value encountered in double_scalars\n",
      "  var_sampled[n,k] = ( np.nansum(var_levelk_x_weights[indices==n])\n"
     ]
    },
    {
     "name": "stdout",
     "output_type": "stream",
     "text": [
      "level=17\n"
     ]
    },
    {
     "name": "stderr",
     "output_type": "stream",
     "text": [
      "<ipython-input-7-59acc180623c>:60: RuntimeWarning: invalid value encountered in double_scalars\n",
      "  var_sampled[n,k] = ( np.nansum(var_levelk_x_weights[indices==n])\n"
     ]
    },
    {
     "name": "stdout",
     "output_type": "stream",
     "text": [
      "level=18\n"
     ]
    },
    {
     "name": "stderr",
     "output_type": "stream",
     "text": [
      "<ipython-input-7-59acc180623c>:60: RuntimeWarning: invalid value encountered in double_scalars\n",
      "  var_sampled[n,k] = ( np.nansum(var_levelk_x_weights[indices==n])\n"
     ]
    },
    {
     "name": "stdout",
     "output_type": "stream",
     "text": [
      "level=19\n"
     ]
    },
    {
     "name": "stderr",
     "output_type": "stream",
     "text": [
      "<ipython-input-7-59acc180623c>:60: RuntimeWarning: invalid value encountered in double_scalars\n",
      "  var_sampled[n,k] = ( np.nansum(var_levelk_x_weights[indices==n])\n"
     ]
    },
    {
     "name": "stdout",
     "output_type": "stream",
     "text": [
      "level=20\n"
     ]
    },
    {
     "name": "stderr",
     "output_type": "stream",
     "text": [
      "<ipython-input-7-59acc180623c>:60: RuntimeWarning: invalid value encountered in double_scalars\n",
      "  var_sampled[n,k] = ( np.nansum(var_levelk_x_weights[indices==n])\n"
     ]
    },
    {
     "name": "stdout",
     "output_type": "stream",
     "text": [
      "level=21\n"
     ]
    },
    {
     "name": "stderr",
     "output_type": "stream",
     "text": [
      "<ipython-input-7-59acc180623c>:60: RuntimeWarning: invalid value encountered in double_scalars\n",
      "  var_sampled[n,k] = ( np.nansum(var_levelk_x_weights[indices==n])\n"
     ]
    },
    {
     "name": "stdout",
     "output_type": "stream",
     "text": [
      "level=22\n"
     ]
    },
    {
     "name": "stderr",
     "output_type": "stream",
     "text": [
      "<ipython-input-7-59acc180623c>:60: RuntimeWarning: invalid value encountered in double_scalars\n",
      "  var_sampled[n,k] = ( np.nansum(var_levelk_x_weights[indices==n])\n"
     ]
    },
    {
     "name": "stdout",
     "output_type": "stream",
     "text": [
      "level=23\n"
     ]
    },
    {
     "name": "stderr",
     "output_type": "stream",
     "text": [
      "<ipython-input-7-59acc180623c>:60: RuntimeWarning: invalid value encountered in double_scalars\n",
      "  var_sampled[n,k] = ( np.nansum(var_levelk_x_weights[indices==n])\n"
     ]
    },
    {
     "name": "stdout",
     "output_type": "stream",
     "text": [
      "level=24\n"
     ]
    },
    {
     "name": "stderr",
     "output_type": "stream",
     "text": [
      "<ipython-input-7-59acc180623c>:60: RuntimeWarning: invalid value encountered in double_scalars\n",
      "  var_sampled[n,k] = ( np.nansum(var_levelk_x_weights[indices==n])\n"
     ]
    },
    {
     "name": "stdout",
     "output_type": "stream",
     "text": [
      "level=25\n"
     ]
    },
    {
     "name": "stderr",
     "output_type": "stream",
     "text": [
      "<ipython-input-7-59acc180623c>:60: RuntimeWarning: invalid value encountered in double_scalars\n",
      "  var_sampled[n,k] = ( np.nansum(var_levelk_x_weights[indices==n])\n"
     ]
    },
    {
     "name": "stdout",
     "output_type": "stream",
     "text": [
      "level=26\n"
     ]
    },
    {
     "name": "stderr",
     "output_type": "stream",
     "text": [
      "<ipython-input-7-59acc180623c>:60: RuntimeWarning: invalid value encountered in double_scalars\n",
      "  var_sampled[n,k] = ( np.nansum(var_levelk_x_weights[indices==n])\n"
     ]
    },
    {
     "name": "stdout",
     "output_type": "stream",
     "text": [
      "level=27\n"
     ]
    },
    {
     "name": "stderr",
     "output_type": "stream",
     "text": [
      "<ipython-input-7-59acc180623c>:60: RuntimeWarning: invalid value encountered in double_scalars\n",
      "  var_sampled[n,k] = ( np.nansum(var_levelk_x_weights[indices==n])\n"
     ]
    },
    {
     "name": "stdout",
     "output_type": "stream",
     "text": [
      "level=28\n"
     ]
    },
    {
     "name": "stderr",
     "output_type": "stream",
     "text": [
      "<ipython-input-7-59acc180623c>:60: RuntimeWarning: invalid value encountered in double_scalars\n",
      "  var_sampled[n,k] = ( np.nansum(var_levelk_x_weights[indices==n])\n"
     ]
    },
    {
     "name": "stdout",
     "output_type": "stream",
     "text": [
      "level=29\n"
     ]
    },
    {
     "name": "stderr",
     "output_type": "stream",
     "text": [
      "<ipython-input-7-59acc180623c>:60: RuntimeWarning: invalid value encountered in double_scalars\n",
      "  var_sampled[n,k] = ( np.nansum(var_levelk_x_weights[indices==n])\n"
     ]
    },
    {
     "name": "stdout",
     "output_type": "stream",
     "text": [
      "level=30\n"
     ]
    },
    {
     "name": "stderr",
     "output_type": "stream",
     "text": [
      "<ipython-input-7-59acc180623c>:60: RuntimeWarning: invalid value encountered in double_scalars\n",
      "  var_sampled[n,k] = ( np.nansum(var_levelk_x_weights[indices==n])\n"
     ]
    },
    {
     "name": "stdout",
     "output_type": "stream",
     "text": [
      "level=31\n"
     ]
    },
    {
     "name": "stderr",
     "output_type": "stream",
     "text": [
      "<ipython-input-7-59acc180623c>:60: RuntimeWarning: invalid value encountered in double_scalars\n",
      "  var_sampled[n,k] = ( np.nansum(var_levelk_x_weights[indices==n])\n"
     ]
    },
    {
     "name": "stdout",
     "output_type": "stream",
     "text": [
      "level=32\n"
     ]
    },
    {
     "name": "stderr",
     "output_type": "stream",
     "text": [
      "<ipython-input-7-59acc180623c>:60: RuntimeWarning: invalid value encountered in double_scalars\n",
      "  var_sampled[n,k] = ( np.nansum(var_levelk_x_weights[indices==n])\n"
     ]
    },
    {
     "name": "stdout",
     "output_type": "stream",
     "text": [
      "level=33\n"
     ]
    },
    {
     "name": "stderr",
     "output_type": "stream",
     "text": [
      "<ipython-input-7-59acc180623c>:60: RuntimeWarning: invalid value encountered in double_scalars\n",
      "  var_sampled[n,k] = ( np.nansum(var_levelk_x_weights[indices==n])\n"
     ]
    },
    {
     "name": "stdout",
     "output_type": "stream",
     "text": [
      "level=34\n"
     ]
    },
    {
     "name": "stderr",
     "output_type": "stream",
     "text": [
      "<ipython-input-7-59acc180623c>:60: RuntimeWarning: invalid value encountered in double_scalars\n",
      "  var_sampled[n,k] = ( np.nansum(var_levelk_x_weights[indices==n])\n"
     ]
    },
    {
     "name": "stdout",
     "output_type": "stream",
     "text": [
      "level=35\n"
     ]
    },
    {
     "name": "stderr",
     "output_type": "stream",
     "text": [
      "<ipython-input-7-59acc180623c>:60: RuntimeWarning: invalid value encountered in double_scalars\n",
      "  var_sampled[n,k] = ( np.nansum(var_levelk_x_weights[indices==n])\n"
     ]
    },
    {
     "name": "stdout",
     "output_type": "stream",
     "text": [
      "level=36\n"
     ]
    },
    {
     "name": "stderr",
     "output_type": "stream",
     "text": [
      "<ipython-input-7-59acc180623c>:60: RuntimeWarning: invalid value encountered in double_scalars\n",
      "  var_sampled[n,k] = ( np.nansum(var_levelk_x_weights[indices==n])\n"
     ]
    },
    {
     "name": "stdout",
     "output_type": "stream",
     "text": [
      "level=37\n"
     ]
    },
    {
     "name": "stderr",
     "output_type": "stream",
     "text": [
      "<ipython-input-7-59acc180623c>:60: RuntimeWarning: invalid value encountered in double_scalars\n",
      "  var_sampled[n,k] = ( np.nansum(var_levelk_x_weights[indices==n])\n"
     ]
    },
    {
     "name": "stdout",
     "output_type": "stream",
     "text": [
      "level=38\n"
     ]
    },
    {
     "name": "stderr",
     "output_type": "stream",
     "text": [
      "<ipython-input-7-59acc180623c>:60: RuntimeWarning: invalid value encountered in double_scalars\n",
      "  var_sampled[n,k] = ( np.nansum(var_levelk_x_weights[indices==n])\n"
     ]
    },
    {
     "name": "stdout",
     "output_type": "stream",
     "text": [
      "level=39\n"
     ]
    },
    {
     "name": "stderr",
     "output_type": "stream",
     "text": [
      "<ipython-input-7-59acc180623c>:60: RuntimeWarning: invalid value encountered in double_scalars\n",
      "  var_sampled[n,k] = ( np.nansum(var_levelk_x_weights[indices==n])\n"
     ]
    },
    {
     "name": "stdout",
     "output_type": "stream",
     "text": [
      "level=40\n"
     ]
    },
    {
     "name": "stderr",
     "output_type": "stream",
     "text": [
      "<ipython-input-7-59acc180623c>:60: RuntimeWarning: invalid value encountered in double_scalars\n",
      "  var_sampled[n,k] = ( np.nansum(var_levelk_x_weights[indices==n])\n"
     ]
    },
    {
     "name": "stdout",
     "output_type": "stream",
     "text": [
      "level=41\n"
     ]
    },
    {
     "name": "stderr",
     "output_type": "stream",
     "text": [
      "<ipython-input-7-59acc180623c>:60: RuntimeWarning: invalid value encountered in double_scalars\n",
      "  var_sampled[n,k] = ( np.nansum(var_levelk_x_weights[indices==n])\n"
     ]
    },
    {
     "name": "stdout",
     "output_type": "stream",
     "text": [
      "level=42\n"
     ]
    },
    {
     "name": "stderr",
     "output_type": "stream",
     "text": [
      "<ipython-input-7-59acc180623c>:60: RuntimeWarning: invalid value encountered in double_scalars\n",
      "  var_sampled[n,k] = ( np.nansum(var_levelk_x_weights[indices==n])\n"
     ]
    },
    {
     "name": "stdout",
     "output_type": "stream",
     "text": [
      "level=43\n"
     ]
    },
    {
     "name": "stderr",
     "output_type": "stream",
     "text": [
      "<ipython-input-7-59acc180623c>:60: RuntimeWarning: invalid value encountered in double_scalars\n",
      "  var_sampled[n,k] = ( np.nansum(var_levelk_x_weights[indices==n])\n"
     ]
    },
    {
     "name": "stdout",
     "output_type": "stream",
     "text": [
      "level=44\n"
     ]
    },
    {
     "name": "stderr",
     "output_type": "stream",
     "text": [
      "<ipython-input-7-59acc180623c>:60: RuntimeWarning: invalid value encountered in double_scalars\n",
      "  var_sampled[n,k] = ( np.nansum(var_levelk_x_weights[indices==n])\n"
     ]
    },
    {
     "name": "stdout",
     "output_type": "stream",
     "text": [
      "level=45\n"
     ]
    },
    {
     "name": "stderr",
     "output_type": "stream",
     "text": [
      "<ipython-input-7-59acc180623c>:60: RuntimeWarning: invalid value encountered in double_scalars\n",
      "  var_sampled[n,k] = ( np.nansum(var_levelk_x_weights[indices==n])\n"
     ]
    },
    {
     "name": "stdout",
     "output_type": "stream",
     "text": [
      "level=46\n"
     ]
    },
    {
     "name": "stderr",
     "output_type": "stream",
     "text": [
      "<ipython-input-7-59acc180623c>:60: RuntimeWarning: invalid value encountered in double_scalars\n",
      "  var_sampled[n,k] = ( np.nansum(var_levelk_x_weights[indices==n])\n"
     ]
    },
    {
     "name": "stdout",
     "output_type": "stream",
     "text": [
      "level=47\n"
     ]
    },
    {
     "name": "stderr",
     "output_type": "stream",
     "text": [
      "<ipython-input-7-59acc180623c>:60: RuntimeWarning: invalid value encountered in double_scalars\n",
      "  var_sampled[n,k] = ( np.nansum(var_levelk_x_weights[indices==n])\n"
     ]
    },
    {
     "name": "stdout",
     "output_type": "stream",
     "text": [
      "level=48\n"
     ]
    },
    {
     "name": "stderr",
     "output_type": "stream",
     "text": [
      "<ipython-input-7-59acc180623c>:60: RuntimeWarning: invalid value encountered in double_scalars\n",
      "  var_sampled[n,k] = ( np.nansum(var_levelk_x_weights[indices==n])\n"
     ]
    },
    {
     "name": "stdout",
     "output_type": "stream",
     "text": [
      "level=49\n"
     ]
    },
    {
     "name": "stderr",
     "output_type": "stream",
     "text": [
      "<ipython-input-7-59acc180623c>:60: RuntimeWarning: invalid value encountered in double_scalars\n",
      "  var_sampled[n,k] = ( np.nansum(var_levelk_x_weights[indices==n])\n"
     ]
    },
    {
     "name": "stdout",
     "output_type": "stream",
     "text": [
      "level=50\n"
     ]
    },
    {
     "name": "stderr",
     "output_type": "stream",
     "text": [
      "<ipython-input-7-59acc180623c>:60: RuntimeWarning: invalid value encountered in double_scalars\n",
      "  var_sampled[n,k] = ( np.nansum(var_levelk_x_weights[indices==n])\n"
     ]
    },
    {
     "name": "stdout",
     "output_type": "stream",
     "text": [
      "level=51\n"
     ]
    },
    {
     "name": "stderr",
     "output_type": "stream",
     "text": [
      "<ipython-input-7-59acc180623c>:60: RuntimeWarning: invalid value encountered in double_scalars\n",
      "  var_sampled[n,k] = ( np.nansum(var_levelk_x_weights[indices==n])\n"
     ]
    },
    {
     "name": "stdout",
     "output_type": "stream",
     "text": [
      "level=52\n"
     ]
    },
    {
     "name": "stderr",
     "output_type": "stream",
     "text": [
      "<ipython-input-7-59acc180623c>:60: RuntimeWarning: invalid value encountered in double_scalars\n",
      "  var_sampled[n,k] = ( np.nansum(var_levelk_x_weights[indices==n])\n"
     ]
    },
    {
     "name": "stdout",
     "output_type": "stream",
     "text": [
      "level=53\n"
     ]
    },
    {
     "name": "stderr",
     "output_type": "stream",
     "text": [
      "<ipython-input-7-59acc180623c>:60: RuntimeWarning: invalid value encountered in double_scalars\n",
      "  var_sampled[n,k] = ( np.nansum(var_levelk_x_weights[indices==n])\n"
     ]
    },
    {
     "name": "stdout",
     "output_type": "stream",
     "text": [
      "level=54\n"
     ]
    },
    {
     "name": "stderr",
     "output_type": "stream",
     "text": [
      "<ipython-input-7-59acc180623c>:60: RuntimeWarning: invalid value encountered in double_scalars\n",
      "  var_sampled[n,k] = ( np.nansum(var_levelk_x_weights[indices==n])\n"
     ]
    },
    {
     "name": "stdout",
     "output_type": "stream",
     "text": [
      "level=55\n"
     ]
    },
    {
     "name": "stderr",
     "output_type": "stream",
     "text": [
      "<ipython-input-7-59acc180623c>:60: RuntimeWarning: invalid value encountered in double_scalars\n",
      "  var_sampled[n,k] = ( np.nansum(var_levelk_x_weights[indices==n])\n"
     ]
    },
    {
     "name": "stdout",
     "output_type": "stream",
     "text": [
      "level=56\n"
     ]
    },
    {
     "name": "stderr",
     "output_type": "stream",
     "text": [
      "<ipython-input-7-59acc180623c>:60: RuntimeWarning: invalid value encountered in double_scalars\n",
      "  var_sampled[n,k] = ( np.nansum(var_levelk_x_weights[indices==n])\n"
     ]
    },
    {
     "name": "stdout",
     "output_type": "stream",
     "text": [
      "level=57\n"
     ]
    },
    {
     "name": "stderr",
     "output_type": "stream",
     "text": [
      "<ipython-input-7-59acc180623c>:60: RuntimeWarning: invalid value encountered in double_scalars\n",
      "  var_sampled[n,k] = ( np.nansum(var_levelk_x_weights[indices==n])\n"
     ]
    },
    {
     "name": "stdout",
     "output_type": "stream",
     "text": [
      "level=58\n"
     ]
    },
    {
     "name": "stderr",
     "output_type": "stream",
     "text": [
      "<ipython-input-7-59acc180623c>:60: RuntimeWarning: invalid value encountered in double_scalars\n",
      "  var_sampled[n,k] = ( np.nansum(var_levelk_x_weights[indices==n])\n"
     ]
    },
    {
     "name": "stdout",
     "output_type": "stream",
     "text": [
      "level=59\n"
     ]
    },
    {
     "name": "stderr",
     "output_type": "stream",
     "text": [
      "<ipython-input-7-59acc180623c>:60: RuntimeWarning: invalid value encountered in double_scalars\n",
      "  var_sampled[n,k] = ( np.nansum(var_levelk_x_weights[indices==n])\n"
     ]
    },
    {
     "name": "stdout",
     "output_type": "stream",
     "text": [
      "level=60\n"
     ]
    },
    {
     "name": "stderr",
     "output_type": "stream",
     "text": [
      "<ipython-input-7-59acc180623c>:60: RuntimeWarning: invalid value encountered in double_scalars\n",
      "  var_sampled[n,k] = ( np.nansum(var_levelk_x_weights[indices==n])\n"
     ]
    },
    {
     "name": "stdout",
     "output_type": "stream",
     "text": [
      "level=61\n"
     ]
    },
    {
     "name": "stderr",
     "output_type": "stream",
     "text": [
      "<ipython-input-7-59acc180623c>:60: RuntimeWarning: invalid value encountered in double_scalars\n",
      "  var_sampled[n,k] = ( np.nansum(var_levelk_x_weights[indices==n])\n",
      "<ipython-input-7-59acc180623c>:60: RuntimeWarning: invalid value encountered in double_scalars\n",
      "  var_sampled[n,k] = ( np.nansum(var_levelk_x_weights[indices==n])\n"
     ]
    },
    {
     "name": "stdout",
     "output_type": "stream",
     "text": [
      "level=62\n",
      "level=63\n"
     ]
    },
    {
     "name": "stderr",
     "output_type": "stream",
     "text": [
      "<ipython-input-7-59acc180623c>:60: RuntimeWarning: invalid value encountered in double_scalars\n",
      "  var_sampled[n,k] = ( np.nansum(var_levelk_x_weights[indices==n])\n"
     ]
    },
    {
     "name": "stdout",
     "output_type": "stream",
     "text": [
      "level=64\n"
     ]
    },
    {
     "name": "stderr",
     "output_type": "stream",
     "text": [
      "<ipython-input-7-59acc180623c>:60: RuntimeWarning: invalid value encountered in double_scalars\n",
      "  var_sampled[n,k] = ( np.nansum(var_levelk_x_weights[indices==n])\n"
     ]
    },
    {
     "name": "stdout",
     "output_type": "stream",
     "text": [
      "level=65\n"
     ]
    },
    {
     "name": "stderr",
     "output_type": "stream",
     "text": [
      "<ipython-input-7-59acc180623c>:60: RuntimeWarning: invalid value encountered in double_scalars\n",
      "  var_sampled[n,k] = ( np.nansum(var_levelk_x_weights[indices==n])\n"
     ]
    },
    {
     "name": "stdout",
     "output_type": "stream",
     "text": [
      "level=66\n"
     ]
    },
    {
     "name": "stderr",
     "output_type": "stream",
     "text": [
      "<ipython-input-7-59acc180623c>:60: RuntimeWarning: invalid value encountered in double_scalars\n",
      "  var_sampled[n,k] = ( np.nansum(var_levelk_x_weights[indices==n])\n"
     ]
    },
    {
     "name": "stdout",
     "output_type": "stream",
     "text": [
      "level=67\n",
      "level=68\n"
     ]
    },
    {
     "name": "stderr",
     "output_type": "stream",
     "text": [
      "<ipython-input-7-59acc180623c>:60: RuntimeWarning: invalid value encountered in double_scalars\n",
      "  var_sampled[n,k] = ( np.nansum(var_levelk_x_weights[indices==n])\n",
      "<ipython-input-7-59acc180623c>:60: RuntimeWarning: invalid value encountered in double_scalars\n",
      "  var_sampled[n,k] = ( np.nansum(var_levelk_x_weights[indices==n])\n"
     ]
    },
    {
     "name": "stdout",
     "output_type": "stream",
     "text": [
      "level=69\n"
     ]
    },
    {
     "name": "stderr",
     "output_type": "stream",
     "text": [
      "<ipython-input-7-59acc180623c>:60: RuntimeWarning: invalid value encountered in double_scalars\n",
      "  var_sampled[n,k] = ( np.nansum(var_levelk_x_weights[indices==n])\n"
     ]
    },
    {
     "name": "stdout",
     "output_type": "stream",
     "text": [
      "level=70\n"
     ]
    },
    {
     "name": "stderr",
     "output_type": "stream",
     "text": [
      "<ipython-input-7-59acc180623c>:60: RuntimeWarning: invalid value encountered in double_scalars\n",
      "  var_sampled[n,k] = ( np.nansum(var_levelk_x_weights[indices==n])\n"
     ]
    },
    {
     "name": "stdout",
     "output_type": "stream",
     "text": [
      "level=71\n"
     ]
    },
    {
     "name": "stderr",
     "output_type": "stream",
     "text": [
      "<ipython-input-7-59acc180623c>:60: RuntimeWarning: invalid value encountered in double_scalars\n",
      "  var_sampled[n,k] = ( np.nansum(var_levelk_x_weights[indices==n])\n"
     ]
    },
    {
     "name": "stdout",
     "output_type": "stream",
     "text": [
      "level=72\n"
     ]
    },
    {
     "name": "stderr",
     "output_type": "stream",
     "text": [
      "<ipython-input-7-59acc180623c>:60: RuntimeWarning: invalid value encountered in double_scalars\n",
      "  var_sampled[n,k] = ( np.nansum(var_levelk_x_weights[indices==n])\n"
     ]
    },
    {
     "name": "stdout",
     "output_type": "stream",
     "text": [
      "level=73\n"
     ]
    },
    {
     "name": "stderr",
     "output_type": "stream",
     "text": [
      "<ipython-input-7-59acc180623c>:60: RuntimeWarning: invalid value encountered in double_scalars\n",
      "  var_sampled[n,k] = ( np.nansum(var_levelk_x_weights[indices==n])\n"
     ]
    },
    {
     "name": "stdout",
     "output_type": "stream",
     "text": [
      "level=74\n"
     ]
    },
    {
     "name": "stderr",
     "output_type": "stream",
     "text": [
      "<ipython-input-7-59acc180623c>:60: RuntimeWarning: invalid value encountered in double_scalars\n",
      "  var_sampled[n,k] = ( np.nansum(var_levelk_x_weights[indices==n])\n"
     ]
    },
    {
     "name": "stdout",
     "output_type": "stream",
     "text": [
      "nawdexnwp-40km-mis-0001\n",
      "level=0\n",
      "level=1\n",
      "level=2\n",
      "level=3\n",
      "level=4\n",
      "level=5\n",
      "level=6\n",
      "level=7\n",
      "level=8\n",
      "level=9\n",
      "level=10\n",
      "level=11\n",
      "level=12\n",
      "level=13\n",
      "level=14\n",
      "level=15\n",
      "level=16\n",
      "level=17\n",
      "level=18\n",
      "level=19\n",
      "level=20\n",
      "level=21\n",
      "level=22\n",
      "level=23\n",
      "level=24\n",
      "level=25\n",
      "level=26\n",
      "level=27\n",
      "level=28\n",
      "level=29\n",
      "level=30\n",
      "level=31\n",
      "level=32\n",
      "level=33\n",
      "level=34\n",
      "level=35\n",
      "level=36\n",
      "level=37\n",
      "level=38\n",
      "level=39\n",
      "level=40\n",
      "level=41\n",
      "level=42\n",
      "level=43\n",
      "level=44\n",
      "level=45\n",
      "level=46\n",
      "level=47\n",
      "level=48\n",
      "level=49\n",
      "level=50\n",
      "level=51\n",
      "level=52\n",
      "level=53\n",
      "level=54\n",
      "level=55\n",
      "level=56\n",
      "level=57\n",
      "level=58\n",
      "level=59\n",
      "level=60\n",
      "level=61\n",
      "level=62\n",
      "level=63\n",
      "level=64\n",
      "level=65\n",
      "level=66\n",
      "level=67\n",
      "level=68\n",
      "level=69\n",
      "level=70\n",
      "level=71\n",
      "level=72\n",
      "level=73\n",
      "level=74\n",
      "nawdexnwp-20km-mis-0001\n",
      "level=0\n",
      "level=1\n",
      "level=2\n",
      "level=3\n",
      "level=4\n",
      "level=5\n",
      "level=6\n",
      "level=7\n",
      "level=8\n",
      "level=9\n",
      "level=10\n",
      "level=11\n",
      "level=12\n",
      "level=13\n",
      "level=14\n",
      "level=15\n",
      "level=16\n",
      "level=17\n",
      "level=18\n",
      "level=19\n",
      "level=20\n",
      "level=21\n",
      "level=22\n",
      "level=23\n",
      "level=24\n",
      "level=25\n",
      "level=26\n",
      "level=27\n",
      "level=28\n",
      "level=29\n",
      "level=30\n",
      "level=31\n",
      "level=32\n",
      "level=33\n",
      "level=34\n",
      "level=35\n",
      "level=36\n",
      "level=37\n",
      "level=38\n",
      "level=39\n",
      "level=40\n",
      "level=41\n",
      "level=42\n",
      "level=43\n",
      "level=44\n",
      "level=45\n",
      "level=46\n",
      "level=47\n",
      "level=48\n",
      "level=49\n",
      "level=50\n",
      "level=51\n",
      "level=52\n",
      "level=53\n",
      "level=54\n",
      "level=55\n",
      "level=56\n",
      "level=57\n",
      "level=58\n",
      "level=59\n",
      "level=60\n",
      "level=61\n",
      "level=62\n",
      "level=63\n",
      "level=64\n",
      "level=65\n",
      "level=66\n",
      "level=67\n",
      "level=68\n",
      "level=69\n",
      "level=70\n",
      "level=71\n",
      "level=72\n",
      "level=73\n",
      "level=74\n",
      "nawdexnwp-10km-mis-0001\n",
      "level=0\n",
      "level=1\n",
      "level=2\n",
      "level=3\n",
      "level=4\n",
      "level=5\n",
      "level=6\n",
      "level=7\n",
      "level=8\n",
      "level=9\n",
      "level=10\n",
      "level=11\n",
      "level=12\n",
      "level=13\n",
      "level=14\n",
      "level=15\n",
      "level=16\n",
      "level=17\n",
      "level=18\n",
      "level=19\n",
      "level=20\n",
      "level=21\n",
      "level=22\n",
      "level=23\n",
      "level=24\n",
      "level=25\n",
      "level=26\n",
      "level=27\n",
      "level=28\n",
      "level=29\n",
      "level=30\n",
      "level=31\n",
      "level=32\n",
      "level=33\n",
      "level=34\n",
      "level=35\n",
      "level=36\n",
      "level=37\n",
      "level=38\n",
      "level=39\n"
     ]
    }
   ],
   "source": [
    "ccf_list = ['UTS', 'omega', 't_g']\n",
    "\n",
    "var3d_list = ['clc', 'ddt_temp_radlw_fromflux', 'ddt_temp_radlwclr_fromflux',\n",
    "               '      ddt_temp_radsw_fromflux', 'ddt_temp_radswclr_fromflux']\n",
    "\n",
    "for ccf in ccf_list:\n",
    "    for var in var3d_list:\n",
    "        print('sampling '+str(var)+' on '+str(ccf))\n",
    "        for sim in list(simdict.keys()): \n",
    "            print(sim)\n",
    "            make_sampling(sim, ccf, var)"
   ]
  },
  {
   "cell_type": "code",
   "execution_count": null,
   "metadata": {},
   "outputs": [],
   "source": [
    "Sampling 2D-vars"
   ]
  },
  {
   "cell_type": "code",
   "execution_count": null,
   "metadata": {},
   "outputs": [],
   "source": [
    "ccf_list = ['UTS', 'omega', 't_g']\n",
    "\n",
    "var2d_list = ['clct', 'clch', 'clcm', 'clcl']\n",
    "\n",
    "for ccf in ccf_list:\n",
    "    for var in var2d_list:\n",
    "        print('sampling '+str(var)+' on '+str(ccf))\n",
    "        for sim in list(simdict.keys()): \n",
    "            print(sim)\n",
    "            make_sampling(sim, ccf, var)"
   ]
  },
  {
   "cell_type": "markdown",
   "metadata": {},
   "source": [
    "## Cleaning up before leaving"
   ]
  },
  {
   "cell_type": "code",
   "execution_count": null,
   "metadata": {},
   "outputs": [],
   "source": [
    "client.shutdown()\n",
    "client.close()"
   ]
  },
  {
   "cell_type": "code",
   "execution_count": null,
   "metadata": {},
   "outputs": [],
   "source": []
  }
 ],
 "metadata": {
  "kernelspec": {
   "display_name": "nawdex-hackathon",
   "language": "python",
   "name": "nawdex-hackathon"
  },
  "language_info": {
   "codemirror_mode": {
    "name": "ipython",
    "version": 3
   },
   "file_extension": ".py",
   "mimetype": "text/x-python",
   "name": "python",
   "nbconvert_exporter": "python",
   "pygments_lexer": "ipython3",
   "version": "3.8.6"
  }
 },
 "nbformat": 4,
 "nbformat_minor": 4
}
