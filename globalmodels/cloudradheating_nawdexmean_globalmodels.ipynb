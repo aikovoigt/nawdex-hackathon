{
 "cells": [
  {
   "cell_type": "markdown",
   "metadata": {},
   "source": [
    "# Cloud-radiative heating in global climate model runs averaged over the NAWDEX ocean domain region\n",
    "\n",
    "Model data is from AMIP-like control simulations of Voigt, Albern and Papavasileiou, J. Climate, 2019, The atmospheric pathway of the cloud‐radiative impact on the circulation response to global warming: Important and uncertain; https://doi.org/10.1175/JCLI-D-18-0810.1."
   ]
  },
  {
   "cell_type": "code",
   "execution_count": 1,
   "metadata": {},
   "outputs": [],
   "source": [
    "import numpy as np\n",
    "import matplotlib.pyplot as plt\n",
    "import xarray as xr\n",
    "import pandas as pd"
   ]
  },
  {
   "cell_type": "markdown",
   "metadata": {},
   "source": [
    "## Load cloud radiative heating and sea-land mask"
   ]
  },
  {
   "cell_type": "code",
   "execution_count": 2,
   "metadata": {},
   "outputs": [
    {
     "name": "stderr",
     "output_type": "stream",
     "text": [
      "/pf/b/b380459/conda-envs/Nawdex-Hackathon/lib/python3.8/site-packages/xarray/coding/times.py:427: SerializationWarning: Unable to decode time axis into full numpy.datetime64 objects, continuing using cftime.datetime objects instead, reason: dates out of range\n",
      "  dtype = _decode_cf_datetime_dtype(data, units, calendar, self.use_cftime)\n",
      "/pf/b/b380459/conda-envs/Nawdex-Hackathon/lib/python3.8/site-packages/numpy/core/_asarray.py:83: SerializationWarning: Unable to decode time axis into full numpy.datetime64 objects, continuing using cftime.datetime objects instead, reason: dates out of range\n",
      "  return array(a, dtype, copy=False, order=order)\n",
      "/pf/b/b380459/conda-envs/Nawdex-Hackathon/lib/python3.8/site-packages/xarray/coding/times.py:427: SerializationWarning: Unable to decode time axis into full numpy.datetime64 objects, continuing using cftime.datetime objects instead, reason: dates out of range\n",
      "  dtype = _decode_cf_datetime_dtype(data, units, calendar, self.use_cftime)\n",
      "/pf/b/b380459/conda-envs/Nawdex-Hackathon/lib/python3.8/site-packages/numpy/core/_asarray.py:83: SerializationWarning: Unable to decode time axis into full numpy.datetime64 objects, continuing using cftime.datetime objects instead, reason: dates out of range\n",
      "  return array(a, dtype, copy=False, order=order)\n"
     ]
    }
   ],
   "source": [
    "def mpi_radheating():\n",
    "    \n",
    "    path = '/work/bb1018/nawdex-hackathon_pp/globalmodels/'\n",
    "    \n",
    "    # PRP with clouds zero, this gives -1*cloud-radiative heating\n",
    "    filename = path+'ecav0001_1035-1039.prp_cloudsoff.timmean.shiftedlon.nc'\n",
    "    ds_crh = ( xr.open_dataset(filename)[['dQ_cld_trad', 'dQ_cld_srad','hyam','hybm']].\n",
    "               rename({'dQ_cld_trad': 'dtlwcld', 'dQ_cld_srad': 'dtswcld'}).squeeze().drop('time') )\n",
    "    \n",
    "    # rescale heating rates by -1 * 86400, which makes units of K/day, and the -1 is to take\n",
    "    # care of the zero-cloud PRP \n",
    "    ds_crh['dtlwcld'] = -86400*ds_crh['dtlwcld']\n",
    "    ds_crh['dtswcld'] = -86400*ds_crh['dtswcld']\n",
    "        \n",
    "    # surface pressure\n",
    "    filename = path+'BOT_ecav0001_1002_1041.timmean.shiftedlon.nc'\n",
    "    ds_aps = xr.open_dataset(filename)['aps'].squeeze().drop('time')\n",
    "    \n",
    "    # merge input datasets\n",
    "    # attention: some lat values of ds_aps and ds_crh are slightly different (~1e-14),\n",
    "    # this is taken care of before merging the two datasets by reindex_alike\n",
    "    ds_aps = ds_aps.reindex_like(ds_crh, method='nearest', tolerance=1e-5)\n",
    "    ds = xr.merge([ds_crh, ds_aps]) \n",
    "                  \n",
    "    # interpolate heating rates on set of common pressure levels taking into account surface pressure\n",
    "    from scipy.interpolate import interp1d\n",
    "    lev_int = ds['hyam']+1000e2*ds['hybm']\n",
    "    dtlwcld_int = np.zeros((lev_int.size, ds.lat.size, ds.lon.size)) + np.nan\n",
    "    dtswcld_int = np.zeros((lev_int.size, ds.lat.size, ds.lon.size)) + np.nan\n",
    "    for j in range(ds.lat.size):\n",
    "        for i in range(ds.lon.size):\n",
    "            dtlwcld_int[:,j,i] = interp1d(ds['hyam']+ds['aps'][j,i]*ds['hybm'], ds['dtlwcld'][:,j,i], kind='cubic', \n",
    "                                        fill_value='extrapolate')(lev_int)    \n",
    "            dtswcld_int[:,j,i] = interp1d(ds['hyam']+ds['aps'][j,i]*ds['hybm'], ds['dtswcld'][:,j,i], kind='cubic', \n",
    "                                        fill_value='extrapolate')(lev_int)    \n",
    "    \n",
    "    # set levels above local surface pressure to np.nan\n",
    "    for k in range(lev_int.size):\n",
    "        for j in range(ds.lat.size):\n",
    "            for i in range(ds.lon.size):\n",
    "                if ds['aps'][j,i]<lev_int[k]:\n",
    "                    dtlwcld_int[k,j,i] = np.nan\n",
    "                    dtswcld_int[k,j,i] = np.nan\n",
    "   \n",
    "    # load land-sea mask, realign_like to catch small differences of  coordinate values with respect to ds\n",
    "    ds_slm = ( xr.open_dataset(path+'/echam6_slm_land1_ocean0.shiftedlon.nc').drop(['time','time_bnds']).squeeze()\n",
    "               .reindex_like(ds, method='nearest', tolerance=1e-5) )\n",
    "    \n",
    "    # create output dataset with interpolated cloud-radiative heating and land-sea mask\n",
    "    ds_out = xr.Dataset( {'dtlwcld': (['lev', 'lat', 'lon'], dtlwcld_int),\n",
    "                          'dtswcld': (['lev', 'lat', 'lon'], dtswcld_int),},\n",
    "                         coords={'lev': (['lev'], lev_int),\n",
    "                                 'lat': ds.lat,\n",
    "                                 'lon': ds.lon} )\n",
    "    ds_out = xr.merge([ds_out, ds_slm])\n",
    "   \n",
    "    return ds_out\n",
    "\n",
    "ds_mpi = mpi_radheating() "
   ]
  },
  {
   "cell_type": "code",
   "execution_count": 3,
   "metadata": {},
   "outputs": [],
   "source": [
    "def icon_radheating():\n",
    "    \n",
    "    # note: The heating rates are re-diagnosed from the radiative fluxes here\n",
    "    # because for clear-sky conditions only the fluxes and not the heating\n",
    "    # rates have been saved. The re-diagnosis works very well, as can be seen\n",
    "    # by comparing the re-diagnosed all-sky radiative heating and the\n",
    "    # all-sky radiative heating output by the model.\n",
    "    #\n",
    "    # Ideally, we would also screen for surface pressure and set pressure levels\n",
    "    # below the surface to nan. This is not as surface pressure is not available.\n",
    "    # Yet, because we are below limiting the analysis to ocean points,\n",
    "    # very few -if any at all- grid points will be affected and have levels below the surface.\n",
    "    \n",
    "    path = '/work/bb1018/nawdex-hackathon_pp/globalmodels/'\n",
    "    file = path+'ICON-NWP_prp_AMIP_free_3d_fluxes_heatingrates_mm.shiftedlon.nc'\n",
    "    ds   = xr.open_dataset(file)\n",
    "    \n",
    "    # convert time to a format understood by xarray groub by\n",
    "    ds['time'] = pd.to_datetime(ds.time.values, format='%Y%m%d')\n",
    "    \n",
    "    # calculate heating rates from flux divergence\n",
    "    # in ICON be sure to use specific heat capacity at constant volume, not constant pressure\n",
    "    cv = 1004.64 - 287.04 # specific heat of dry air for constant volume, equals cvd in mo_physical_constants of ICON model code\n",
    "    factor = -86400 * 9.81 / cv \n",
    "    ds['dtsw']   = (('time', 'lev', 'lat', 'lon'), factor*np.gradient(ds['swflxall'], ds.lev,axis=1));\n",
    "    ds['dtlw']   = (('time', 'lev', 'lat', 'lon'), factor*np.gradient(ds['lwflxall'], ds.lev,axis=1));\n",
    "    ds['dtswcs'] = (('time', 'lev', 'lat', 'lon'), factor*np.gradient(ds['swflxclr'], ds.lev,axis=1));\n",
    "    ds['dtlwcs'] = (('time', 'lev', 'lat', 'lon'), factor*np.gradient(ds['lwflxclr'], ds.lev,axis=1));\n",
    "    \n",
    "    # compute clour-radiative heating\n",
    "    ds['dtswcld'] = ds['dtsw'] - ds['dtswcs']\n",
    "    ds['dtlwcld'] = ds['dtlw'] - ds['dtlwcs']\n",
    "    \n",
    "    # add land-sea mask\n",
    "    ds_slm = ( xr.open_dataset(path+'/icon_extpar_0010_R02B04_G.remapdis.r192x96.shiftedlon.nc')\n",
    "              .rename({'FR_LAND': 'slm'})['slm'].squeeze() )    \n",
    "    \n",
    "    # merge and only keep land-sea mask and cloud-radiative heating\n",
    "    ds = xr.merge([ds, ds_slm])[['slm', 'dtswcld', 'dtlwcld']]\n",
    "    \n",
    "    return ds\n",
    "\n",
    "ds_ico = icon_radheating()"
   ]
  },
  {
   "cell_type": "code",
   "execution_count": 4,
   "metadata": {},
   "outputs": [],
   "source": [
    "def lmd_radheating():\n",
    "    \n",
    "    path = '/work/bb1018/nawdex-hackathon_pp/globalmodels/'\n",
    "    filename = path+'l5aam001_19810101_20091230.histmth.timmean.nc'\n",
    "    \n",
    "    ds = ( xr.open_dataset(filename)[['dtswr', 'dtlwr', 'dtsw0', 'dtlw0', 'fract_ter']]\n",
    "           .rename({'presnivs': 'lev', 'fract_ter': 'slm'}).drop('time_counter').squeeze() )\n",
    "    \n",
    "    dtlwcld = 86400*(ds['dtlwr'] - ds['dtlw0'])\n",
    "    dtswcld = 86400*(ds['dtswr'] - ds['dtsw0'])\n",
    "    \n",
    "    # create output dataset with  cloud-radiative heating and land-sea mask\n",
    "    ds_out = xr.Dataset( {'dtlwcld': (['lev', 'lat', 'lon'], dtlwcld),\n",
    "                          'dtswcld': (['lev', 'lat', 'lon'], dtswcld),},\n",
    "                         coords={'lev': ds.lev,\n",
    "                                 'lat': ds.lat,\n",
    "                                 'lon': ds.lon} )\n",
    "    ds_out = xr.merge([ds_out, ds['slm']])\n",
    "    \n",
    "    return ds_out\n",
    "            \n",
    "ds_lmd = lmd_radheating()"
   ]
  },
  {
   "cell_type": "markdown",
   "metadata": {},
   "source": [
    "## Make spatial mean over NAWDEX region"
   ]
  },
  {
   "cell_type": "markdown",
   "metadata": {},
   "source": [
    "The NAWDEX region is the same used for the ICON limited-area simulations: between 32N and 71N, and 63W and 24E. See postprocessing/derive_openoceanmasks.ipynb."
   ]
  },
  {
   "cell_type": "code",
   "execution_count": 5,
   "metadata": {},
   "outputs": [],
   "source": [
    "def make_nawdexmean(ds):\n",
    "        \n",
    "    # select lon-lat box\n",
    "    aux = ( ds.sel(lat=slice(32,71),lon=slice(-63,24)) )\n",
    "    # if lat is ordered from North to South, we catch this here\n",
    "    if ds.lat[0]>ds.lat[1]:\n",
    "        aux = ( ds.sel(lat=slice(71,32),lon=slice(-63,24)) )\n",
    "    \n",
    "    # average spatially over the ocean, set weights to zero over land\n",
    "    weights = np.cos(np.deg2rad(aux.lat))\n",
    "    weights.name = \"weights\"\n",
    "    weights = weights * xr.where(aux['slm']<0.1, 1, 0) \n",
    "    mean = aux.weighted(weights).mean(dim=['lat','lon'])\n",
    "    \n",
    "    return mean"
   ]
  },
  {
   "cell_type": "markdown",
   "metadata": {},
   "source": [
    "Time-mean values. Note that ICON has monthly values, MPI and LMD only have time mean values."
   ]
  },
  {
   "cell_type": "code",
   "execution_count": 6,
   "metadata": {},
   "outputs": [],
   "source": [
    "ds_ico_nawdexmean_yearmean = make_nawdexmean(ds_ico.mean('time'))\n",
    "ds_mpi_nawdexmean_yearmean = make_nawdexmean(ds_mpi)\n",
    "ds_lmd_nawdexmean_yearmean = make_nawdexmean(ds_lmd)"
   ]
  },
  {
   "cell_type": "markdown",
   "metadata": {},
   "source": [
    "Because we have monthly values for ICON, we here also calculate the average over only the NAWDEX months September and October."
   ]
  },
  {
   "cell_type": "code",
   "execution_count": 7,
   "metadata": {},
   "outputs": [],
   "source": [
    "ds_ico_nawdexmean_seboctmean = make_nawdexmean(\n",
    "    ds_ico.groupby('time.month').mean('time').sel(month=slice(9,10)).mean('month') )"
   ]
  },
  {
   "cell_type": "markdown",
   "metadata": {},
   "source": [
    "## Plot the vertical profile of the cloud-radiative heating"
   ]
  },
  {
   "cell_type": "code",
   "execution_count": 9,
   "metadata": {},
   "outputs": [
    {
     "data": {
      "image/png": "[encoded data removed]",
      "text/plain": [
       "<Figure size 432x288 with 1 Axes>"
      ]
     },
     "metadata": {
      "needs_background": "light"
     },
     "output_type": "display_data"
    }
   ],
   "source": [
    "plt.plot(ds_ico_nawdexmean_seboctmean['dtlwcld'], ds_ico_nawdexmean_seboctmean.lev/100, 'r--', label='ICON Sep Oct')\n",
    "plt.plot(ds_ico_nawdexmean_yearmean['dtlwcld'], ds_ico_nawdexmean_yearmean.lev/100, 'r', label='ICON yearmean')\n",
    "plt.plot(ds_mpi_nawdexmean_yearmean['dtlwcld'], ds_mpi_nawdexmean_yearmean.lev/100, 'b', label='MPI yearmean')\n",
    "plt.plot(ds_lmd_nawdexmean_yearmean['dtlwcld'], ds_lmd_nawdexmean_yearmean.lev/100, 'k', label='IPSL yearmean')\n",
    "plt.xlim(-1.5,1,5)\n",
    "plt.ylim(1000,10)\n",
    "plt.xlabel('Cloud-radiative heating (K/day)')\n",
    "plt.ylabel('Pressure (hPa)')\n",
    "plt.legend()\n",
    "\n",
    "plt.savefig('cloudradheating_nawdexmean_globalmodels.pdf')"
   ]
  }
 ],
 "metadata": {
  "kernelspec": {
   "display_name": "Nawdex-Hackathon",
   "language": "python",
   "name": "nawdex-hackathon"
  },
  "language_info": {
   "codemirror_mode": {
    "name": "ipython",
    "version": 3
   },
   "file_extension": ".py",
   "mimetype": "text/x-python",
   "name": "python",
   "nbconvert_exporter": "python",
   "pygments_lexer": "ipython3",
   "version": "3.8.6"
  }
 },
 "nbformat": 4,
 "nbformat_minor": 4
}
