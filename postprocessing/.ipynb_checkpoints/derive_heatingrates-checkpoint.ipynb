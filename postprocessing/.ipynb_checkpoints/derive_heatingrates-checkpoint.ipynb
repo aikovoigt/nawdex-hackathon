{
 "cells": [
  {
   "cell_type": "markdown",
   "metadata": {},
   "source": [
    "# Derive atmospheric clear-sky and all-sky heating rates from radiation fluxes\n",
    "\n",
    "This script diagnoses the clear-syk and all-sky heating rates so that the cloud-radiative heating rate can be calculated. It uses the function calc_heatingrates in calc_heatingrates.py (which mimicks the relevant ICON code) and stores the heating rates in a zarr store. The latter is used as it appears to that writing zarr files is faster and uses less disk space than storing the same data in netcdf files."
   ]
  },
  {
   "cell_type": "markdown",
   "metadata": {},
   "source": [
    "Import python backbone libraries:"
   ]
  },
  {
   "cell_type": "code",
   "execution_count": 1,
   "metadata": {},
   "outputs": [],
   "source": [
    "import numpy as np\n",
    "import xarray as xr\n",
    "from pathlib import Path\n",
    "import shutil\n",
    "import zarr"
   ]
  },
  {
   "cell_type": "code",
   "execution_count": 2,
   "metadata": {},
   "outputs": [
    {
     "data": {
      "text/html": [
       "<table style=\"border: 2px solid white;\">\n",
       "<tr>\n",
       "<td style=\"vertical-align: top; border: 0px solid white\">\n",
       "<h3 style=\"text-align: left;\">Client</h3>\n",
       "<ul style=\"text-align: left; list-style: none; margin: 0; padding: 0;\">\n",
       "  <li><b>Scheduler: </b>tcp://127.0.0.1:42617</li>\n",
       "  <li><b>Dashboard: </b><a href='http://127.0.0.1:8787/status' target='_blank'>http://127.0.0.1:8787/status</a></li>\n",
       "</ul>\n",
       "</td>\n",
       "<td style=\"vertical-align: top; border: 0px solid white\">\n",
       "<h3 style=\"text-align: left;\">Cluster</h3>\n",
       "<ul style=\"text-align: left; list-style:none; margin: 0; padding: 0;\">\n",
       "  <li><b>Workers: </b>8</li>\n",
       "  <li><b>Cores: </b>48</li>\n",
       "  <li><b>Memory: </b>134.22 GB</li>\n",
       "</ul>\n",
       "</td>\n",
       "</tr>\n",
       "</table>"
      ],
      "text/plain": [
       "<Client: 'tcp://127.0.0.1:42617' processes=8 threads=48, memory=134.22 GB>"
      ]
     },
     "execution_count": 2,
     "metadata": {},
     "output_type": "execute_result"
    }
   ],
   "source": [
    "from dask.distributed import Client\n",
    "client = Client()\n",
    "client"
   ]
  },
  {
   "cell_type": "markdown",
   "metadata": {},
   "source": [
    "Import function to calculate heating rates:"
   ]
  },
  {
   "cell_type": "code",
   "execution_count": 3,
   "metadata": {},
   "outputs": [],
   "source": [
    "import calc_heatingrates"
   ]
  },
  {
   "cell_type": "markdown",
   "metadata": {},
   "source": [
    "Define function for loading required data into dataset:"
   ]
  },
  {
   "cell_type": "code",
   "execution_count": 4,
   "metadata": {},
   "outputs": [],
   "source": [
    "def load_data(expid, tstep):\n",
    "    \n",
    "    # expid is the simulation id\n",
    "    # tstep is the time step as an integer, which is converted to a string with leading zeros\n",
    "    \n",
    "    path  = '/scratch/b/b380459/icon_4_hackathon/'\n",
    "    # pressure, density, specific humidity at full levels, and height at half (\"interface\") levels\n",
    "    fname_fg = path+'/'+expid+'/'+expid+'_2016*_fg_DOM01_ML_'+str(tstep).zfill(4)+'.nc'\n",
    "    # radiative fluxes inside the atmosphere at half levels\n",
    "    fname_3drad = path+'/'+expid+'/'+expid+'_2016*_3drad_DOM01_ML_'+str(tstep).zfill(4)+'.nc'\n",
    "    ds_fg = ( xr.open_mfdataset(fname_fg, combine='by_coords',parallel=True, \n",
    "                                engine='h5netcdf', chunks={'ncells_2': 1e6})\n",
    "             .rename({'ncells_2': 'ncells', 'height_3': 'height_ifc'})[['pres', 'qv', 'z_ifc', 'rho']] )\n",
    "    ds_3drad = ( xr.open_mfdataset(fname_3drad, combine='by_coords',parallel=True, \n",
    "                                   engine='h5netcdf', chunks={'ncells': 1e6})\n",
    "                .rename({'height': 'height_ifc'}) )\n",
    "    # merge and return dataset\n",
    "    return xr.merge([ds_fg, ds_3drad])\n",
    "    "
   ]
  },
  {
   "cell_type": "markdown",
   "metadata": {},
   "source": [
    "Calculate heating rates and store to zarr store:\n",
    "\n",
    "For this, we are looping over the simulations manually."
   ]
  },
  {
   "cell_type": "code",
   "execution_count": 5,
   "metadata": {},
   "outputs": [
    {
     "name": "stdout",
     "output_type": "stream",
     "text": [
      "Working on: nawdexnwp-80km-mis-0001\n",
      "Working on: nawdexnwp-80km-mis-0002\n",
      "Working on: nawdexnwp-80km-mis-0003\n",
      "Working on: nawdexnwp-80km-mis-0004\n",
      "Working on: nawdexnwp-80km-mis-0005\n",
      "Working on: nawdexnwp-80km-mis-0006\n",
      "Working on: nawdexnwp-80km-mis-0007\n",
      "Working on: nawdexnwp-80km-mis-0008\n",
      "Working on: nawdexnwp-80km-mis-0009\n",
      "Working on: nawdexnwp-80km-mis-0010\n",
      "Working on: nawdexnwp-40km-mis-0001\n",
      "Working on: nawdexnwp-40km-mis-0002\n",
      "Working on: nawdexnwp-40km-mis-0003\n",
      "Working on: nawdexnwp-40km-mis-0004\n",
      "Working on: nawdexnwp-40km-mis-0005\n",
      "Working on: nawdexnwp-40km-mis-0006\n",
      "Working on: nawdexnwp-40km-mis-0007\n",
      "Working on: nawdexnwp-40km-mis-0008\n",
      "Working on: nawdexnwp-40km-mis-0009\n",
      "Working on: nawdexnwp-40km-mis-0010\n",
      "Working on: nawdexnwp-20km-mis-0001\n",
      "Working on: nawdexnwp-20km-mis-0002\n",
      "Working on: nawdexnwp-20km-mis-0003\n",
      "Working on: nawdexnwp-20km-mis-0004\n",
      "Working on: nawdexnwp-20km-mis-0005\n",
      "Working on: nawdexnwp-20km-mis-0006\n",
      "Working on: nawdexnwp-20km-mis-0007\n",
      "Working on: nawdexnwp-20km-mis-0008\n",
      "Working on: nawdexnwp-20km-mis-0009\n",
      "Working on: nawdexnwp-20km-mis-0010\n",
      "Working on: nawdexnwp-10km-mis-0001\n",
      "Working on: nawdexnwp-10km-mis-0002\n",
      "Working on: nawdexnwp-10km-mis-0003\n",
      "Working on: nawdexnwp-10km-mis-0004\n",
      "Working on: nawdexnwp-10km-mis-0005\n",
      "Working on: nawdexnwp-10km-mis-0006\n",
      "Working on: nawdexnwp-10km-mis-0007\n",
      "Working on: nawdexnwp-10km-mis-0008\n",
      "Working on: nawdexnwp-10km-mis-0009\n",
      "Working on: nawdexnwp-10km-mis-0010\n"
     ]
    }
   ],
   "source": [
    "for res in ['2']: 80', '40', '20', '10']:#, '5', '2']:\n",
    "    for nbr in ['0001', '0002', '0003', '0004', '0005', '0006', '0007', '0008', '0009', '0010', '0011', '0012']:\n",
    "    #for nbr in ['0007']:\n",
    "        expid = 'nawdexnwp-'+res+'km-mis-'+nbr\n",
    "        print('Working on:', expid)\n",
    "        zarr_store = '/work/bb1018/nawdex-hackathon_pp/ddttemp_rad-from-fluxes/'+expid+'_ddttemp_rad-from-fluxes_DOM01_ML.zarr'\n",
    "        # remove any zarr_store with same name that might have been created previously\n",
    "        shutil.rmtree(zarr_store, ignore_errors=True)\n",
    "        # create sorted list of available timesteps\n",
    "        tstep_list = []\n",
    "        for i in Path('/scratch/b/b380459/icon_4_hackathon/'+expid).rglob(expid+'_2016*_fg_DOM01_ML_*.nc'):\n",
    "            tstep_list.append(str(i).split('/')[-1].split('_')[5].split('.')[0])\n",
    "        tstep_list.sort(key=int)\n",
    "        # loop over all available timesteps, provided the timestep list is not empty\n",
    "        if tstep_list:\n",
    "            for tstep in tstep_list:\n",
    "                ds = load_data(expid, tstep)\n",
    "                ds = calc_heatingrates.calc_heatingrates(ds)\n",
    "                # if this is the first timestep, then create new zarr store, otherwise append to existing zarr store\n",
    "                if Path(zarr_store).exists():\n",
    "                    ds[['ddt_temp_radsw_fromflux', 'ddt_temp_radlw_fromflux', \n",
    "                        'ddt_temp_radswclr_fromflux', 'ddt_temp_radlwclr_fromflux']].to_zarr(zarr_store, append_dim='time')\n",
    "                else:\n",
    "                    ds[['ddt_temp_radsw_fromflux', 'ddt_temp_radlw_fromflux', \n",
    "                        'ddt_temp_radswclr_fromflux', 'ddt_temp_radlwclr_fromflux']].to_zarr(zarr_store)"
   ]
  }
 ],
 "metadata": {
  "kernelspec": {
   "display_name": "Nawdex-Hackathon",
   "language": "python",
   "name": "nawdex-hackathon"
  },
  "language_info": {
   "codemirror_mode": {
    "name": "ipython",
    "version": 3
   },
   "file_extension": ".py",
   "mimetype": "text/x-python",
   "name": "python",
   "nbconvert_exporter": "python",
   "pygments_lexer": "ipython3",
   "version": "3.8.6"
  }
 },
 "nbformat": 4,
 "nbformat_minor": 4
}
