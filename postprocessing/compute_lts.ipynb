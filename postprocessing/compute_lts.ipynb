{
 "cells": [
  {
   "cell_type": "markdown",
   "metadata": {},
   "source": [
    "# Calculate lower-tropospheric stability\n",
    "\n",
    "LTS defined as difference of potential temperature between 3 km and the surface following Li et al, JGR, 2014, doi: 10.1002/2013JD020669.\n",
    "\n",
    "Code written by Elzina Bala and Aiko Voigt."
   ]
  },
  {
   "cell_type": "code",
   "execution_count": 1,
   "metadata": {},
   "outputs": [],
   "source": [
    "import xarray as xr\n",
    "import dask\n",
    "import shutil"
   ]
  },
  {
   "cell_type": "code",
   "execution_count": 2,
   "metadata": {},
   "outputs": [
    {
     "data": {
      "text/html": [
       "<table style=\"border: 2px solid white;\">\n",
       "<tr>\n",
       "<td style=\"vertical-align: top; border: 0px solid white\">\n",
       "<h3 style=\"text-align: left;\">Client</h3>\n",
       "<ul style=\"text-align: left; list-style: none; margin: 0; padding: 0;\">\n",
       "  <li><b>Scheduler: </b>tcp://127.0.0.1:37282</li>\n",
       "  <li><b>Dashboard: </b><a href='http://127.0.0.1:8787/status' target='_blank'>http://127.0.0.1:8787/status</a></li>\n",
       "</ul>\n",
       "</td>\n",
       "<td style=\"vertical-align: top; border: 0px solid white\">\n",
       "<h3 style=\"text-align: left;\">Cluster</h3>\n",
       "<ul style=\"text-align: left; list-style:none; margin: 0; padding: 0;\">\n",
       "  <li><b>Workers: </b>8</li>\n",
       "  <li><b>Cores: </b>48</li>\n",
       "  <li><b>Memory: </b>134.22 GB</li>\n",
       "</ul>\n",
       "</td>\n",
       "</tr>\n",
       "</table>"
      ],
      "text/plain": [
       "<Client: 'tcp://127.0.0.1:37282' processes=8 threads=48, memory=134.22 GB>"
      ]
     },
     "execution_count": 2,
     "metadata": {},
     "output_type": "execute_result"
    }
   ],
   "source": [
    "from dask.distributed import Client\n",
    "client = Client()\n",
    "client"
   ]
  },
  {
   "cell_type": "markdown",
   "metadata": {},
   "source": [
    "Load dictionary will all simulations"
   ]
  },
  {
   "cell_type": "code",
   "execution_count": 3,
   "metadata": {},
   "outputs": [],
   "source": [
    "import sys\n",
    "sys.path.append('/pf/b/b380459/nawdex-hackathon/shared')\n",
    "import dict_nawdexsims\n",
    "\n",
    "simdict   = dict_nawdexsims.simdictionary()"
   ]
  },
  {
   "cell_type": "code",
   "execution_count": 4,
   "metadata": {},
   "outputs": [],
   "source": [
    "# constants declaration, values taken from ICON source code\n",
    "Cp = 1004.64    # cpd in ICON, [J/K/kg] specific heat at constant pressure\n",
    "Ra = 287.04_wp  # rd in ICON, [J/K/kg] gas constant"
   ]
  },
  {
   "cell_type": "code",
   "execution_count": 5,
   "metadata": {},
   "outputs": [],
   "source": [
    "def load_data(expid):\n",
    "    \n",
    "    path  = '/scratch/b/b380459/icon_4_hackathon/'\n",
    "    fname = path+'/'+expid+'/'+expid+'_2016*_fg_DOM01_ML_*.nc'\n",
    "    ds = ( xr.open_mfdataset(fname, combine='by_coords',parallel=True, \n",
    "                             engine='h5netcdf', chunks={'time': 1})\n",
    "           [['temp', 'pres']].rename({'ncells_2': 'ncells'}) )\n",
    "    \n",
    "    return ds"
   ]
  },
  {
   "cell_type": "markdown",
   "metadata": {},
   "source": [
    "Note: Level with index 52 is at 3km height above ocean, level with index 74 is the surface. We use a fixed height level here because we intend to only look at the ocean points later."
   ]
  },
  {
   "cell_type": "code",
   "execution_count": null,
   "metadata": {},
   "outputs": [
    {
     "name": "stdout",
     "output_type": "stream",
     "text": [
      "Working on: nawdexnwp-80km-mis-0001\n",
      "Working on: nawdexnwp-80km-mis-0002\n",
      "Working on: nawdexnwp-80km-mis-0003\n",
      "Working on: nawdexnwp-80km-mis-0004\n",
      "Working on: nawdexnwp-80km-mis-0005\n",
      "Working on: nawdexnwp-80km-mis-0006\n",
      "Working on: nawdexnwp-80km-mis-0007\n",
      "Working on: nawdexnwp-80km-mis-0008\n",
      "Working on: nawdexnwp-80km-mis-0009\n",
      "Working on: nawdexnwp-80km-mis-0010\n",
      "Working on: nawdexnwp-40km-mis-0001\n",
      "Working on: nawdexnwp-40km-mis-0002\n",
      "Working on: nawdexnwp-40km-mis-0003\n",
      "Working on: nawdexnwp-40km-mis-0004\n",
      "Working on: nawdexnwp-40km-mis-0005\n",
      "Working on: nawdexnwp-40km-mis-0006\n",
      "Working on: nawdexnwp-40km-mis-0007\n",
      "Working on: nawdexnwp-40km-mis-0008\n",
      "Working on: nawdexnwp-40km-mis-0009\n"
     ]
    }
   ],
   "source": [
    "for sim in list(simdict.keys()):\n",
    "    print('Working on:', sim)\n",
    "    ds = load_data(sim)\n",
    "    ds = ds.isel(height=[52,74])\n",
    "    ds['theta'] = ds['temp'] * (100000./ds['pres'])**(Ra/Cp)\n",
    "    ds['lts'] = (ds['theta'].isel(height=1) - ds['theta'].isel(height=0) ) / 3000.\n",
    "    ds = ds.drop(['temp','pres','theta'])\n",
    "    ds.attrs['units'] = 'Kelvin m-1'\n",
    "    ds.attrs['description'] = 'lower tropospheric stability according to Li et al., JGR, 2014, doi: 10.1002/2013JD020669'\n",
    "    ds.attrs['simulation'] = sim\n",
    "    # store to zarr store\n",
    "    zarr_store = '/scratch/b/b380459/icon_4_hackathon/lower_tropo_stability/lts_'+sim+'.zarr'\n",
    "    # remove any zarr_store with same name that might have been created previously\n",
    "    shutil.rmtree(zarr_store, ignore_errors=True)\n",
    "    ds.to_zarr(zarr_store)"
   ]
  },
  {
   "cell_type": "markdown",
   "metadata": {},
   "source": [
    "Clean up"
   ]
  },
  {
   "cell_type": "code",
   "execution_count": null,
   "metadata": {},
   "outputs": [],
   "source": [
    "client.close()"
   ]
  }
 ],
 "metadata": {
  "kernelspec": {
   "display_name": "Nawdex-Hackathon",
   "language": "python",
   "name": "nawdex-hackathon"
  },
  "language_info": {
   "codemirror_mode": {
    "name": "ipython",
    "version": 3
   },
   "file_extension": ".py",
   "mimetype": "text/x-python",
   "name": "python",
   "nbconvert_exporter": "python",
   "pygments_lexer": "ipython3",
   "version": "3.8.6"
  }
 },
 "nbformat": 4,
 "nbformat_minor": 4
}
