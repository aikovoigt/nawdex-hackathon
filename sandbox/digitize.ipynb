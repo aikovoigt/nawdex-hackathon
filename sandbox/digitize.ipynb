{
 "cells": [
  {
   "cell_type": "markdown",
   "metadata": {},
   "source": [
    "# Understand use of np.digitize with dask and xarray arrays by means of dask array map_blocks\n",
    "\n",
    "Aiko Voigt, KIT, Aug 10, 2020"
   ]
  },
  {
   "cell_type": "code",
   "execution_count": 1,
   "metadata": {},
   "outputs": [],
   "source": [
    "import numpy as np\n",
    "import dask.array as da\n",
    "import xarray as xr"
   ]
  },
  {
   "cell_type": "markdown",
   "metadata": {},
   "source": [
    "Create numpy array and versions for dask arrays, unchunked xarray DataArray and chunked xarray DataArray"
   ]
  },
  {
   "cell_type": "code",
   "execution_count": 52,
   "metadata": {},
   "outputs": [],
   "source": [
    "np_array = np.random.randn(1000)\n",
    "\n",
    "da_array = da.from_array(np_array)\n",
    "xr_array = xr.DataArray(np_array, dims=['ind'], coords={'ind': np.arange(1000)})\n",
    "xr_array_chunked = xr_array.chunk({'ind': 10})"
   ]
  },
  {
   "cell_type": "markdown",
   "metadata": {},
   "source": [
    "Bins for digitze"
   ]
  },
  {
   "cell_type": "code",
   "execution_count": 5,
   "metadata": {},
   "outputs": [],
   "source": [
    "mybins=np.linspace(-1,1,10)"
   ]
  },
  {
   "cell_type": "markdown",
   "metadata": {},
   "source": [
    "## np.digitze\n",
    "\n",
    "Pure numpy world works"
   ]
  },
  {
   "cell_type": "code",
   "execution_count": 7,
   "metadata": {},
   "outputs": [],
   "source": [
    "np_array_npdigit = np.digitize(np_array, bins=mybins)"
   ]
  },
  {
   "cell_type": "markdown",
   "metadata": {},
   "source": [
    "## da.digitize\n",
    "\n",
    "Pure dask world works"
   ]
  },
  {
   "cell_type": "code",
   "execution_count": 8,
   "metadata": {},
   "outputs": [],
   "source": [
    "da_array_dadigit = da.digitize(da_array, bins=mybins)"
   ]
  },
  {
   "cell_type": "markdown",
   "metadata": {},
   "source": [
    "Dask digitze on numpy array does not work, as np_array does not have map_blocks function used by da.digitze to wrap np.digitize"
   ]
  },
  {
   "cell_type": "code",
   "execution_count": 10,
   "metadata": {},
   "outputs": [
    {
     "ename": "AttributeError",
     "evalue": "'numpy.ndarray' object has no attribute 'map_blocks'",
     "output_type": "error",
     "traceback": [
      "\u001b[0;31m---------------------------------------------------------------------------\u001b[0m",
      "\u001b[0;31mAttributeError\u001b[0m                            Traceback (most recent call last)",
      "\u001b[0;32m<ipython-input-10-f8c66cfb496c>\u001b[0m in \u001b[0;36m<module>\u001b[0;34m\u001b[0m\n\u001b[0;32m----> 1\u001b[0;31m \u001b[0mnp_array_dadigit\u001b[0m \u001b[0;34m=\u001b[0m \u001b[0mda\u001b[0m\u001b[0;34m.\u001b[0m\u001b[0mdigitize\u001b[0m\u001b[0;34m(\u001b[0m\u001b[0mnp_array\u001b[0m\u001b[0;34m,\u001b[0m \u001b[0mbins\u001b[0m\u001b[0;34m=\u001b[0m\u001b[0mmybins\u001b[0m\u001b[0;34m)\u001b[0m\u001b[0;34m\u001b[0m\u001b[0;34m\u001b[0m\u001b[0m\n\u001b[0m",
      "\u001b[0;32m~/conda-envs/Nawdex-Hackathon/lib/python3.8/site-packages/dask/array/routines.py\u001b[0m in \u001b[0;36mdigitize\u001b[0;34m(a, bins, right)\u001b[0m\n\u001b[1;32m    633\u001b[0m     \u001b[0mbins\u001b[0m \u001b[0;34m=\u001b[0m \u001b[0mnp\u001b[0m\u001b[0;34m.\u001b[0m\u001b[0masarray\u001b[0m\u001b[0;34m(\u001b[0m\u001b[0mbins\u001b[0m\u001b[0;34m)\u001b[0m\u001b[0;34m\u001b[0m\u001b[0;34m\u001b[0m\u001b[0m\n\u001b[1;32m    634\u001b[0m     \u001b[0mdtype\u001b[0m \u001b[0;34m=\u001b[0m \u001b[0mnp\u001b[0m\u001b[0;34m.\u001b[0m\u001b[0mdigitize\u001b[0m\u001b[0;34m(\u001b[0m\u001b[0;34m[\u001b[0m\u001b[0;36m0\u001b[0m\u001b[0;34m]\u001b[0m\u001b[0;34m,\u001b[0m \u001b[0mbins\u001b[0m\u001b[0;34m,\u001b[0m \u001b[0mright\u001b[0m\u001b[0;34m=\u001b[0m\u001b[0;32mFalse\u001b[0m\u001b[0;34m)\u001b[0m\u001b[0;34m.\u001b[0m\u001b[0mdtype\u001b[0m\u001b[0;34m\u001b[0m\u001b[0;34m\u001b[0m\u001b[0m\n\u001b[0;32m--> 635\u001b[0;31m     \u001b[0;32mreturn\u001b[0m \u001b[0ma\u001b[0m\u001b[0;34m.\u001b[0m\u001b[0mmap_blocks\u001b[0m\u001b[0;34m(\u001b[0m\u001b[0mnp\u001b[0m\u001b[0;34m.\u001b[0m\u001b[0mdigitize\u001b[0m\u001b[0;34m,\u001b[0m \u001b[0mdtype\u001b[0m\u001b[0;34m=\u001b[0m\u001b[0mdtype\u001b[0m\u001b[0;34m,\u001b[0m \u001b[0mbins\u001b[0m\u001b[0;34m=\u001b[0m\u001b[0mbins\u001b[0m\u001b[0;34m,\u001b[0m \u001b[0mright\u001b[0m\u001b[0;34m=\u001b[0m\u001b[0mright\u001b[0m\u001b[0;34m)\u001b[0m\u001b[0;34m\u001b[0m\u001b[0;34m\u001b[0m\u001b[0m\n\u001b[0m\u001b[1;32m    636\u001b[0m \u001b[0;34m\u001b[0m\u001b[0m\n\u001b[1;32m    637\u001b[0m \u001b[0;34m\u001b[0m\u001b[0m\n",
      "\u001b[0;31mAttributeError\u001b[0m: 'numpy.ndarray' object has no attribute 'map_blocks'"
     ]
    }
   ],
   "source": [
    "np_array_dadigit = da.digitize(np_array, bins=mybins)"
   ]
  },
  {
   "cell_type": "markdown",
   "metadata": {},
   "source": [
    "One can make it work manually by isolating the crucial line of da.digitize, but I assume that would have no performance benefit"
   ]
  },
  {
   "cell_type": "code",
   "execution_count": 25,
   "metadata": {},
   "outputs": [
    {
     "data": {
      "text/html": [
       "<table>\n",
       "<tr>\n",
       "<td>\n",
       "<table>\n",
       "  <thead>\n",
       "    <tr><td> </td><th> Array </th><th> Chunk </th></tr>\n",
       "  </thead>\n",
       "  <tbody>\n",
       "    <tr><th> Bytes </th><td> 8.00 kB </td> <td> 8.00 kB </td></tr>\n",
       "    <tr><th> Shape </th><td> (1000,) </td> <td> (1000,) </td></tr>\n",
       "    <tr><th> Count </th><td> 2 Tasks </td><td> 1 Chunks </td></tr>\n",
       "    <tr><th> Type </th><td> int64 </td><td> numpy.ndarray </td></tr>\n",
       "  </tbody>\n",
       "</table>\n",
       "</td>\n",
       "<td>\n",
       "<svg width=\"170\" height=\"75\" style=\"stroke:rgb(0,0,0);stroke-width:1\" >\n",
       "\n",
       "  <!-- Horizontal lines -->\n",
       "  <line x1=\"0\" y1=\"0\" x2=\"120\" y2=\"0\" style=\"stroke-width:2\" />\n",
       "  <line x1=\"0\" y1=\"25\" x2=\"120\" y2=\"25\" style=\"stroke-width:2\" />\n",
       "\n",
       "  <!-- Vertical lines -->\n",
       "  <line x1=\"0\" y1=\"0\" x2=\"0\" y2=\"25\" style=\"stroke-width:2\" />\n",
       "  <line x1=\"120\" y1=\"0\" x2=\"120\" y2=\"25\" style=\"stroke-width:2\" />\n",
       "\n",
       "  <!-- Colored Rectangle -->\n",
       "  <polygon points=\"0.000000,0.000000 120.000000,0.000000 120.000000,25.412617 0.000000,25.412617\" style=\"fill:#ECB172A0;stroke-width:0\"/>\n",
       "\n",
       "  <!-- Text -->\n",
       "  <text x=\"60.000000\" y=\"45.412617\" font-size=\"1.0rem\" font-weight=\"100\" text-anchor=\"middle\" >1000</text>\n",
       "  <text x=\"140.000000\" y=\"12.706308\" font-size=\"1.0rem\" font-weight=\"100\" text-anchor=\"middle\" transform=\"rotate(0,140.000000,12.706308)\">1</text>\n",
       "</svg>\n",
       "</td>\n",
       "</tr>\n",
       "</table>"
      ],
      "text/plain": [
       "dask.array<digitize, shape=(1000,), dtype=int64, chunksize=(1000,), chunktype=numpy.ndarray>"
      ]
     },
     "execution_count": 25,
     "metadata": {},
     "output_type": "execute_result"
    }
   ],
   "source": [
    "np_array_dadigit = da_array.map_blocks(np.digitize, dtype='int64', bins=mybins, right='right')"
   ]
  },
  {
   "cell_type": "markdown",
   "metadata": {},
   "source": [
    "Dask digitize does not work on xarray DataArray, independent of whether it is chunked or not"
   ]
  },
  {
   "cell_type": "code",
   "execution_count": 14,
   "metadata": {},
   "outputs": [
    {
     "ename": "TypeError",
     "evalue": "map_blocks() got an unexpected keyword argument 'dtype'",
     "output_type": "error",
     "traceback": [
      "\u001b[0;31m---------------------------------------------------------------------------\u001b[0m",
      "\u001b[0;31mTypeError\u001b[0m                                 Traceback (most recent call last)",
      "\u001b[0;32m<ipython-input-14-04bbae18e96a>\u001b[0m in \u001b[0;36m<module>\u001b[0;34m\u001b[0m\n\u001b[1;32m      1\u001b[0m \u001b[0;31m# unchunked xarray DataArray\u001b[0m\u001b[0;34m\u001b[0m\u001b[0;34m\u001b[0m\u001b[0;34m\u001b[0m\u001b[0m\n\u001b[0;32m----> 2\u001b[0;31m \u001b[0mda\u001b[0m\u001b[0;34m.\u001b[0m\u001b[0mdigitize\u001b[0m\u001b[0;34m(\u001b[0m\u001b[0mxr_array\u001b[0m\u001b[0;34m,\u001b[0m \u001b[0mbins\u001b[0m\u001b[0;34m=\u001b[0m\u001b[0mmybins\u001b[0m\u001b[0;34m)\u001b[0m\u001b[0;34m\u001b[0m\u001b[0;34m\u001b[0m\u001b[0m\n\u001b[0m",
      "\u001b[0;32m~/conda-envs/Nawdex-Hackathon/lib/python3.8/site-packages/dask/array/routines.py\u001b[0m in \u001b[0;36mdigitize\u001b[0;34m(a, bins, right)\u001b[0m\n\u001b[1;32m    633\u001b[0m     \u001b[0mbins\u001b[0m \u001b[0;34m=\u001b[0m \u001b[0mnp\u001b[0m\u001b[0;34m.\u001b[0m\u001b[0masarray\u001b[0m\u001b[0;34m(\u001b[0m\u001b[0mbins\u001b[0m\u001b[0;34m)\u001b[0m\u001b[0;34m\u001b[0m\u001b[0;34m\u001b[0m\u001b[0m\n\u001b[1;32m    634\u001b[0m     \u001b[0mdtype\u001b[0m \u001b[0;34m=\u001b[0m \u001b[0mnp\u001b[0m\u001b[0;34m.\u001b[0m\u001b[0mdigitize\u001b[0m\u001b[0;34m(\u001b[0m\u001b[0;34m[\u001b[0m\u001b[0;36m0\u001b[0m\u001b[0;34m]\u001b[0m\u001b[0;34m,\u001b[0m \u001b[0mbins\u001b[0m\u001b[0;34m,\u001b[0m \u001b[0mright\u001b[0m\u001b[0;34m=\u001b[0m\u001b[0;32mFalse\u001b[0m\u001b[0;34m)\u001b[0m\u001b[0;34m.\u001b[0m\u001b[0mdtype\u001b[0m\u001b[0;34m\u001b[0m\u001b[0;34m\u001b[0m\u001b[0m\n\u001b[0;32m--> 635\u001b[0;31m     \u001b[0;32mreturn\u001b[0m \u001b[0ma\u001b[0m\u001b[0;34m.\u001b[0m\u001b[0mmap_blocks\u001b[0m\u001b[0;34m(\u001b[0m\u001b[0mnp\u001b[0m\u001b[0;34m.\u001b[0m\u001b[0mdigitize\u001b[0m\u001b[0;34m,\u001b[0m \u001b[0mdtype\u001b[0m\u001b[0;34m=\u001b[0m\u001b[0mdtype\u001b[0m\u001b[0;34m,\u001b[0m \u001b[0mbins\u001b[0m\u001b[0;34m=\u001b[0m\u001b[0mbins\u001b[0m\u001b[0;34m,\u001b[0m \u001b[0mright\u001b[0m\u001b[0;34m=\u001b[0m\u001b[0mright\u001b[0m\u001b[0;34m)\u001b[0m\u001b[0;34m\u001b[0m\u001b[0;34m\u001b[0m\u001b[0m\n\u001b[0m\u001b[1;32m    636\u001b[0m \u001b[0;34m\u001b[0m\u001b[0m\n\u001b[1;32m    637\u001b[0m \u001b[0;34m\u001b[0m\u001b[0m\n",
      "\u001b[0;31mTypeError\u001b[0m: map_blocks() got an unexpected keyword argument 'dtype'"
     ]
    }
   ],
   "source": [
    "# unchunked xarray DataArray\n",
    "da.digitize(xr_array, bins=mybins)"
   ]
  },
  {
   "cell_type": "code",
   "execution_count": 15,
   "metadata": {},
   "outputs": [
    {
     "ename": "TypeError",
     "evalue": "map_blocks() got an unexpected keyword argument 'dtype'",
     "output_type": "error",
     "traceback": [
      "\u001b[0;31m---------------------------------------------------------------------------\u001b[0m",
      "\u001b[0;31mTypeError\u001b[0m                                 Traceback (most recent call last)",
      "\u001b[0;32m<ipython-input-15-9e620dcb6644>\u001b[0m in \u001b[0;36m<module>\u001b[0;34m\u001b[0m\n\u001b[1;32m      1\u001b[0m \u001b[0;31m# chunked xarray DataArray\u001b[0m\u001b[0;34m\u001b[0m\u001b[0;34m\u001b[0m\u001b[0;34m\u001b[0m\u001b[0m\n\u001b[0;32m----> 2\u001b[0;31m \u001b[0mda\u001b[0m\u001b[0;34m.\u001b[0m\u001b[0mdigitize\u001b[0m\u001b[0;34m(\u001b[0m\u001b[0mxr_array_chunked\u001b[0m\u001b[0;34m,\u001b[0m \u001b[0mbins\u001b[0m\u001b[0;34m=\u001b[0m\u001b[0mmybins\u001b[0m\u001b[0;34m)\u001b[0m\u001b[0;34m\u001b[0m\u001b[0;34m\u001b[0m\u001b[0m\n\u001b[0m",
      "\u001b[0;32m~/conda-envs/Nawdex-Hackathon/lib/python3.8/site-packages/dask/array/routines.py\u001b[0m in \u001b[0;36mdigitize\u001b[0;34m(a, bins, right)\u001b[0m\n\u001b[1;32m    633\u001b[0m     \u001b[0mbins\u001b[0m \u001b[0;34m=\u001b[0m \u001b[0mnp\u001b[0m\u001b[0;34m.\u001b[0m\u001b[0masarray\u001b[0m\u001b[0;34m(\u001b[0m\u001b[0mbins\u001b[0m\u001b[0;34m)\u001b[0m\u001b[0;34m\u001b[0m\u001b[0;34m\u001b[0m\u001b[0m\n\u001b[1;32m    634\u001b[0m     \u001b[0mdtype\u001b[0m \u001b[0;34m=\u001b[0m \u001b[0mnp\u001b[0m\u001b[0;34m.\u001b[0m\u001b[0mdigitize\u001b[0m\u001b[0;34m(\u001b[0m\u001b[0;34m[\u001b[0m\u001b[0;36m0\u001b[0m\u001b[0;34m]\u001b[0m\u001b[0;34m,\u001b[0m \u001b[0mbins\u001b[0m\u001b[0;34m,\u001b[0m \u001b[0mright\u001b[0m\u001b[0;34m=\u001b[0m\u001b[0;32mFalse\u001b[0m\u001b[0;34m)\u001b[0m\u001b[0;34m.\u001b[0m\u001b[0mdtype\u001b[0m\u001b[0;34m\u001b[0m\u001b[0;34m\u001b[0m\u001b[0m\n\u001b[0;32m--> 635\u001b[0;31m     \u001b[0;32mreturn\u001b[0m \u001b[0ma\u001b[0m\u001b[0;34m.\u001b[0m\u001b[0mmap_blocks\u001b[0m\u001b[0;34m(\u001b[0m\u001b[0mnp\u001b[0m\u001b[0;34m.\u001b[0m\u001b[0mdigitize\u001b[0m\u001b[0;34m,\u001b[0m \u001b[0mdtype\u001b[0m\u001b[0;34m=\u001b[0m\u001b[0mdtype\u001b[0m\u001b[0;34m,\u001b[0m \u001b[0mbins\u001b[0m\u001b[0;34m=\u001b[0m\u001b[0mbins\u001b[0m\u001b[0;34m,\u001b[0m \u001b[0mright\u001b[0m\u001b[0;34m=\u001b[0m\u001b[0mright\u001b[0m\u001b[0;34m)\u001b[0m\u001b[0;34m\u001b[0m\u001b[0;34m\u001b[0m\u001b[0m\n\u001b[0m\u001b[1;32m    636\u001b[0m \u001b[0;34m\u001b[0m\u001b[0m\n\u001b[1;32m    637\u001b[0m \u001b[0;34m\u001b[0m\u001b[0m\n",
      "\u001b[0;31mTypeError\u001b[0m: map_blocks() got an unexpected keyword argument 'dtype'"
     ]
    }
   ],
   "source": [
    "# chunked xarray DataArray\n",
    "da.digitize(xr_array_chunked, bins=mybins)"
   ]
  },
  {
   "cell_type": "markdown",
   "metadata": {},
   "source": [
    "One can make da.digitize work on xarray DataArray by converting to a dask_array. For the chunked version, this throws a warning for the chunked xr DataArray. Not sure if the warning is at all problematic, though."
   ]
  },
  {
   "cell_type": "code",
   "execution_count": 16,
   "metadata": {},
   "outputs": [
    {
     "data": {
      "text/html": [
       "<table>\n",
       "<tr>\n",
       "<td>\n",
       "<table>\n",
       "  <thead>\n",
       "    <tr><td> </td><th> Array </th><th> Chunk </th></tr>\n",
       "  </thead>\n",
       "  <tbody>\n",
       "    <tr><th> Bytes </th><td> 8.00 kB </td> <td> 8.00 kB </td></tr>\n",
       "    <tr><th> Shape </th><td> (1000,) </td> <td> (1000,) </td></tr>\n",
       "    <tr><th> Count </th><td> 3 Tasks </td><td> 1 Chunks </td></tr>\n",
       "    <tr><th> Type </th><td> int64 </td><td> numpy.ndarray </td></tr>\n",
       "  </tbody>\n",
       "</table>\n",
       "</td>\n",
       "<td>\n",
       "<svg width=\"170\" height=\"75\" style=\"stroke:rgb(0,0,0);stroke-width:1\" >\n",
       "\n",
       "  <!-- Horizontal lines -->\n",
       "  <line x1=\"0\" y1=\"0\" x2=\"120\" y2=\"0\" style=\"stroke-width:2\" />\n",
       "  <line x1=\"0\" y1=\"25\" x2=\"120\" y2=\"25\" style=\"stroke-width:2\" />\n",
       "\n",
       "  <!-- Vertical lines -->\n",
       "  <line x1=\"0\" y1=\"0\" x2=\"0\" y2=\"25\" style=\"stroke-width:2\" />\n",
       "  <line x1=\"120\" y1=\"0\" x2=\"120\" y2=\"25\" style=\"stroke-width:2\" />\n",
       "\n",
       "  <!-- Colored Rectangle -->\n",
       "  <polygon points=\"0.000000,0.000000 120.000000,0.000000 120.000000,25.412617 0.000000,25.412617\" style=\"fill:#ECB172A0;stroke-width:0\"/>\n",
       "\n",
       "  <!-- Text -->\n",
       "  <text x=\"60.000000\" y=\"45.412617\" font-size=\"1.0rem\" font-weight=\"100\" text-anchor=\"middle\" >1000</text>\n",
       "  <text x=\"140.000000\" y=\"12.706308\" font-size=\"1.0rem\" font-weight=\"100\" text-anchor=\"middle\" transform=\"rotate(0,140.000000,12.706308)\">1</text>\n",
       "</svg>\n",
       "</td>\n",
       "</tr>\n",
       "</table>"
      ],
      "text/plain": [
       "dask.array<digitize, shape=(1000,), dtype=int64, chunksize=(1000,), chunktype=numpy.ndarray>"
      ]
     },
     "execution_count": 16,
     "metadata": {},
     "output_type": "execute_result"
    }
   ],
   "source": [
    "da.digitize(da.from_array(xr_array), bins=mybins)"
   ]
  },
  {
   "cell_type": "code",
   "execution_count": 18,
   "metadata": {},
   "outputs": [
    {
     "name": "stderr",
     "output_type": "stream",
     "text": [
      "/pf/b/b380459/conda-envs/Nawdex-Hackathon/lib/python3.8/site-packages/dask/array/core.py:2776: UserWarning: Passing an object to dask.array.from_array which is already a Dask collection. This can lead to unexpected behavior.\n",
      "  warnings.warn(\n"
     ]
    },
    {
     "data": {
      "text/html": [
       "<table>\n",
       "<tr>\n",
       "<td>\n",
       "<table>\n",
       "  <thead>\n",
       "    <tr><td> </td><th> Array </th><th> Chunk </th></tr>\n",
       "  </thead>\n",
       "  <tbody>\n",
       "    <tr><th> Bytes </th><td> 8.00 kB </td> <td> 8.00 kB </td></tr>\n",
       "    <tr><th> Shape </th><td> (1000,) </td> <td> (1000,) </td></tr>\n",
       "    <tr><th> Count </th><td> 3 Tasks </td><td> 1 Chunks </td></tr>\n",
       "    <tr><th> Type </th><td> int64 </td><td> numpy.ndarray </td></tr>\n",
       "  </tbody>\n",
       "</table>\n",
       "</td>\n",
       "<td>\n",
       "<svg width=\"170\" height=\"75\" style=\"stroke:rgb(0,0,0);stroke-width:1\" >\n",
       "\n",
       "  <!-- Horizontal lines -->\n",
       "  <line x1=\"0\" y1=\"0\" x2=\"120\" y2=\"0\" style=\"stroke-width:2\" />\n",
       "  <line x1=\"0\" y1=\"25\" x2=\"120\" y2=\"25\" style=\"stroke-width:2\" />\n",
       "\n",
       "  <!-- Vertical lines -->\n",
       "  <line x1=\"0\" y1=\"0\" x2=\"0\" y2=\"25\" style=\"stroke-width:2\" />\n",
       "  <line x1=\"120\" y1=\"0\" x2=\"120\" y2=\"25\" style=\"stroke-width:2\" />\n",
       "\n",
       "  <!-- Colored Rectangle -->\n",
       "  <polygon points=\"0.000000,0.000000 120.000000,0.000000 120.000000,25.412617 0.000000,25.412617\" style=\"fill:#ECB172A0;stroke-width:0\"/>\n",
       "\n",
       "  <!-- Text -->\n",
       "  <text x=\"60.000000\" y=\"45.412617\" font-size=\"1.0rem\" font-weight=\"100\" text-anchor=\"middle\" >1000</text>\n",
       "  <text x=\"140.000000\" y=\"12.706308\" font-size=\"1.0rem\" font-weight=\"100\" text-anchor=\"middle\" transform=\"rotate(0,140.000000,12.706308)\">1</text>\n",
       "</svg>\n",
       "</td>\n",
       "</tr>\n",
       "</table>"
      ],
      "text/plain": [
       "dask.array<digitize, shape=(1000,), dtype=int64, chunksize=(1000,), chunktype=numpy.ndarray>"
      ]
     },
     "execution_count": 18,
     "metadata": {},
     "output_type": "execute_result"
    }
   ],
   "source": [
    "da.digitize(da.from_array(xr_array_chunked), bins=mybins)"
   ]
  },
  {
   "cell_type": "code",
   "execution_count": 24,
   "metadata": {},
   "outputs": [
    {
     "data": {
      "text/plain": [
       "array([ 1,  3, 10,  2,  8, 10,  1,  8,  6,  7,  2,  0,  5,  2,  7,  3, 10,\n",
       "        1,  0,  0,  5,  7,  1,  7,  6,  6, 10,  0,  4,  7,  5, 10,  5, 10,\n",
       "       10,  3, 10,  9,  4, 10,  2,  5,  6,  0,  5, 10,  0,  1,  4,  2,  3,\n",
       "        3,  5, 10,  3,  2,  8,  7,  5,  0,  6,  6,  0,  2,  4,  7, 10, 10,\n",
       "        9,  0,  4,  4, 10,  8, 10,  5,  6,  4, 10,  7,  5,  5, 10,  6, 10,\n",
       "        0,  3,  3,  3,  6,  3,  3, 10,  9,  6, 10,  3, 10,  2,  1,  0, 10,\n",
       "        2,  3,  0,  1,  5,  0,  3,  1, 10,  1, 10,  8,  5,  9,  8,  0,  4,\n",
       "       10,  7, 10,  2,  7,  5,  3, 10, 10,  8,  4,  9,  7,  0,  8,  8,  6,\n",
       "        5, 10,  2,  1,  4,  4, 10,  0,  0,  3,  3,  7,  0,  3,  3, 10,  2,\n",
       "        5, 10,  6,  7,  6,  2,  7,  3,  4,  2,  7,  4,  4,  1,  6, 10,  0,\n",
       "        9,  4,  0,  3,  7,  4,  5,  0,  2,  7,  7, 10, 10,  0,  9,  3,  5,\n",
       "        6,  6,  4,  9,  0, 10,  4, 10,  3,  3,  7,  3, 10,  3,  0,  2,  5,\n",
       "        9,  2,  5,  4,  2,  8,  5,  2, 10, 10,  4,  2,  5,  0,  2,  0,  0,\n",
       "        9,  8, 10, 10, 10,  7,  6,  7,  8,  0,  5, 10,  3,  8,  4,  5,  0,\n",
       "        0,  0,  7,  0,  1,  6,  7, 10,  1,  4,  0,  7,  1,  4,  1,  2,  1,\n",
       "        3,  6,  0,  4,  4,  4,  9,  9,  5,  3,  3,  0,  6,  5,  6,  4,  3,\n",
       "        0, 10,  5,  5,  6,  5,  0,  4, 10, 10,  8,  0,  1,  4,  5,  0, 10,\n",
       "       10,  8,  7,  3,  3,  3,  0,  6,  9,  0,  3,  2,  5,  5,  2,  7,  9,\n",
       "        6,  9,  0,  3,  6,  6,  2, 10,  6,  8,  0,  8,  4,  6,  0,  5,  0,\n",
       "        3, 10,  0,  4,  6,  8,  2,  3,  0,  6,  9,  0,  4,  3,  3, 10,  2,\n",
       "        0,  9,  0,  0,  2,  7,  5,  3,  0,  0,  3,  3,  4,  5, 10,  0,  1,\n",
       "        6,  0,  2,  6, 10,  5,  4,  2,  3,  1,  0, 10,  1,  8, 10,  8,  5,\n",
       "        2, 10,  8,  4,  6,  6, 10,  3,  9,  4,  0,  4,  0,  0, 10, 10,  7,\n",
       "        3,  8,  2,  6,  4,  6,  5,  6,  1,  7,  5,  3,  8, 10,  3,  8,  7,\n",
       "        0,  7,  6,  0,  9,  6,  2,  0, 10,  5,  8,  7,  0, 10,  9,  6,  3,\n",
       "        4,  3,  6, 10,  7, 10,  7,  1,  7, 10,  9,  2,  3,  4,  9,  3,  3,\n",
       "        1,  6, 10, 10,  5,  3,  0,  1,  4,  0, 10,  6,  4, 10,  8,  1,  7,\n",
       "       10,  7,  2,  0,  6,  2,  9,  5, 10,  0,  5,  0, 10,  6,  4,  8,  0,\n",
       "        8,  4,  4,  1,  5,  2,  9,  2,  3,  7,  4,  6, 10,  5,  1,  6,  2,\n",
       "        5,  4,  1,  7,  4,  6, 10,  0,  1,  1,  2,  9,  3, 10,  2,  3, 10,\n",
       "        1,  8,  0,  0,  3,  1,  0,  0,  2,  0,  1,  6,  5,  4, 10,  4,  9,\n",
       "       10,  0,  9,  0,  8,  5, 10,  5,  4,  6,  6,  7,  0,  1,  7,  4,  1,\n",
       "        5, 10,  8,  3,  4,  8,  7,  6,  6,  9,  4,  6,  3,  1,  7,  4,  4,\n",
       "        0,  9,  5,  5,  7,  4,  5,  0,  4,  1,  0,  5,  5,  6,  1,  4,  2,\n",
       "        0,  3,  7,  5,  4,  5,  5,  8,  7,  1, 10, 10,  4,  1,  4,  5,  3,\n",
       "        2,  5,  7,  6,  9,  9,  4,  3,  3,  6,  3, 10,  0, 10,  7, 10,  6,\n",
       "        4,  9,  3, 10,  4,  5,  8,  6,  8,  0,  7, 10,  0,  3, 10,  3,  7,\n",
       "        6,  4,  2,  0, 10,  1,  7,  3,  9,  1,  6,  8,  7, 10,  9,  0, 10,\n",
       "        0,  8,  8, 10,  0,  4, 10,  1,  9,  8,  5, 10, 10,  6,  7,  8,  8,\n",
       "        6,  6,  7,  2,  5,  0,  6,  4,  5,  4,  9,  5,  9,  3,  8,  6,  0,\n",
       "        6,  8,  5, 10,  0,  3,  8,  4, 10,  8,  0,  6,  8, 10, 10,  5,  4,\n",
       "        0,  2, 10,  6,  0,  2, 10,  0,  5,  9, 10, 10,  0,  3,  3,  6,  6,\n",
       "        2,  4, 10,  7,  1,  9,  1,  6,  0, 10,  4,  0,  7,  0,  1,  9,  4,\n",
       "        1,  0,  0,  3,  4,  1,  5,  5,  0,  3,  8, 10,  0,  7,  2,  0,  5,\n",
       "        0,  6,  3,  2, 10, 10, 10,  2, 10,  2,  6,  6,  7,  0,  8,  5,  2,\n",
       "        7,  3,  6,  5,  7,  2,  6,  6, 10,  9,  0,  1,  1,  0,  6,  1,  7,\n",
       "        1,  6,  0,  0,  1,  0,  4,  5,  5,  4,  4,  1,  5,  5,  0,  1,  3,\n",
       "        5,  0, 10,  6,  2,  5,  0,  6, 10,  9,  3,  6,  4,  0,  2,  0, 10,\n",
       "        1,  0,  7,  0,  3, 10,  5,  3,  0,  2,  7, 10,  1,  7,  4,  3,  7,\n",
       "        5,  2,  8,  7,  1,  7,  1, 10,  3,  5,  3,  8,  7,  2,  7,  8,  8,\n",
       "        7,  9,  1, 10,  7,  9,  4,  4,  7,  6,  7,  0,  3,  5,  0,  5,  4,\n",
       "       10,  8,  5,  5,  1, 10, 10,  0, 10,  9,  4,  8,  0,  1,  3,  0,  9,\n",
       "        0,  0,  0,  1,  1,  6,  8,  1,  5,  5,  2,  0,  5,  5,  4,  4,  0,\n",
       "        8,  1,  0, 10,  9,  0,  9,  4,  5,  1,  0,  9,  2,  1,  6,  7,  0,\n",
       "        8,  3,  0, 10,  9,  5,  7,  0,  1,  9,  4,  0,  3, 10, 10,  7,  9,\n",
       "        0, 10,  0,  0, 10,  8,  5,  3,  8,  7, 10,  7,  5,  0,  4,  0,  0,\n",
       "        1,  3,  4,  8,  7,  0,  2,  1, 10, 10,  9, 10,  2, 10,  9,  0, 10,\n",
       "        0, 10,  4,  8,  7,  3,  6,  9,  1,  0,  1,  3,  9,  0, 10,  7,  6,\n",
       "        5,  0, 10,  8,  8,  0,  4,  4,  6,  0,  4,  3,  3,  3])"
      ]
     },
     "execution_count": 24,
     "metadata": {},
     "output_type": "execute_result"
    }
   ],
   "source": [
    "xr.map_blocks(np.digitize, np_array, [mybins])"
   ]
  },
  {
   "cell_type": "markdown",
   "metadata": {},
   "source": [
    "## xarray world"
   ]
  },
  {
   "cell_type": "markdown",
   "metadata": {},
   "source": [
    "Once can use xr.map_blocks to wrap np.digitize for the unchunked xarray DataArray. Yet, this does not work for the chunked xarray DataArray."
   ]
  },
  {
   "cell_type": "code",
   "execution_count": 23,
   "metadata": {},
   "outputs": [],
   "source": [
    "xr_array_xrdigit = xr.map_blocks(np.digitize, xr_array, [mybins])"
   ]
  },
  {
   "cell_type": "code",
   "execution_count": 25,
   "metadata": {},
   "outputs": [
    {
     "ename": "TypeError",
     "evalue": "Function must return an xarray DataArray or Dataset. Instead it returned <class 'numpy.ndarray'>",
     "output_type": "error",
     "traceback": [
      "\u001b[0;31m---------------------------------------------------------------------------\u001b[0m",
      "\u001b[0;31mTypeError\u001b[0m                                 Traceback (most recent call last)",
      "\u001b[0;32m<ipython-input-25-99876ddc5662>\u001b[0m in \u001b[0;36m<module>\u001b[0;34m\u001b[0m\n\u001b[0;32m----> 1\u001b[0;31m \u001b[0mxr_array_chunked_xrdigit\u001b[0m \u001b[0;34m=\u001b[0m \u001b[0mxr\u001b[0m\u001b[0;34m.\u001b[0m\u001b[0mmap_blocks\u001b[0m\u001b[0;34m(\u001b[0m\u001b[0mnp\u001b[0m\u001b[0;34m.\u001b[0m\u001b[0mdigitize\u001b[0m\u001b[0;34m,\u001b[0m \u001b[0mxr_array_chunked\u001b[0m\u001b[0;34m,\u001b[0m \u001b[0;34m[\u001b[0m\u001b[0mmybins\u001b[0m\u001b[0;34m]\u001b[0m\u001b[0;34m)\u001b[0m \u001b[0;31m# would need to unchunk by adding \".values\"\u001b[0m\u001b[0;34m\u001b[0m\u001b[0;34m\u001b[0m\u001b[0m\n\u001b[0m",
      "\u001b[0;32m~/conda-envs/Nawdex-Hackathon/lib/python3.8/site-packages/xarray/core/parallel.py\u001b[0m in \u001b[0;36mmap_blocks\u001b[0;34m(func, obj, args, kwargs, template)\u001b[0m\n\u001b[1;32m    369\u001b[0m     \u001b[0;32mif\u001b[0m \u001b[0mtemplate\u001b[0m \u001b[0;32mis\u001b[0m \u001b[0;32mNone\u001b[0m\u001b[0;34m:\u001b[0m\u001b[0;34m\u001b[0m\u001b[0;34m\u001b[0m\u001b[0m\n\u001b[1;32m    370\u001b[0m         \u001b[0;31m# infer template by providing zero-shaped arrays\u001b[0m\u001b[0;34m\u001b[0m\u001b[0;34m\u001b[0m\u001b[0;34m\u001b[0m\u001b[0m\n\u001b[0;32m--> 371\u001b[0;31m         \u001b[0mtemplate\u001b[0m \u001b[0;34m=\u001b[0m \u001b[0minfer_template\u001b[0m\u001b[0;34m(\u001b[0m\u001b[0mfunc\u001b[0m\u001b[0;34m,\u001b[0m \u001b[0maligned\u001b[0m\u001b[0;34m[\u001b[0m\u001b[0;36m0\u001b[0m\u001b[0;34m]\u001b[0m\u001b[0;34m,\u001b[0m \u001b[0;34m*\u001b[0m\u001b[0margs\u001b[0m\u001b[0;34m,\u001b[0m \u001b[0;34m**\u001b[0m\u001b[0mkwargs\u001b[0m\u001b[0;34m)\u001b[0m\u001b[0;34m\u001b[0m\u001b[0;34m\u001b[0m\u001b[0m\n\u001b[0m\u001b[1;32m    372\u001b[0m         \u001b[0mtemplate_indexes\u001b[0m \u001b[0;34m=\u001b[0m \u001b[0mset\u001b[0m\u001b[0;34m(\u001b[0m\u001b[0mtemplate\u001b[0m\u001b[0;34m.\u001b[0m\u001b[0mindexes\u001b[0m\u001b[0;34m)\u001b[0m\u001b[0;34m\u001b[0m\u001b[0;34m\u001b[0m\u001b[0m\n\u001b[1;32m    373\u001b[0m         \u001b[0mpreserved_indexes\u001b[0m \u001b[0;34m=\u001b[0m \u001b[0mtemplate_indexes\u001b[0m \u001b[0;34m&\u001b[0m \u001b[0mset\u001b[0m\u001b[0;34m(\u001b[0m\u001b[0minput_indexes\u001b[0m\u001b[0;34m)\u001b[0m\u001b[0;34m\u001b[0m\u001b[0;34m\u001b[0m\u001b[0m\n",
      "\u001b[0;32m~/conda-envs/Nawdex-Hackathon/lib/python3.8/site-packages/xarray/core/parallel.py\u001b[0m in \u001b[0;36minfer_template\u001b[0;34m(func, obj, *args, **kwargs)\u001b[0m\n\u001b[1;32m    137\u001b[0m \u001b[0;34m\u001b[0m\u001b[0m\n\u001b[1;32m    138\u001b[0m     \u001b[0;32mif\u001b[0m \u001b[0;32mnot\u001b[0m \u001b[0misinstance\u001b[0m\u001b[0;34m(\u001b[0m\u001b[0mtemplate\u001b[0m\u001b[0;34m,\u001b[0m \u001b[0;34m(\u001b[0m\u001b[0mDataset\u001b[0m\u001b[0;34m,\u001b[0m \u001b[0mDataArray\u001b[0m\u001b[0;34m)\u001b[0m\u001b[0;34m)\u001b[0m\u001b[0;34m:\u001b[0m\u001b[0;34m\u001b[0m\u001b[0;34m\u001b[0m\u001b[0m\n\u001b[0;32m--> 139\u001b[0;31m         raise TypeError(\n\u001b[0m\u001b[1;32m    140\u001b[0m             \u001b[0;34m\"Function must return an xarray DataArray or Dataset. Instead it returned \"\u001b[0m\u001b[0;34m\u001b[0m\u001b[0;34m\u001b[0m\u001b[0m\n\u001b[1;32m    141\u001b[0m             \u001b[0;34mf\"{type(template)}\"\u001b[0m\u001b[0;34m\u001b[0m\u001b[0;34m\u001b[0m\u001b[0m\n",
      "\u001b[0;31mTypeError\u001b[0m: Function must return an xarray DataArray or Dataset. Instead it returned <class 'numpy.ndarray'>"
     ]
    }
   ],
   "source": [
    "# would work if we unchunk by adding \".values\"\n",
    "# maybe way of calling map_blocks is not correct?\n",
    "xr_array_chunked_xrdigit = xr.map_blocks(np.digitize, xr_array_chunked, [mybins])"
   ]
  },
  {
   "cell_type": "markdown",
   "metadata": {},
   "source": [
    "One could also use xr.apply_ufunc here, but the calling is not quite correct yet ..."
   ]
  },
  {
   "cell_type": "code",
   "execution_count": 58,
   "metadata": {},
   "outputs": [
    {
     "ename": "ValueError",
     "evalue": "each dimension in `exclude_dims` must also be a core dimension in the function signature",
     "output_type": "error",
     "traceback": [
      "\u001b[0;31m---------------------------------------------------------------------------\u001b[0m",
      "\u001b[0;31mValueError\u001b[0m                                Traceback (most recent call last)",
      "\u001b[0;32m<ipython-input-58-548249a721b7>\u001b[0m in \u001b[0;36m<module>\u001b[0;34m\u001b[0m\n\u001b[0;32m----> 1\u001b[0;31m xr.apply_ufunc(np.digitize, xr_array_chunked, mybins, output_dtypes=[np.int64], dask='parallelized', \n\u001b[0m\u001b[1;32m      2\u001b[0m                \u001b[0minput_core_dims\u001b[0m\u001b[0;34m=\u001b[0m\u001b[0;34m[\u001b[0m\u001b[0;34m[\u001b[0m\u001b[0;34m]\u001b[0m\u001b[0;34m,\u001b[0m \u001b[0;34m[\u001b[0m\u001b[0;34m]\u001b[0m\u001b[0;34m]\u001b[0m\u001b[0;34m,\u001b[0m\u001b[0;31m#\"ind\"], [\"ind\"]],  # list with one entry per arg\u001b[0m\u001b[0;34m\u001b[0m\u001b[0;34m\u001b[0m\u001b[0m\n\u001b[1;32m      3\u001b[0m                \u001b[0moutput_core_dims\u001b[0m\u001b[0;34m=\u001b[0m\u001b[0;34m[\u001b[0m\u001b[0;34m[\u001b[0m\u001b[0;34m]\u001b[0m\u001b[0;34m]\u001b[0m\u001b[0;34m,\u001b[0m\u001b[0;31m#[\"ind\"]],\u001b[0m\u001b[0;34m\u001b[0m\u001b[0;34m\u001b[0m\u001b[0m\n\u001b[1;32m      4\u001b[0m                exclude_dims=set((\"ind\",)) )  # dimensions allowed to change size. Must be set!\n",
      "\u001b[0;32m~/conda-envs/Nawdex-Hackathon/lib/python3.8/site-packages/xarray/core/computation.py\u001b[0m in \u001b[0;36mapply_ufunc\u001b[0;34m(func, input_core_dims, output_core_dims, exclude_dims, vectorize, join, dataset_join, dataset_fill_value, keep_attrs, kwargs, dask, output_dtypes, output_sizes, meta, *args)\u001b[0m\n\u001b[1;32m    996\u001b[0m \u001b[0;34m\u001b[0m\u001b[0m\n\u001b[1;32m    997\u001b[0m     \u001b[0;32mif\u001b[0m \u001b[0mexclude_dims\u001b[0m \u001b[0;32mand\u001b[0m \u001b[0;32mnot\u001b[0m \u001b[0mexclude_dims\u001b[0m \u001b[0;34m<=\u001b[0m \u001b[0msignature\u001b[0m\u001b[0;34m.\u001b[0m\u001b[0mall_core_dims\u001b[0m\u001b[0;34m:\u001b[0m\u001b[0;34m\u001b[0m\u001b[0;34m\u001b[0m\u001b[0m\n\u001b[0;32m--> 998\u001b[0;31m         raise ValueError(\n\u001b[0m\u001b[1;32m    999\u001b[0m             \u001b[0;34m\"each dimension in `exclude_dims` must also be a \"\u001b[0m\u001b[0;34m\u001b[0m\u001b[0;34m\u001b[0m\u001b[0m\n\u001b[1;32m   1000\u001b[0m             \u001b[0;34m\"core dimension in the function signature\"\u001b[0m\u001b[0;34m\u001b[0m\u001b[0;34m\u001b[0m\u001b[0m\n",
      "\u001b[0;31mValueError\u001b[0m: each dimension in `exclude_dims` must also be a core dimension in the function signature"
     ]
    }
   ],
   "source": [
    "xr.apply_ufunc(np.digitize, xr_array_chunked, mybins, output_dtypes=[np.int64], dask='parallelized', \n",
    "               input_core_dims=[[], []],#\"ind\"], [\"ind\"]],  # list with one entry per arg\n",
    "               output_core_dims=[[]],#[\"ind\"]],\n",
    "               exclude_dims=set((\"ind\",)) )  # dimensions allowed to change size. Must be set!"
   ]
  }
 ],
 "metadata": {
  "kernelspec": {
   "display_name": "Nawdex-Hackathon",
   "language": "python",
   "name": "nawdex-hackathon"
  },
  "language_info": {
   "codemirror_mode": {
    "name": "ipython",
    "version": 3
   },
   "file_extension": ".py",
   "mimetype": "text/x-python",
   "name": "python",
   "nbconvert_exporter": "python",
   "pygments_lexer": "ipython3",
   "version": "3.8.5"
  }
 },
 "nbformat": 4,
 "nbformat_minor": 4
}
