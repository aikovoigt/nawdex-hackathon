{
 "cells": [
  {
   "cell_type": "markdown",
   "metadata": {},
   "source": [
    "# Example of reading ICON-NWP Nawdex simulations, grid and extpar file for Hackathon\n",
    "\n",
    "0. Set up dask infrastructure\n",
    "1. Read data\n",
    "2. Plot mao of total cloud cover for single time step\n",
    "3. Calculate spatial mean, and plot time series of spatial-mean total cloud cover\n",
    "\n",
    "Aiko Voigt, KIT; July 2020"
   ]
  },
  {
   "cell_type": "code",
   "execution_count": 1,
   "metadata": {},
   "outputs": [],
   "source": [
    "import numpy as np\n",
    "import matplotlib.pyplot as plt\n",
    "import xarray as xr"
   ]
  },
  {
   "cell_type": "markdown",
   "metadata": {},
   "source": [
    "## Setup parallel infrastructure: \n",
    "\n",
    "One compute node with 8 workers, each having access to 6 threads (so each worker can run at up to 600% CPU)"
   ]
  },
  {
   "cell_type": "code",
   "execution_count": 2,
   "metadata": {},
   "outputs": [],
   "source": [
    "from tempfile import NamedTemporaryFile, TemporaryDirectory # Creating temporary Files/Dirs\n",
    "\n",
    "import dask # Distributed data libary\n",
    "from dask_jobqueue import SLURMCluster # Setting up distributed memories via slurm\n",
    "from distributed import Client, progress, wait # Libaray to orchestrate distributed resources"
   ]
  },
  {
   "cell_type": "code",
   "execution_count": 3,
   "metadata": {},
   "outputs": [],
   "source": [
    "# Set some user specific variables\n",
    "account_name = 'bb1018'\n",
    "partition = 'compute'\n",
    "job_name = 'nawdexProc' # Job name that is submitted via sbatch\n",
    "memory = '64GiB' # Max memory per node that is going to be used - this depends on the partition\n",
    "cores = 48 # Max number of cores per that are reserved - also partition dependent\n",
    "walltime = '01:00:00' #'12:00:00' # Walltime - also partition dependent"
   ]
  },
  {
   "cell_type": "code",
   "execution_count": 4,
   "metadata": {},
   "outputs": [],
   "source": [
    "scratch_dir = '/scratch/b/b380459/' # Define the users scratch dir\n",
    "# Create a temp directory where the output of distributed cluster will be written to, after this notebook\n",
    "# is closed the temp directory will be closed\n",
    "dask_scratch_dir = TemporaryDirectory(dir=scratch_dir, prefix=job_name)\n",
    "cluster = SLURMCluster(memory=memory,\n",
    "                       cores=cores,\n",
    "                       project=account_name,\n",
    "                       walltime=walltime,\n",
    "                       queue=partition,\n",
    "                       name=job_name,\n",
    "                       processes=8,\n",
    "                       scheduler_options={'dashboard_address': ':12435'},\n",
    "                       local_directory=dask_scratch_dir.name,\n",
    "                       job_extra=[f'-J {job_name}', \n",
    "                                  f'-D {dask_scratch_dir.name}',\n",
    "                                  f'--begin=now',\n",
    "                                  f'--output={dask_scratch_dir.name}/LOG_cluster.%j.o',\n",
    "                                  f'--output={dask_scratch_dir.name}/LOG_cluster.%j.o'\n",
    "                                 ],\n",
    "                       interface='ib0')"
   ]
  },
  {
   "cell_type": "code",
   "execution_count": 5,
   "metadata": {},
   "outputs": [
    {
     "name": "stdout",
     "output_type": "stream",
     "text": [
      "#!/usr/bin/env bash\n",
      "\n",
      "#SBATCH -J dask-worker\n",
      "#SBATCH -p compute\n",
      "#SBATCH -A bb1018\n",
      "#SBATCH -n 1\n",
      "#SBATCH --cpus-per-task=48\n",
      "#SBATCH --mem=64G\n",
      "#SBATCH -t 01:00:00\n",
      "#SBATCH -J nawdexProc\n",
      "#SBATCH -D /scratch/b/b380459/nawdexProch791q3ji\n",
      "#SBATCH --begin=now\n",
      "#SBATCH --output=/scratch/b/b380459/nawdexProch791q3ji/LOG_cluster.%j.o\n",
      "#SBATCH --output=/scratch/b/b380459/nawdexProch791q3ji/LOG_cluster.%j.o\n",
      "\n",
      "JOB_ID=${SLURM_JOB_ID%;*}\n",
      "\n",
      "/pf/b/b380459/conda-envs/Nawdex-Hackathon/bin/python -m distributed.cli.dask_worker tcp://10.50.40.18:45541 --nthreads 6 --nprocs 8 --memory-limit 8.59GB --name name --nanny --death-timeout 60 --local-directory /scratch/b/b380459/nawdexProch791q3ji --interface ib0\n",
      "\n"
     ]
    }
   ],
   "source": [
    "print(cluster.job_script())"
   ]
  },
  {
   "cell_type": "code",
   "execution_count": 6,
   "metadata": {},
   "outputs": [
    {
     "data": {
      "application/vnd.jupyter.widget-view+json": {
       "model_id": "bfad036b514d4dc88805fb2a5ba8a6f2",
       "version_major": 2,
       "version_minor": 0
      },
      "text/plain": [
       "VBox(children=(HTML(value='<h2>nawdexProc</h2>'), HBox(children=(HTML(value='\\n<div>\\n  <style scoped>\\n    .d…"
      ]
     },
     "metadata": {},
     "output_type": "display_data"
    }
   ],
   "source": [
    "cluster.scale(jobs=1)\n",
    "cluster"
   ]
  },
  {
   "cell_type": "code",
   "execution_count": 15,
   "metadata": {},
   "outputs": [
    {
     "name": "stdout",
     "output_type": "stream",
     "text": [
      "             JOBID PARTITION     NAME     USER ST       TIME  NODES NODELIST(REASON)\n",
      "          22803833    shared spawner-  b380459  R    1:02:46      1 m11298\n"
     ]
    }
   ],
   "source": [
    "! squeue -u $USER #--start"
   ]
  },
  {
   "cell_type": "code",
   "execution_count": 10,
   "metadata": {},
   "outputs": [
    {
     "data": {
      "text/html": [
       "<table style=\"border: 2px solid white;\">\n",
       "<tr>\n",
       "<td style=\"vertical-align: top; border: 0px solid white\">\n",
       "<h3 style=\"text-align: left;\">Client</h3>\n",
       "<ul style=\"text-align: left; list-style: none; margin: 0; padding: 0;\">\n",
       "  <li><b>Scheduler: </b>tcp://10.50.40.18:45541</li>\n",
       "  <li><b>Dashboard: </b><a href='http://10.50.40.18:8787/status' target='_blank'>http://10.50.40.18:8787/status</a></li>\n",
       "</ul>\n",
       "</td>\n",
       "<td style=\"vertical-align: top; border: 0px solid white\">\n",
       "<h3 style=\"text-align: left;\">Cluster</h3>\n",
       "<ul style=\"text-align: left; list-style:none; margin: 0; padding: 0;\">\n",
       "  <li><b>Workers: </b>0</li>\n",
       "  <li><b>Cores: </b>0</li>\n",
       "  <li><b>Memory: </b>0 B</li>\n",
       "</ul>\n",
       "</td>\n",
       "</tr>\n",
       "</table>"
      ],
      "text/plain": [
       "<Client: 'tcp://10.50.40.18:45541' processes=0 threads=0, memory=0 B>"
      ]
     },
     "execution_count": 10,
     "metadata": {},
     "output_type": "execute_result"
    }
   ],
   "source": [
    "dask_client = Client(cluster)\n",
    "dask_client"
   ]
  },
  {
   "cell_type": "markdown",
   "metadata": {},
   "source": [
    "## Helper function for loading data"
   ]
  },
  {
   "cell_type": "code",
   "execution_count": 15,
   "metadata": {},
   "outputs": [],
   "source": [
    "def load_iconsimulation(expid,gridres):\n",
    "    \n",
    "    print('Working on loading data for', expid)\n",
    "    path  = '/scratch/b/b380459/icon_4_hackathon/'\n",
    "    \n",
    "    # 2d datasets\n",
    "    fname = path+'/'+expid+'/'+expid+'_2016*_2d_30min_DOM01_ML_*.nc'\n",
    "    print(fname)\n",
    "    ds_2d_30min = ( xr.open_mfdataset(fname,\n",
    "                                      combine='by_coords',parallel=True, \n",
    "                                      engine='h5netcdf', chunks={'time': 1})\n",
    "                    [['clct', 'tqv_dia', 'tqc_dia', 'tqi_dia']] )\n",
    "    \n",
    "    # grid dataset\n",
    "    fname = path+'/grids/icon-grid_nawdex_78w40e23n80n_'+gridres+'.nc'\n",
    "    ds_grid = ( xr.open_dataset(fname)\n",
    "               [['cell_area','clat','clon','clon_vertices','clat_vertices',\n",
    "                 'vlon','vlat','vertex_of_cell', 'vertex']].rename({'cell': 'ncells'}) ) \n",
    "    # we need to subtract -1 from vertex_of_cell as python starts counting at 0, but fortran starts at 1\n",
    "    ds_grid['vertex_of_cell'] = ds_grid['vertex_of_cell'] - 1 \n",
    "   \n",
    "    # get land-sea mask from extpar data\n",
    "    fname = path+'/extpar/extpar_icon-grid_nawdex_78w40e23n80n_'+gridres+'_bitmap.nc'\n",
    "    ds_extp = xr.open_dataset(fname)[['FR_LAND']].rename({'cell': 'ncells'})\n",
    "    \n",
    "    # merge datasets\n",
    "    ds = xr.merge([ds_2d_30min, ds_grid, ds_extp])\n",
    "        \n",
    "    # convert grid from radians to degrees\n",
    "    ds['clon'] = np.rad2deg(ds['clon'])\n",
    "    ds['clat'] = np.rad2deg(ds['clat'])\n",
    "    ds['vlon'] = np.rad2deg(ds['vlon'])\n",
    "    ds['vlat'] = np.rad2deg(ds['vlat'])\n",
    "    ds['clon_vertices'] = np.rad2deg(ds['clon_vertices'])\n",
    "    ds['clat_vertices'] = np.rad2deg(ds['clat_vertices'])\n",
    "    \n",
    "    return ds"
   ]
  },
  {
   "cell_type": "markdown",
   "metadata": {},
   "source": [
    "## Load data from 80km simulation starting on Sep 22, 2016 and using 1-moment microphysics"
   ]
  },
  {
   "cell_type": "code",
   "execution_count": 16,
   "metadata": {},
   "outputs": [
    {
     "name": "stdout",
     "output_type": "stream",
     "text": [
      "Working on loading data for nawdexnwp-80km-mis-0001\n",
      "/scratch/b/b380459/icon_4_hackathon//nawdexnwp-80km-mis-0001/nawdexnwp-80km-mis-0001_2016*_2d_30min_DOM01_ML_*.nc\n"
     ]
    }
   ],
   "source": [
    "ds = load_iconsimulation('nawdexnwp-80km-mis-0001','R80000m')"
   ]
  },
  {
   "cell_type": "markdown",
   "metadata": {},
   "source": [
    "## Plot on triangular grid\n",
    "\n",
    "For illustration, we plot total cloud cover at time step with index 100."
   ]
  },
  {
   "cell_type": "code",
   "execution_count": 17,
   "metadata": {},
   "outputs": [
    {
     "data": {
      "image/png": "[encoded data removed]",
      "text/plain": [
       "<Figure size 432x288 with 2 Axes>"
      ]
     },
     "metadata": {
      "needs_background": "light"
     },
     "output_type": "display_data"
    }
   ],
   "source": [
    "plt.tricontourf(ds.clon, ds.clat, ds['clct'].isel(time=100));\n",
    "plt.colorbar();"
   ]
  },
  {
   "cell_type": "markdown",
   "metadata": {},
   "source": [
    "Domain-mean over 50W-10E, 30-70N of swtoacre and clct"
   ]
  },
  {
   "cell_type": "markdown",
   "metadata": {},
   "source": [
    "## Spatial mean over time\n",
    "\n",
    "Be careful to only use triangles far enough from the boundaries ..."
   ]
  },
  {
   "cell_type": "code",
   "execution_count": 18,
   "metadata": {},
   "outputs": [],
   "source": [
    "icells = np.where((ds.clat<70.0) & (ds.clat>30.0) &\n",
    "                  (ds.clon<10.0) & (ds.clon>-50.0))[0]\n",
    "ds_aux = ds.isel(ncells=icells)\n",
    "weights=ds['cell_area']/(ds['cell_area']).sum(dim=['ncells'])\n",
    "ds_mean = (ds*weights).sum(dim=['ncells'])"
   ]
  },
  {
   "cell_type": "markdown",
   "metadata": {},
   "source": [
    "## Plot timeseries of mean total cloud cover"
   ]
  },
  {
   "cell_type": "code",
   "execution_count": 19,
   "metadata": {},
   "outputs": [
    {
     "data": {
      "image/png": "[encoded data removed]",
      "text/plain": [
       "<Figure size 432x288 with 1 Axes>"
      ]
     },
     "metadata": {
      "needs_background": "light"
     },
     "output_type": "display_data"
    }
   ],
   "source": [
    "plt.plot(ds.time, ds_mean['clct']);"
   ]
  },
  {
   "cell_type": "markdown",
   "metadata": {},
   "source": [
    "## Clean up"
   ]
  },
  {
   "cell_type": "code",
   "execution_count": 13,
   "metadata": {},
   "outputs": [],
   "source": [
    "cluster.close()"
   ]
  },
  {
   "cell_type": "markdown",
   "metadata": {},
   "source": [
    "## And now: have fun!"
   ]
  }
 ],
 "metadata": {
  "kernelspec": {
   "display_name": "Nawdex-Hackathon",
   "language": "python",
   "name": "nawdex-hackathon"
  },
  "language_info": {
   "codemirror_mode": {
    "name": "ipython",
    "version": 3
   },
   "file_extension": ".py",
   "mimetype": "text/x-python",
   "name": "python",
   "nbconvert_exporter": "python",
   "pygments_lexer": "ipython3",
   "version": "3.8.5"
  }
 },
 "nbformat": 4,
 "nbformat_minor": 4
}
