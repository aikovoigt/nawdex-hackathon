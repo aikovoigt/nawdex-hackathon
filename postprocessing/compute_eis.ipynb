{
 "cells": [
  {
   "cell_type": "markdown",
   "metadata": {},
   "source": [
    "# Calculate lower tropospheric stability LTS and estimated inversion strength EIS\n",
    "\n",
    "For EIS, the lifting condensation level LCL is calculated following G. S. Stipanuk, 1973, Algorithms for generating a skew-t, log p diagram and computing selected meteorological quantities\", Atmospheric Sciences Laboratory, U.S. Army Electronics Command, White Sands Missile Range, New Mexico 88002.\n",
    "\n",
    "Note that the same approach is used in the NCL function lclvl, https://www.ncl.ucar.edu/Document/Functions/Built-in/lclvl.shtml."
   ]
  },
  {
   "cell_type": "markdown",
   "metadata": {},
   "source": [
    "## For reference: the following block is the NCL implementation in Fortran taken from ncl_ncarg-6.6.2."
   ]
  },
  {
   "cell_type": "raw",
   "metadata": {},
   "source": [
    "C NCLFORTSTART\n",
    "      SUBROUTINE DLCLPRS(P,TK,TDK,PLCL)\n",
    "      IMPLICIT NONE\n",
    "\n",
    "C NCL:  plcl = lclvl (p,tk,tdk)\n",
    "\n",
    "c input\n",
    "      DOUBLE PRECISION P,TK,TDK\n",
    "c output\n",
    "      DOUBLE PRECISION PLCL\n",
    "c NCLEND\n",
    "\n",
    "c     g.s. stipanuk     1973      \t  original version.\n",
    "c     reference stipanuk paper entitled:\n",
    "c            \"algorithms for generating a skew-t, log p\n",
    "c          diagram and computing selected meteorological\n",
    "c          quantities.\"\n",
    "c          atmospheric sciences laboratory\n",
    "c          u.s. army electronics command\n",
    "c          white sands missile range, new mexico 88002\n",
    "c          33 pages\n",
    "c\n",
    "c   this function returns the pressure plcl (mb/hPa) of the lifting\n",
    "c   condensation level (lcl) for a parcel initially at temperature\n",
    "c   tk (K) dew point tdk (K) and pressure p (mb/hPa). plcl is computed\n",
    "c   by an iterative procedure described by eqs. 8-12 in stipanuk\n",
    "c   (1973), pp.13-14.\n",
    "\n",
    "      INTEGER I\n",
    "      DOUBLE PRECISION TNOT,RCP,TC,TDC,ES,ES0,WS,PTK,X,PI\n",
    "      DOUBLE PRECISION C1,C2,C3,C4,C5,C6,TDAC,TMRK,TMRC,Z\n",
    "\n",
    "      DATA TNOT/273.15D0/\n",
    "      DATA RCP/0.286D0/\n",
    "      DATA ES0/6.1121D0/\n",
    "      DATA C1/.0498646455D0/,C2/2.4082965D0/,C3/7.07475D0/\n",
    "      DATA C4/38.9114D0/,C5/.0915D0/,C6/1.2035D0/\n",
    "\n",
    "      TC = TK - TNOT\n",
    "      TDC = TDK - TNOT\n",
    "\n",
    "c   determine the mixing ratio line through td and p.\n",
    "c\n",
    "c   the \"es\" statement returns the saturation vapor pressure es (mb)\n",
    "c   over liquid water given a temperature t (celsius). the formula\n",
    "c   appears bolton, david, 1980: \"the computation of equivalent\n",
    "c   potential temperature,\" monthly weather review, vol. 108,\n",
    "c   no. 7 (july), p. 1047, eq.(10). the quoted accuracy is 0.3%\n",
    "c   or better for -35 < t < 35c.\n",
    "\n",
    "      ES = ES0*EXP(17.67D0*TDC/ (TDC+243.5D0))\n",
    "\n",
    "c   saturation mix ratio\n",
    "\n",
    "      WS = 622.D0*ES/ (P-ES)\n",
    "\n",
    "c   determine the dry adiabat through t and p (ie: potential\n",
    "c   temperature)\n",
    "\n",
    "      PTK = TK* ((1000.D0/P)**RCP)\n",
    "\n",
    "c   iterate to locate pressure pi at the intersection of the two\n",
    "c   curves. pi has been set to p for the initial guess.\n",
    "\n",
    "c   tdac - temp [C] on a dry adiabat at p [mb/hPa] where the dry\n",
    "c          adibat is given by the potential temperature.\n",
    "c   tmrc - temperature on a mix ratio line [ws] at pressure p [hPa]\n",
    "\n",
    "    3 PI = P\n",
    "      DO I = 1,10\n",
    "          TDAC = PTK* ((PI/1000.D0)**RCP) - TNOT\n",
    "\n",
    "          Z = DLOG10(WS*PI/ (622.D0+WS))\n",
    "          TMRK = 10.D0** (C1*Z+C2) - C3 +\n",
    "     +           C4* ((10.D0** (C5*Z)-C6)**2.D0)\n",
    "          TMRC = TMRK - TNOT\n",
    "\n",
    "          X = .02D0* (TMRC-TDAC)\n",
    "          IF (ABS(X).LT.0.01D0) GO TO 5\n",
    "          PI = PI* (2.D0** (X))\n",
    "      END DO\n",
    "\n",
    "    5 PLCL = PI\n",
    "      RETURN\n",
    "\n",
    "c       entry alclm(t,td,p)\n",
    "c   for entry alclm only, t is the mean potential temperature (celsius)\n",
    "c   and td is the mean mixing ratio (g/kg) of the layer containing the\n",
    "c   parcel.\n",
    "\n",
    "c       aw = td\n",
    "c       ao = t\n",
    "c       go to 3\n",
    "      END"
   ]
  },
  {
   "cell_type": "markdown",
   "metadata": {},
   "source": [
    "## Prepare python infrastructure"
   ]
  },
  {
   "cell_type": "code",
   "execution_count": 1,
   "metadata": {},
   "outputs": [],
   "source": [
    "import xarray as xr\n",
    "import dask\n",
    "import numpy as np"
   ]
  },
  {
   "cell_type": "code",
   "execution_count": 2,
   "metadata": {},
   "outputs": [
    {
     "data": {
      "text/html": [
       "<table style=\"border: 2px solid white;\">\n",
       "<tr>\n",
       "<td style=\"vertical-align: top; border: 0px solid white\">\n",
       "<h3 style=\"text-align: left;\">Client</h3>\n",
       "<ul style=\"text-align: left; list-style: none; margin: 0; padding: 0;\">\n",
       "  <li><b>Scheduler: </b>tcp://127.0.0.1:44367</li>\n",
       "  <li><b>Dashboard: </b><a href='http://127.0.0.1:8787/status' target='_blank'>http://127.0.0.1:8787/status</a></li>\n",
       "</ul>\n",
       "</td>\n",
       "<td style=\"vertical-align: top; border: 0px solid white\">\n",
       "<h3 style=\"text-align: left;\">Cluster</h3>\n",
       "<ul style=\"text-align: left; list-style:none; margin: 0; padding: 0;\">\n",
       "  <li><b>Workers: </b>8</li>\n",
       "  <li><b>Cores: </b>48</li>\n",
       "  <li><b>Memory: </b>134.22 GB</li>\n",
       "</ul>\n",
       "</td>\n",
       "</tr>\n",
       "</table>"
      ],
      "text/plain": [
       "<Client: 'tcp://127.0.0.1:44367' processes=8 threads=48, memory=134.22 GB>"
      ]
     },
     "execution_count": 2,
     "metadata": {},
     "output_type": "execute_result"
    }
   ],
   "source": [
    "from dask.distributed import Client\n",
    "client = Client()\n",
    "client"
   ]
  },
  {
   "cell_type": "markdown",
   "metadata": {},
   "source": [
    "## Load dictionary will all simulations"
   ]
  },
  {
   "cell_type": "code",
   "execution_count": 4,
   "metadata": {},
   "outputs": [],
   "source": [
    "import sys\n",
    "sys.path.append('/pf/b/b380459/nawdex-hackathon/shared')\n",
    "import dict_nawdexsims\n",
    "\n",
    "simdict   = dict_nawdexsims.simdictionary()"
   ]
  },
  {
   "cell_type": "code",
   "execution_count": null,
   "metadata": {},
   "outputs": [],
   "source": [
    "# constants declaration for lifitng condesation level\n",
    "\n",
    "TNOT = 273.15\n",
    "RCP = 0.286\n",
    "ES0 = 6.1121\n",
    "C1 = 0.0498646455\n",
    "C2 = 2.4082965\n",
    "C3 = 7.07475\n",
    "C4 = 38.9114\n",
    "C5 = 0.0915\n",
    "C6 = 1.2035\n",
    "\n",
    "# constants declaration for adiabatic laps rate\n",
    "\n",
    "Lv  = 2470000. #; J kg-1\n",
    "Cp  =  1015.   #; J kg K-1\n",
    "gr  =  9.8     #; m/s2\n",
    "Rv  = 461.5    #; J/kg K\n",
    "Ra  = 286.9    #; J/kg K\n"
   ]
  },
  {
   "cell_type": "code",
   "execution_count": null,
   "metadata": {},
   "outputs": [],
   "source": [
    "def load_data(expid):\n",
    "    \n",
    "    path  = '/scratch/b/b380459/icon_4_hackathon/'\n",
    "    fname = path+'/'+expid+'/'+expid+'_2016*_fg_DOM01_ML_*.nc'\n",
    "    ds = ( xr.open_mfdataset(fname, combine='by_coords',parallel=True, \n",
    "                             engine='h5netcdf', chunks={'time': 1})\n",
    "           [['temp', 'pres', 'td_2m', 'z_ifc']].rename({'ncells_2': 'ncells'}) )\n",
    "\n",
    "    return ds"
   ]
  },
  {
   "cell_type": "markdown",
   "metadata": {},
   "source": [
    "Note: Level with index 17 is at 1.5km height above ocean, Level with index 52 is at 3km height above ocean, level with index 74 is the surface. We use a fixed height level here because we intend to only look at the ocean points later."
   ]
  },
  {
   "cell_type": "markdown",
   "metadata": {},
   "source": [
    "zLCL calculated based on Stipanuk, G.S., (1973) original version.\"Algorithms for generating a skew-t, log p diagram and computing selected meteorological quantities.\""
   ]
  },
  {
   "cell_type": "code",
   "execution_count": null,
   "metadata": {},
   "outputs": [],
   "source": [
    "\n",
    "def ZLCL(TK,TDK,P):\n",
    "    ### unit conversion from K to C\n",
    "    TC = TK - TNOT\n",
    "    TDC = TDK - TNOT\n",
    "\n",
    "    ## determine the mixing ratio line through td and p. \n",
    "    ES = ES0*np.exp(17.67*TDC/ (TDC+243.5))\n",
    "\n",
    "    ## saturation mix ratio ##same as qs\n",
    "    WS = 622.*ES/ (P-ES)\n",
    "\n",
    "    ## determine the dry adiabat through t and p (ie: potential temperature)\n",
    "    PTK = TK* ((1000./P)**RCP)\n",
    "\n",
    "    ## iterate to locate pressure pi at the intersection of the two curves. \n",
    "    ## pi has been set to p for the initial guess.\n",
    "    ## tdac - temp [C] on a dry adiabat at p where the dry adibat is given by the potential temperature.\n",
    "    ## tmrc - temperature on a mix ratio line [ws] at pressure p \n",
    "    TDAC = PTK* ((P/1000.)**RCP) - TNOT\n",
    "    Z = np.log10(WS*P/ (622.+WS))\n",
    "    TMRK = 10.** (C1*Z+C2) - C3 + C4* ((10.** (C5*Z)-C6)**2.)\n",
    "    TMRC = TMRK - TNOT\n",
    "    X = 0.02* (TMRC-TDAC)\n",
    "    PLCL = P.where(np.abs(X) < 0.01, P* 2.**(X))\n",
    "\n",
    "    ZLCL = (Ra/gr)*TK*np.log((P/PLCL))\n",
    "    return ZLCL,WS\n"
   ]
  },
  {
   "cell_type": "code",
   "execution_count": null,
   "metadata": {},
   "outputs": [],
   "source": [
    "## load TK (temperature) and TDK (dew point temperature)\n",
    "#T850 = load_data('nawdexnwp-80km-mis-0001')['temp'].isel(height=17) ### temperature at 850hPa\n",
    "#TK = load_data('nawdexnwp-80km-mis-0001')['temp'].isel(height=74) ### temperature at surface\n",
    "#TDK = load_data('nawdexnwp-80km-mis-0001')['td_2m'] ###dew point temperature at surface\n",
    "#P = load_data('nawdexnwp-80km-mis-0001')['pres'].isel(height=74) ### pressure at surface\n",
    "#z700 = load_data('nawdexnwp-80km-mis-0001')['z_ifc'].isel(height=52) ### height at 700hPa=3km\n"
   ]
  },
  {
   "cell_type": "code",
   "execution_count": null,
   "metadata": {},
   "outputs": [],
   "source": [
    "for sim in list(simdict.keys()):\n",
    "    print('Working on:', sim)\n",
    "    ds = load_data(sim)\n",
    "    #ds = ds.isel(height=[17,52,74])\n",
    "    \n",
    "    ds['theta'] = ds['temp'] * (100000./ds['pres'])**(Ra/Cp)\n",
    "    ds['lts'] = (ds['theta'].isel(height=74) - ds['theta'].isel(height=52) ) / 3000.\n",
    "    del ds['theta']\n",
    "    \n",
    "    T850 = ds['temp'].isel(height=17) ### temperature at 850hPa\n",
    "    \n",
    "    zlcl,_ = ZLCL(ds['temp'].isel(height=74), ds['td_2m'], ds['pres'].isel(height=74))\n",
    "    _,WS = ZLCL(ds['temp'].isel(height=74), ds['td_2m'], ds['pres'].isel(height=74))\n",
    "    \n",
    "    Gamma = (gr/Cp)*(1-(1+Lv*WS/Ra/(T850+273.15))/(1+Lv*Lv*WS/Cp/Rv/(T850+273.15)/(T850+273.15)))\n",
    "    del WS, ds['temp'], ds['td_2m'], ds['pres']\n",
    "    \n",
    "    z700 = ds['z_ifc'].isel(height_3=52) ### height at 700hPa=3km\n",
    "\n",
    "    ds['eis'] = ds['lts'] - Gamma * (z700 - zlcl)\n",
    "    \n",
    "\n",
    "    ds = ds.drop(['temp', 'pres', 'td_2m', 'z_ifc','lts'])\n",
    "    ds.attrs['units'] = 'Kelvin m-1'\n",
    "    ds.attrs['description'] = 'estimated inversion strength according to Stipanuk, G.S., 1973, doi: 10.21236/ad0769739'\n",
    "    ds.attrs['simulation'] = sim\n",
    "    # store to zarr store\n",
    "    zarr_store = '/scratch/b/b380459/icon_4_hackathon/temp/eis_'+sim+'.zarr'\n",
    "    # remove any zarr_store with same name that might have been created previously\n",
    "    shutil.rmtree(zarr_store, ignore_errors=True)\n",
    "    ds.to_zarr(zarr_store)\n",
    "    "
   ]
  },
  {
   "cell_type": "markdown",
   "metadata": {},
   "source": [
    "Clean up"
   ]
  },
  {
   "cell_type": "code",
   "execution_count": null,
   "metadata": {},
   "outputs": [],
   "source": [
    "client.close()"
   ]
  }
 ],
 "metadata": {
  "kernelspec": {
   "display_name": "Nawdex-Hackathon",
   "language": "python",
   "name": "nawdex-hackathon"
  },
  "language_info": {
   "codemirror_mode": {
    "name": "ipython",
    "version": 3
   },
   "file_extension": ".py",
   "mimetype": "text/x-python",
   "name": "python",
   "nbconvert_exporter": "python",
   "pygments_lexer": "ipython3",
   "version": "3.8.6"
  }
 },
 "nbformat": 4,
 "nbformat_minor": 4
}
