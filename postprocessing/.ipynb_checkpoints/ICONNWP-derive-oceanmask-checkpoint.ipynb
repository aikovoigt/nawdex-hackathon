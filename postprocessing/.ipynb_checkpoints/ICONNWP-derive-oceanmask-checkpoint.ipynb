{
 "cells": [
  {
   "cell_type": "markdown",
   "metadata": {},
   "source": [
    "# Derive mask for ocean grid boxes for ICON-NWP runs based on external parameter data\n",
    "\n",
    "We build a time-constant mask of ocean grid cells using the variable 'FR\\_LAND' of the external parameter file. We do so for all horizontal resolutions ranging from 80km ot 2.5km, where we work on the interpolated 1deg x 1deg longitude-latitude grid. We classify a grid cell as ocean only if 'FR\\_LAND'==0, i.e., we exclude cells with only partial ocean coverage. It should also be noted that sea-ice cover is not taken into account here as it is not part of the external parameter but of the time dependent model output. Therefore, a cell classified as ocean can be covered by sea ice, and so is not necessarily an open ocean cell.\n",
    "\n",
    "We first construct an ocean mask for each resolution individually and then a joint open mask. The joint open mask is constructed in a conservative manner: an cell is classified as ocean only if it is classified as ocean for all resolutions. Finally, the joint mask is saved to a netcdf file.\n",
    "\n",
    "The notebook is written for Mistral at DKRZ."
   ]
  },
  {
   "cell_type": "code",
   "execution_count": 1,
   "metadata": {},
   "outputs": [],
   "source": [
    "import numpy as np\n",
    "import xarray as xr"
   ]
  },
  {
   "cell_type": "markdown",
   "metadata": {},
   "source": [
    "Construct an ocean mask for each resolution."
   ]
  },
  {
   "cell_type": "code",
   "execution_count": 2,
   "metadata": {},
   "outputs": [],
   "source": [
    "mask_list=[]\n",
    "for res in ['80000', '40000', '20000', '10000', '5000', '2500']:\n",
    "    mask = ( xr.open_dataset('/work/bb1018/b380459/NAWDEX/extpar/'\n",
    "                           'extpar_icon-grid_nawdex_78w40e23n80n_R'+res+'m_bitmap.gridr1x1.nc')\n",
    "           ['FR_LAND'] )\n",
    "    mask_list.append(mask)\n",
    "    del mask"
   ]
  },
  {
   "cell_type": "markdown",
   "metadata": {},
   "source": [
    "Construct the joint ocean mask: only count points where all resolutions have 'FR_LAND'==0. Also rename to oceanmask."
   ]
  },
  {
   "cell_type": "code",
   "execution_count": 3,
   "metadata": {},
   "outputs": [],
   "source": [
    "jointmask = mask_list[0]\n",
    "for mask in mask_list[1:]:\n",
    "    jointmask = xr.ufuncs.maximum(jointmask, mask).compute()\n",
    "\n",
    "jointmask = 1.0 - xr.ufuncs.ceil(jointmask)    \n",
    "\n",
    "jointmask = jointmask.rename('oceanmask')"
   ]
  },
  {
   "cell_type": "markdown",
   "metadata": {},
   "source": [
    "Save joint mask to netcdf file."
   ]
  },
  {
   "cell_type": "code",
   "execution_count": 4,
   "metadata": {},
   "outputs": [],
   "source": [
    "jointmask.to_netcdf('/work/bb1018/b380459/NAWDEX/extpar/jointoceanmask_80km-to-2km.gridr1x1.nc')"
   ]
  },
  {
   "cell_type": "markdown",
   "metadata": {},
   "source": [
    "Plot joint mask for illustration."
   ]
  },
  {
   "cell_type": "code",
   "execution_count": 5,
   "metadata": {},
   "outputs": [
    {
     "data": {
      "text/plain": [
       "<matplotlib.colorbar.Colorbar at 0x2b993cbb5670>"
      ]
     },
     "execution_count": 5,
     "metadata": {},
     "output_type": "execute_result"
    },
    {
     "data": {
      "image/png": "[encoded data removed]",
      "text/plain": [
       "<Figure size 432x288 with 2 Axes>"
      ]
     },
     "metadata": {
      "needs_background": "light"
     },
     "output_type": "display_data"
    }
   ],
   "source": [
    "import matplotlib.pyplot as plt\n",
    "\n",
    "lons = np.hstack([jointmask.lon.values-0.5, jointmask.lon.values[-1]+0.5])\n",
    "lats = np.hstack([jointmask.lat.values-0.5, jointmask.lat.values[-1]+0.5])\n",
    "\n",
    "plt.pcolormesh(lons, lats, jointmask)\n",
    "plt.colorbar()"
   ]
  }
 ],
 "metadata": {
  "kernelspec": {
   "display_name": "Nawdex-Hackathon",
   "language": "python",
   "name": "nawdex-hackathon"
  },
  "language_info": {
   "codemirror_mode": {
    "name": "ipython",
    "version": 3
   },
   "file_extension": ".py",
   "mimetype": "text/x-python",
   "name": "python",
   "nbconvert_exporter": "python",
   "pygments_lexer": "ipython3",
   "version": "3.8.5"
  }
 },
 "nbformat": 4,
 "nbformat_minor": 4
}
